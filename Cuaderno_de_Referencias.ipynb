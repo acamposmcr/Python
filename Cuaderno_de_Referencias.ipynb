{
  "nbformat": 4,
  "nbformat_minor": 0,
  "metadata": {
    "colab": {
      "name": "Cuaderno de Prácticas.ipynb",
      "provenance": [],
      "collapsed_sections": [
        "PY8mX0tpTuWO",
        "oLnVzqjdYVI9",
        "Xt3sTb1fcUU3",
        "d7WW1EtrdJ3r",
        "BkU2niCegBo9",
        "2UEIY2Cdj4hR",
        "RGP_lJ-fpB42",
        "d4Og4cmJBQ_5",
        "HIx3fZ1PSBgp",
        "C9goPJv0hSPk"
      ],
      "toc_visible": true,
      "include_colab_link": true
    },
    "kernelspec": {
      "name": "python3",
      "display_name": "Python 3"
    }
  },
  "cells": [
    {
      "cell_type": "markdown",
      "metadata": {
        "id": "view-in-github",
        "colab_type": "text"
      },
      "source": [
        "<a href=\"https://colab.research.google.com/github/acamposmcr/Python/blob/master/Cuaderno_de_Referencias.ipynb\" target=\"_parent\"><img src=\"https://colab.research.google.com/assets/colab-badge.svg\" alt=\"Open In Colab\"/></a>"
      ]
    },
    {
      "cell_type": "markdown",
      "metadata": {
        "id": "FxJm2n8hR7qM",
        "colab_type": "text"
      },
      "source": [
        "# Este es un cuarderno de prácticas de Jupyter Notebooks\n",
        "\n",
        "---\n",
        "\n",
        "Opción 1\n",
        "\n",
        "Opción 2\n",
        "\n",
        "Opción 3\n",
        "\n",
        "\n",
        "*   Elemento de lista\n",
        "*   Elemento de lista\n",
        "\n"
      ]
    },
    {
      "cell_type": "markdown",
      "metadata": {
        "id": "PY8mX0tpTuWO",
        "colab_type": "text"
      },
      "source": [
        "##Operadores"
      ]
    },
    {
      "cell_type": "code",
      "metadata": {
        "id": "aLXrUtGxRhCm",
        "colab_type": "code",
        "outputId": "9a8dd470-188a-425e-d5aa-6d7115bd071a",
        "colab": {
          "base_uri": "https://localhost:8080/"
        }
      },
      "source": [
        "#operaciones básicas\n",
        "print(2-2)\n",
        "print(2*6)\n",
        "5/2\n",
        "print(8+5)\n",
        "print() # esta línea imprime un espacio\n",
        "print(\"Todo lo que tenga print se imprime o si ha una operación de último\")\n",
        "#potencia\n",
        "print(5**2)\n",
        "#como la siguiente no funciona como potencia\n",
        "print(5^2)\n",
        "#raíz cuadrada\n",
        "print(25**(1/2))\n",
        "#raíz cúbica\n",
        "print(8**(1/3))\n",
        "#cociente de operacion 10 / 3\n",
        "print(10%3)\n"
      ],
      "execution_count": 0,
      "outputs": [
        {
          "output_type": "stream",
          "text": [
            "0\n",
            "12\n",
            "13\n",
            "\n",
            "Todo lo que tenga print se imprime o si ha una operación de último\n",
            "25\n",
            "7\n",
            "5.0\n",
            "2.0\n",
            "1\n"
          ],
          "name": "stdout"
        }
      ]
    },
    {
      "cell_type": "markdown",
      "metadata": {
        "id": "oLnVzqjdYVI9",
        "colab_type": "text"
      },
      "source": [
        "##Múltiples operaciones"
      ]
    },
    {
      "cell_type": "code",
      "metadata": {
        "id": "oof_uW8eT3kL",
        "colab_type": "code",
        "outputId": "d719d3bd-3074-4188-96e8-f7e97fec7115",
        "colab": {
          "base_uri": "https://localhost:8080/"
        }
      },
      "source": [
        "5*2+(8*4)/(8-2)"
      ],
      "execution_count": 0,
      "outputs": [
        {
          "output_type": "execute_result",
          "data": {
            "text/plain": [
              "15.333333333333332"
            ]
          },
          "metadata": {
            "tags": []
          },
          "execution_count": 2
        }
      ]
    },
    {
      "cell_type": "code",
      "metadata": {
        "id": "aQ4ixxyia8ue",
        "colab_type": "code",
        "outputId": "ac185256-7e52-4768-84be-74cdad5186ce",
        "colab": {
          "base_uri": "https://localhost:8080/"
        }
      },
      "source": [
        "print(type(2))\n",
        "print(type(2.0))\n",
        "type(10/2)\n",
        "print(round(10/3,2))"
      ],
      "execution_count": 0,
      "outputs": [
        {
          "output_type": "stream",
          "text": [
            "<class 'int'>\n",
            "<class 'float'>\n",
            "3.33\n"
          ],
          "name": "stdout"
        }
      ]
    },
    {
      "cell_type": "markdown",
      "metadata": {
        "id": "Xt3sTb1fcUU3",
        "colab_type": "text"
      },
      "source": [
        "##formas de  redondear"
      ]
    },
    {
      "cell_type": "code",
      "metadata": {
        "id": "LL_1k2l0cW0U",
        "colab_type": "code",
        "outputId": "0762a816-503e-465b-c5cb-c36e5885de40",
        "colab": {
          "base_uri": "https://localhost:8080/",
          "height": 51
        }
      },
      "source": [
        "print(round(10/3))\n",
        "print(int(10/3))\n"
      ],
      "execution_count": 0,
      "outputs": [
        {
          "output_type": "stream",
          "text": [
            "3\n",
            "3\n"
          ],
          "name": "stdout"
        }
      ]
    },
    {
      "cell_type": "markdown",
      "metadata": {
        "id": "d7WW1EtrdJ3r",
        "colab_type": "text"
      },
      "source": [
        "## Variables"
      ]
    },
    {
      "cell_type": "code",
      "metadata": {
        "id": "K2uUeFUhdONh",
        "colab_type": "code",
        "outputId": "dc350bbd-6faa-4d18-b7ea-784d252f6d67",
        "colab": {
          "base_uri": "https://localhost:8080/"
        }
      },
      "source": [
        "var1 = 2\n",
        "print (type (var1))\n",
        "print (var1)\n",
        "print (var1*8)\n",
        "var1 = (var1 + 5)\n",
        "var1\n",
        "una_nueva_variable = 10 / var1\n",
        "print (una_nueva_variable)"
      ],
      "execution_count": 0,
      "outputs": [
        {
          "output_type": "stream",
          "text": [
            "<class 'int'>\n",
            "2\n",
            "16\n",
            "1.4285714285714286\n"
          ],
          "name": "stdout"
        }
      ]
    },
    {
      "cell_type": "markdown",
      "metadata": {
        "id": "BkU2niCegBo9",
        "colab_type": "text"
      },
      "source": [
        "##Cadenas de caracteres"
      ]
    },
    {
      "cell_type": "code",
      "metadata": {
        "id": "41VWZEdOgSIM",
        "colab_type": "code",
        "outputId": "89c3eba0-f2fb-4b7d-c11d-16f1a9a34924",
        "colab": {
          "base_uri": "https://localhost:8080/"
        }
      },
      "source": [
        "mensaje = 'Curso de ciencia de datos con Python 3'\n",
        "print(mensaje)\n",
        "print (type (mensaje))\n",
        "numero = '5555.123'\n",
        "print(numero)\n"
      ],
      "execution_count": 0,
      "outputs": [
        {
          "output_type": "stream",
          "text": [
            "Curso de ciencia de datos con Python 3\n",
            "<class 'str'>\n",
            "5555.123\n"
          ],
          "name": "stdout"
        }
      ]
    },
    {
      "cell_type": "code",
      "metadata": {
        "id": "R17CzSk1heRk",
        "colab_type": "code",
        "outputId": "b3563b14-3bea-493e-ec9a-9e8ba74b7673",
        "colab": {
          "base_uri": "https://localhost:8080/"
        }
      },
      "source": [
        "float (numero)\n"
      ],
      "execution_count": 0,
      "outputs": [
        {
          "output_type": "execute_result",
          "data": {
            "text/plain": [
              "5555.123"
            ]
          },
          "metadata": {
            "tags": []
          },
          "execution_count": 7
        }
      ]
    },
    {
      "cell_type": "code",
      "metadata": {
        "id": "xWqooLcZh6NW",
        "colab_type": "code",
        "outputId": "8a9ba2c2-af12-4668-8c2b-15fed4e52ecb",
        "colab": {
          "base_uri": "https://localhost:8080/"
        }
      },
      "source": [
        "\n",
        "nombre= \"Alexander\"\n",
        "apellido=\"Campos Monge\"\n",
        "print(\"Mi nombre es:\", nombre, \" y mi apellido es: \", apellido)"
      ],
      "execution_count": 0,
      "outputs": [
        {
          "output_type": "stream",
          "text": [
            "Mi nombre es: Alexander  y mi apellido es:  Campos Monge\n"
          ],
          "name": "stdout"
        }
      ]
    },
    {
      "cell_type": "code",
      "metadata": {
        "id": "WwTHYaq1io28",
        "colab_type": "code",
        "outputId": "a2b04cab-de9f-461d-d37d-cbe1c93fcf8a",
        "colab": {
          "base_uri": "https://localhost:8080/"
        }
      },
      "source": [
        "print(\"El tipo de dato de mi nombre es: \", type(nombre))"
      ],
      "execution_count": 0,
      "outputs": [
        {
          "output_type": "stream",
          "text": [
            "El tipo de dato de mi nombre es:  <class 'str'>\n"
          ],
          "name": "stdout"
        }
      ]
    },
    {
      "cell_type": "code",
      "metadata": {
        "id": "9hQX5PqcjU39",
        "colab_type": "code",
        "outputId": "e14bdc73-5e03-4526-dac9-27769d6b2f62",
        "colab": {
          "base_uri": "https://localhost:8080/"
        }
      },
      "source": [
        "#Otra forma es:\n",
        "print(\"Mi nombre es: {} y mi apellido es: {}\" .format(nombre,apellido))"
      ],
      "execution_count": 0,
      "outputs": [
        {
          "output_type": "stream",
          "text": [
            "Mi nombre es: Alexander y mi apellido es: Campos Monge\n"
          ],
          "name": "stdout"
        }
      ]
    },
    {
      "cell_type": "markdown",
      "metadata": {
        "id": "2UEIY2Cdj4hR",
        "colab_type": "text"
      },
      "source": [
        "##Booleanos y comparadores"
      ]
    },
    {
      "cell_type": "code",
      "metadata": {
        "id": "lV91san2j-n7",
        "colab_type": "code",
        "outputId": "7f9d0468-579b-495c-9580-b33f5642f242",
        "colab": {
          "base_uri": "https://localhost:8080/"
        }
      },
      "source": [
        "True\n",
        "print(type(True))\n",
        "False\n",
        "print(type(False))\n",
        "print (10<5)\n",
        "\n"
      ],
      "execution_count": 0,
      "outputs": [
        {
          "output_type": "stream",
          "text": [
            "<class 'bool'>\n",
            "<class 'bool'>\n",
            "False\n"
          ],
          "name": "stdout"
        }
      ]
    },
    {
      "cell_type": "code",
      "metadata": {
        "id": "HYpnxs--kaTd",
        "colab_type": "code",
        "outputId": "cafa0650-61e0-4168-d12e-2d2b26ed3d32",
        "colab": {
          "base_uri": "https://localhost:8080/"
        }
      },
      "source": [
        "#para comparar uso 2 signos de igual\n",
        "10==10"
      ],
      "execution_count": 0,
      "outputs": [
        {
          "output_type": "execute_result",
          "data": {
            "text/plain": [
              "True"
            ]
          },
          "metadata": {
            "tags": []
          },
          "execution_count": 12
        }
      ]
    },
    {
      "cell_type": "code",
      "metadata": {
        "id": "HCUyAIhTkcrl",
        "colab_type": "code",
        "outputId": "68029e46-8c38-4118-d1bf-b0ff3176aa98",
        "colab": {
          "base_uri": "https://localhost:8080/"
        }
      },
      "source": [
        "10 != 5"
      ],
      "execution_count": 0,
      "outputs": [
        {
          "output_type": "execute_result",
          "data": {
            "text/plain": [
              "True"
            ]
          },
          "metadata": {
            "tags": []
          },
          "execution_count": 13
        }
      ]
    },
    {
      "cell_type": "code",
      "metadata": {
        "id": "jNdkZdNEkyRN",
        "colab_type": "code",
        "outputId": "6d6d9a2b-ebed-43d8-f55c-bbc974e234e6",
        "colab": {
          "base_uri": "https://localhost:8080/"
        }
      },
      "source": [
        "a = 30\n",
        "b = 10\n",
        "print (a >= b)\n",
        "print (\"c\" > \"d\")"
      ],
      "execution_count": 0,
      "outputs": [
        {
          "output_type": "stream",
          "text": [
            "True\n",
            "False\n"
          ],
          "name": "stdout"
        }
      ]
    },
    {
      "cell_type": "code",
      "metadata": {
        "id": "gcnKmqBMl5Gl",
        "colab_type": "code",
        "outputId": "1fbefa96-a343-4732-f094-22478a2943c6",
        "colab": {
          "base_uri": "https://localhost:8080/"
        }
      },
      "source": [
        "provincia = \"San José\"\n",
        "canton = \"San Pedro\"\n",
        "if provincia == \"San José\":\n",
        "    print (provincia)\n",
        "\n",
        "\n",
        "print(provincia == \"San José\" )\n",
        "print (provincia == \"San José\" and provincia == \"Cartago\")"
      ],
      "execution_count": 0,
      "outputs": [
        {
          "output_type": "stream",
          "text": [
            "San José\n",
            "True\n",
            "False\n"
          ],
          "name": "stdout"
        }
      ]
    },
    {
      "cell_type": "markdown",
      "metadata": {
        "id": "RGP_lJ-fpB42",
        "colab_type": "text"
      },
      "source": [
        "##Funciones con str"
      ]
    },
    {
      "cell_type": "code",
      "metadata": {
        "id": "ZCKzrBG9pFw9",
        "colab_type": "code",
        "outputId": "2de3a8df-06ef-4083-eda9-e80b6dd7eae2",
        "colab": {
          "base_uri": "https://localhost:8080/"
        }
      },
      "source": [
        "curso = \"ciencia de datos con python\"\n",
        "curso"
      ],
      "execution_count": 0,
      "outputs": [
        {
          "output_type": "execute_result",
          "data": {
            "text/plain": [
              "'ciencia de datos con python'"
            ]
          },
          "metadata": {
            "tags": []
          },
          "execution_count": 16
        }
      ]
    },
    {
      "cell_type": "code",
      "metadata": {
        "id": "Pv3ygKd9rEIF",
        "colab_type": "code",
        "outputId": "685edebd-55da-41ca-acc8-d26d4ce536f6",
        "colab": {
          "base_uri": "https://localhost:8080/"
        }
      },
      "source": [
        "print (curso)"
      ],
      "execution_count": 0,
      "outputs": [
        {
          "output_type": "stream",
          "text": [
            "ciencia de datos con python\n"
          ],
          "name": "stdout"
        }
      ]
    },
    {
      "cell_type": "code",
      "metadata": {
        "id": "s7OxZLG8rOa9",
        "colab_type": "code",
        "outputId": "c48acd1e-85f7-4dc2-c463-b76caefb5e8b",
        "colab": {
          "base_uri": "https://localhost:8080/"
        }
      },
      "source": [
        "len(curso)"
      ],
      "execution_count": 0,
      "outputs": [
        {
          "output_type": "execute_result",
          "data": {
            "text/plain": [
              "27"
            ]
          },
          "metadata": {
            "tags": []
          },
          "execution_count": 18
        }
      ]
    },
    {
      "cell_type": "code",
      "metadata": {
        "id": "TWYbHfZsrQ0l",
        "colab_type": "code",
        "outputId": "7ff47fa1-31c0-4602-a0f7-2b1c5c732e08",
        "colab": {
          "base_uri": "https://localhost:8080/"
        }
      },
      "source": [
        "curso.swapcase()"
      ],
      "execution_count": 0,
      "outputs": [
        {
          "output_type": "execute_result",
          "data": {
            "text/plain": [
              "'CIENCIA DE DATOS CON PYTHON'"
            ]
          },
          "metadata": {
            "tags": []
          },
          "execution_count": 19
        }
      ]
    },
    {
      "cell_type": "code",
      "metadata": {
        "id": "I3Bn1nWWsI7m",
        "colab_type": "code",
        "outputId": "10b45473-75b3-4d24-ec4c-527724e3026e",
        "colab": {
          "base_uri": "https://localhost:8080/"
        }
      },
      "source": [
        "curso.count(\"n\")"
      ],
      "execution_count": 0,
      "outputs": [
        {
          "output_type": "execute_result",
          "data": {
            "text/plain": [
              "3"
            ]
          },
          "metadata": {
            "tags": []
          },
          "execution_count": 20
        }
      ]
    },
    {
      "cell_type": "code",
      "metadata": {
        "id": "WvgWQw_ksOum",
        "colab_type": "code",
        "colab": {}
      },
      "source": [
        "numero = 5\n"
      ],
      "execution_count": 0,
      "outputs": []
    },
    {
      "cell_type": "code",
      "metadata": {
        "id": "Z4mfY2H2skhu",
        "colab_type": "code",
        "outputId": "4bd9cb39-1713-4bb1-be09-320e06c4a8d8",
        "colab": {
          "base_uri": "https://localhost:8080/"
        }
      },
      "source": [
        "numero.bit_length()"
      ],
      "execution_count": 0,
      "outputs": [
        {
          "output_type": "execute_result",
          "data": {
            "text/plain": [
              "3"
            ]
          },
          "metadata": {
            "tags": []
          },
          "execution_count": 22
        }
      ]
    },
    {
      "cell_type": "code",
      "metadata": {
        "id": "XtQhKjxssomG",
        "colab_type": "code",
        "outputId": "0fd31de9-fe79-42cd-8420-9443a815947f",
        "colab": {
          "base_uri": "https://localhost:8080/"
        }
      },
      "source": [
        "#Buscar en qué ubicación de cadena de caracteres está\n",
        "curso.find(\"de\")"
      ],
      "execution_count": 0,
      "outputs": [
        {
          "output_type": "execute_result",
          "data": {
            "text/plain": [
              "8"
            ]
          },
          "metadata": {
            "tags": []
          },
          "execution_count": 23
        }
      ]
    },
    {
      "cell_type": "code",
      "metadata": {
        "id": "5FrFcm-c998r",
        "colab_type": "code",
        "outputId": "b953de5f-edcb-46bb-d122-807f3a2fa4c0",
        "colab": {
          "base_uri": "https://localhost:8080/"
        }
      },
      "source": [
        "2+2"
      ],
      "execution_count": 0,
      "outputs": [
        {
          "output_type": "execute_result",
          "data": {
            "text/plain": [
              "4"
            ]
          },
          "metadata": {
            "tags": []
          },
          "execution_count": 24
        }
      ]
    },
    {
      "cell_type": "code",
      "metadata": {
        "id": "SBwGmanS9_q5",
        "colab_type": "code",
        "outputId": "30ef47bf-4601-4229-889a-31b51b2b9977",
        "colab": {
          "base_uri": "https://localhost:8080/"
        }
      },
      "source": [
        "\"2+2\""
      ],
      "execution_count": 0,
      "outputs": [
        {
          "output_type": "execute_result",
          "data": {
            "text/plain": [
              "'2+2'"
            ]
          },
          "metadata": {
            "tags": []
          },
          "execution_count": 25
        }
      ]
    },
    {
      "cell_type": "code",
      "metadata": {
        "id": "GjRK4djc-B2p",
        "colab_type": "code",
        "outputId": "44ab66b7-343f-45ef-b37c-482a09b8a55f",
        "colab": {
          "base_uri": "https://localhost:8080/"
        }
      },
      "source": [
        "\"2\" + \" 2\""
      ],
      "execution_count": 0,
      "outputs": [
        {
          "output_type": "execute_result",
          "data": {
            "text/plain": [
              "'2 2'"
            ]
          },
          "metadata": {
            "tags": []
          },
          "execution_count": 26
        }
      ]
    },
    {
      "cell_type": "code",
      "metadata": {
        "id": "2xsciEJC-EdZ",
        "colab_type": "code",
        "outputId": "f45043d5-e14c-435d-a0f9-94af2e184d16",
        "colab": {
          "base_uri": "https://localhost:8080/"
        }
      },
      "source": [
        "\" ja\" *3"
      ],
      "execution_count": 0,
      "outputs": [
        {
          "output_type": "execute_result",
          "data": {
            "text/plain": [
              "' ja ja ja'"
            ]
          },
          "metadata": {
            "tags": []
          },
          "execution_count": 27
        }
      ]
    },
    {
      "cell_type": "code",
      "metadata": {
        "id": "JKyWGeP4-H6J",
        "colab_type": "code",
        "outputId": "5cc05210-316b-4b39-cac4-42f0ba7469b3",
        "colab": {
          "base_uri": "https://localhost:8080/"
        }
      },
      "source": [
        "numeros = \"83508006540564564640565640564564065450464654056456405640564056404564064\"\n",
        "len (numeros)"
      ],
      "execution_count": 0,
      "outputs": [
        {
          "output_type": "execute_result",
          "data": {
            "text/plain": [
              "71"
            ]
          },
          "metadata": {
            "tags": []
          },
          "execution_count": 28
        }
      ]
    },
    {
      "cell_type": "code",
      "metadata": {
        "id": "S10eTip4-43R",
        "colab_type": "code",
        "outputId": "b884355c-9e82-46c9-9f22-eea8da04d87b",
        "colab": {
          "base_uri": "https://localhost:8080/"
        }
      },
      "source": [
        "sorted(numeros)"
      ],
      "execution_count": 0,
      "outputs": [
        {
          "output_type": "execute_result",
          "data": {
            "text/plain": [
              "['0',\n",
              " '0',\n",
              " '0',\n",
              " '0',\n",
              " '0',\n",
              " '0',\n",
              " '0',\n",
              " '0',\n",
              " '0',\n",
              " '0',\n",
              " '0',\n",
              " '0',\n",
              " '0',\n",
              " '0',\n",
              " '3',\n",
              " '4',\n",
              " '4',\n",
              " '4',\n",
              " '4',\n",
              " '4',\n",
              " '4',\n",
              " '4',\n",
              " '4',\n",
              " '4',\n",
              " '4',\n",
              " '4',\n",
              " '4',\n",
              " '4',\n",
              " '4',\n",
              " '4',\n",
              " '4',\n",
              " '4',\n",
              " '4',\n",
              " '4',\n",
              " '5',\n",
              " '5',\n",
              " '5',\n",
              " '5',\n",
              " '5',\n",
              " '5',\n",
              " '5',\n",
              " '5',\n",
              " '5',\n",
              " '5',\n",
              " '5',\n",
              " '5',\n",
              " '5',\n",
              " '5',\n",
              " '5',\n",
              " '5',\n",
              " '5',\n",
              " '6',\n",
              " '6',\n",
              " '6',\n",
              " '6',\n",
              " '6',\n",
              " '6',\n",
              " '6',\n",
              " '6',\n",
              " '6',\n",
              " '6',\n",
              " '6',\n",
              " '6',\n",
              " '6',\n",
              " '6',\n",
              " '6',\n",
              " '6',\n",
              " '6',\n",
              " '6',\n",
              " '8',\n",
              " '8']"
            ]
          },
          "metadata": {
            "tags": []
          },
          "execution_count": 29
        }
      ]
    },
    {
      "cell_type": "code",
      "metadata": {
        "id": "ZADPa49l-7WB",
        "colab_type": "code",
        "outputId": "e2bb26de-34a5-4eb1-e127-91b0c5e184d2",
        "colab": {
          "base_uri": "https://localhost:8080/"
        }
      },
      "source": [
        "print(numeros)\n",
        "numeros=numeros.replace(\"0\",\"o\")\n",
        "print(numeros)"
      ],
      "execution_count": 0,
      "outputs": [
        {
          "output_type": "stream",
          "text": [
            "83508006540564564640565640564564065450464654056456405640564056404564064\n",
            "835o8oo654o56456464o56564o564564o6545o464654o564564o564o564o564o4564o64\n"
          ],
          "name": "stdout"
        }
      ]
    },
    {
      "cell_type": "code",
      "metadata": {
        "id": "NP8764a2_GvI",
        "colab_type": "code",
        "outputId": "be472b4b-8c65-4d8f-b546-0f3ee9474b31",
        "colab": {
          "base_uri": "https://localhost:8080/"
        }
      },
      "source": [
        "num1=\"0123456789\"\n",
        "num2=\"1234567890\"\n",
        "\n",
        "num1.index(\"0\")\n",
        "print (num1.index(\"0\"))\n",
        "num2.index(\"0\")"
      ],
      "execution_count": 0,
      "outputs": [
        {
          "output_type": "stream",
          "text": [
            "0\n"
          ],
          "name": "stdout"
        },
        {
          "output_type": "execute_result",
          "data": {
            "text/plain": [
              "9"
            ]
          },
          "metadata": {
            "tags": []
          },
          "execution_count": 31
        }
      ]
    },
    {
      "cell_type": "markdown",
      "metadata": {
        "id": "d4Og4cmJBQ_5",
        "colab_type": "text"
      },
      "source": [
        "##funciones de ayuda"
      ]
    },
    {
      "cell_type": "code",
      "metadata": {
        "id": "fHjAe2TgAU5g",
        "colab_type": "code",
        "colab": {}
      },
      "source": [
        "#con ? y funcion, me indica cómo se usa \n",
        "?len()"
      ],
      "execution_count": 0,
      "outputs": []
    },
    {
      "cell_type": "code",
      "metadata": {
        "id": "C9-_oAzTBV1g",
        "colab_type": "code",
        "outputId": "4e995334-3763-47b3-bc8a-ed4090aaf3b9",
        "colab": {
          "base_uri": "https://localhost:8080/"
        }
      },
      "source": [
        "cadena = '1234511'\n",
        "cadena.replace('1',' HOLA ',2)"
      ],
      "execution_count": 0,
      "outputs": [
        {
          "output_type": "execute_result",
          "data": {
            "text/plain": [
              "' HOLA 2345 HOLA 1'"
            ]
          },
          "metadata": {
            "tags": []
          },
          "execution_count": 33
        }
      ]
    },
    {
      "cell_type": "markdown",
      "metadata": {
        "id": "NEW8O77TD7QH",
        "colab_type": "text"
      },
      "source": [
        "##Funciones"
      ]
    },
    {
      "cell_type": "code",
      "metadata": {
        "id": "qY2oNVcdEb1O",
        "colab_type": "code",
        "outputId": "886bab37-188b-42a0-e9a9-032de05094dc",
        "colab": {
          "base_uri": "https://localhost:8080/",
          "height": 34
        }
      },
      "source": [
        "x=10\n",
        "y=20\n",
        "resultado=x+y\n",
        "resultado"
      ],
      "execution_count": 0,
      "outputs": [
        {
          "output_type": "execute_result",
          "data": {
            "text/plain": [
              "30"
            ]
          },
          "metadata": {
            "tags": []
          },
          "execution_count": 34
        }
      ]
    },
    {
      "cell_type": "code",
      "metadata": {
        "id": "cgmLf6PhCvFX",
        "colab_type": "code",
        "colab": {}
      },
      "source": [
        "def suma(x,y):\n",
        "  resultado=x+y\n",
        "  return resultado"
      ],
      "execution_count": 0,
      "outputs": []
    },
    {
      "cell_type": "code",
      "metadata": {
        "id": "i7XLyConEBou",
        "colab_type": "code",
        "outputId": "2158a1bf-115c-499c-9270-f6e4643a701c",
        "colab": {
          "base_uri": "https://localhost:8080/",
          "height": 68
        }
      },
      "source": [
        "print(suma(2,5))\n",
        "print(suma(2.5,5))\n",
        "print(suma(2,5.5))\n"
      ],
      "execution_count": 0,
      "outputs": [
        {
          "output_type": "stream",
          "text": [
            "7\n",
            "7.5\n",
            "7.5\n"
          ],
          "name": "stdout"
        }
      ]
    },
    {
      "cell_type": "code",
      "metadata": {
        "id": "5t3A55maEv6-",
        "colab_type": "code",
        "colab": {}
      },
      "source": [
        "def suma_resta(x,y):\n",
        "  suma=x+y\n",
        "  resta=x-y\n",
        "  return suma,resta"
      ],
      "execution_count": 0,
      "outputs": []
    },
    {
      "cell_type": "code",
      "metadata": {
        "id": "1GoHZjVpFz4-",
        "colab_type": "code",
        "outputId": "8825ba79-1fea-4788-d5c7-2406bac03410",
        "colab": {
          "base_uri": "https://localhost:8080/",
          "height": 34
        }
      },
      "source": [
        "suma_resta(5,15)"
      ],
      "execution_count": 0,
      "outputs": [
        {
          "output_type": "execute_result",
          "data": {
            "text/plain": [
              "(20, -10)"
            ]
          },
          "metadata": {
            "tags": []
          },
          "execution_count": 38
        }
      ]
    },
    {
      "cell_type": "code",
      "metadata": {
        "id": "T10dthjCF2n2",
        "colab_type": "code",
        "colab": {}
      },
      "source": [
        "def kph2mph(kph):\n",
        "  mph=kph/1.609\n",
        "  return print('mph:' , round(mph))"
      ],
      "execution_count": 0,
      "outputs": []
    },
    {
      "cell_type": "code",
      "metadata": {
        "id": "7fQRYLJZGLoe",
        "colab_type": "code",
        "outputId": "095a9e15-bfb5-45fa-cf49-ee41b9477eb4",
        "colab": {
          "base_uri": "https://localhost:8080/",
          "height": 34
        }
      },
      "source": [
        "kph2mph(80)"
      ],
      "execution_count": 0,
      "outputs": [
        {
          "output_type": "stream",
          "text": [
            "mph: 50\n"
          ],
          "name": "stdout"
        }
      ]
    },
    {
      "cell_type": "markdown",
      "metadata": {
        "id": "QuyBe6AaNkoL",
        "colab_type": "text"
      },
      "source": [
        "##Importando Librerías"
      ]
    },
    {
      "cell_type": "code",
      "metadata": {
        "id": "wYLnHLNXQd85",
        "colab_type": "code",
        "colab": {}
      },
      "source": [
        "#en Data Science se usan 4 librerías con mayor frecuencia"
      ],
      "execution_count": 0,
      "outputs": []
    },
    {
      "cell_type": "code",
      "metadata": {
        "id": "b_wC1gMlGPQ-",
        "colab_type": "code",
        "colab": {}
      },
      "source": [
        "import math as m \n",
        "#puedo importar sólo una función específica de la librería así:\n",
        "from math import pi\n",
        "#puedo importar todas las funciones directamente, para no tener que estar poniendo el m. o math.\n",
        "from math import *\n"
      ],
      "execution_count": 0,
      "outputs": []
    },
    {
      "cell_type": "code",
      "metadata": {
        "id": "HIwW8MqPOAQS",
        "colab_type": "code",
        "outputId": "3796bcab-af37-4fa7-a6a2-e15d80475d1a",
        "colab": {
          "base_uri": "https://localhost:8080/",
          "height": 34
        }
      },
      "source": [
        "m.sin(m.pi)\n",
        "# dir(math) nos despliega todas las funciones dentro de la librería math()"
      ],
      "execution_count": 0,
      "outputs": [
        {
          "output_type": "execute_result",
          "data": {
            "text/plain": [
              "1.2246467991473532e-16"
            ]
          },
          "metadata": {
            "tags": []
          },
          "execution_count": 43
        }
      ]
    },
    {
      "cell_type": "code",
      "metadata": {
        "id": "7SzyAVkGONrC",
        "colab_type": "code",
        "outputId": "70b1b91a-a8ed-4f8e-eedd-149f4641866e",
        "colab": {
          "base_uri": "https://localhost:8080/",
          "height": 34
        }
      },
      "source": [
        "m.floor(m.pi)"
      ],
      "execution_count": 0,
      "outputs": [
        {
          "output_type": "execute_result",
          "data": {
            "text/plain": [
              "3"
            ]
          },
          "metadata": {
            "tags": []
          },
          "execution_count": 44
        }
      ]
    },
    {
      "cell_type": "code",
      "metadata": {
        "id": "l_Fs7rbqPfb5",
        "colab_type": "code",
        "outputId": "0bef836e-6732-496b-efc8-8891de0612fb",
        "colab": {
          "base_uri": "https://localhost:8080/",
          "height": 34
        }
      },
      "source": [
        "pi"
      ],
      "execution_count": 0,
      "outputs": [
        {
          "output_type": "execute_result",
          "data": {
            "text/plain": [
              "3.141592653589793"
            ]
          },
          "metadata": {
            "tags": []
          },
          "execution_count": 45
        }
      ]
    },
    {
      "cell_type": "markdown",
      "metadata": {
        "id": "HIx3fZ1PSBgp",
        "colab_type": "text"
      },
      "source": [
        "##Estructuras de Datos"
      ]
    },
    {
      "cell_type": "code",
      "metadata": {
        "id": "VOffxLRyRuuR",
        "colab_type": "code",
        "colab": {}
      },
      "source": [
        "mi_lista = [4,3,2,1]\n",
        "mi_lista2 = [1.1,2.2,3.3,4.4]\n",
        "mi_lista3 = [\"uno\",\"dos\",\"tres\",\"cuatro\"]\n",
        "mi_lista4 = [1,\"2.0\",\"3\",4]\n",
        "mi_lista5 = [1,\"2.0\",\"3\",4]\n",
        "nombres = [\"alex\", \"esteban\", \"juan\", \"jose\"]"
      ],
      "execution_count": 0,
      "outputs": []
    },
    {
      "cell_type": "code",
      "metadata": {
        "id": "tth8qsH1SXTZ",
        "colab_type": "code",
        "outputId": "a31b1e7b-3afb-47a9-8e2c-3b429b7524ac",
        "colab": {
          "base_uri": "https://localhost:8080/",
          "height": 153
        }
      },
      "source": [
        "print(mi_lista)\n",
        "print(mi_lista2)\n",
        "print(mi_lista3)\n",
        "print(mi_lista4)\n",
        "print(mi_lista5)\n",
        "print(len(mi_lista))\n",
        "print(sorted(mi_lista))\n",
        "print(sorted(mi_lista2,reverse=True))"
      ],
      "execution_count": 0,
      "outputs": [
        {
          "output_type": "stream",
          "text": [
            "[4, 3, 2, 1]\n",
            "[1.1, 2.2, 3.3, 4.4]\n",
            "['uno', 'dos', 'tres', 'cuatro']\n",
            "[1, '2.0', '3', 4]\n",
            "[1, '2.0', '3', 4]\n",
            "4\n",
            "[1, 2, 3, 4]\n",
            "[4.4, 3.3, 2.2, 1.1]\n"
          ],
          "name": "stdout"
        }
      ]
    },
    {
      "cell_type": "code",
      "metadata": {
        "id": "z7LXuo7vSYtR",
        "colab_type": "code",
        "outputId": "95642e52-c4ee-4738-babe-2b5752c44b26",
        "colab": {
          "base_uri": "https://localhost:8080/",
          "height": 34
        }
      },
      "source": [
        "nombres.append(\"oscar\")\n",
        "nombres.sort()\n",
        "nombres"
      ],
      "execution_count": 0,
      "outputs": [
        {
          "output_type": "execute_result",
          "data": {
            "text/plain": [
              "['alex', 'esteban', 'jose', 'juan', 'oscar']"
            ]
          },
          "metadata": {
            "tags": []
          },
          "execution_count": 52
        }
      ]
    },
    {
      "cell_type": "code",
      "metadata": {
        "id": "A76Ep4sLVmtg",
        "colab_type": "code",
        "colab": {}
      },
      "source": [
        "nombres.remove('juan')"
      ],
      "execution_count": 0,
      "outputs": []
    },
    {
      "cell_type": "code",
      "metadata": {
        "id": "3MW8N_KXWSH3",
        "colab_type": "code",
        "outputId": "c8a960a3-bab2-4198-c4a4-fd9273cd9fd1",
        "colab": {
          "base_uri": "https://localhost:8080/",
          "height": 34
        }
      },
      "source": [
        "nombres"
      ],
      "execution_count": 0,
      "outputs": [
        {
          "output_type": "execute_result",
          "data": {
            "text/plain": [
              "['alex', 'esteban', 'jose', 'oscar']"
            ]
          },
          "metadata": {
            "tags": []
          },
          "execution_count": 55
        }
      ]
    },
    {
      "cell_type": "code",
      "metadata": {
        "id": "eiMq7dQyWe6H",
        "colab_type": "code",
        "outputId": "300e3142-0823-4da1-b776-9313a2860fe3",
        "colab": {
          "base_uri": "https://localhost:8080/",
          "height": 34
        }
      },
      "source": [
        "nombres.count('alex')"
      ],
      "execution_count": 0,
      "outputs": [
        {
          "output_type": "execute_result",
          "data": {
            "text/plain": [
              "1"
            ]
          },
          "metadata": {
            "tags": []
          },
          "execution_count": 56
        }
      ]
    },
    {
      "cell_type": "code",
      "metadata": {
        "id": "NDf9VCeTXjne",
        "colab_type": "code",
        "colab": {}
      },
      "source": [
        "#quita el último registro\n",
        "nombres.pop()"
      ],
      "execution_count": 0,
      "outputs": []
    },
    {
      "cell_type": "code",
      "metadata": {
        "id": "S4pd6iSrXr5m",
        "colab_type": "code",
        "colab": {}
      },
      "source": [
        "nombres"
      ],
      "execution_count": 0,
      "outputs": []
    },
    {
      "cell_type": "code",
      "metadata": {
        "id": "ZUi8Rq-PXtpG",
        "colab_type": "code",
        "colab": {}
      },
      "source": [
        "nombres = [\"alex\", \"esteban\", \"juan\", \"jose\",\"fabio\"]\n",
        "nombres.sort()\n",
        "nombres"
      ],
      "execution_count": 0,
      "outputs": []
    },
    {
      "cell_type": "code",
      "metadata": {
        "id": "x8OjAW2FYrlW",
        "colab_type": "code",
        "colab": {}
      },
      "source": [
        "nombres[1:3]"
      ],
      "execution_count": 0,
      "outputs": []
    },
    {
      "cell_type": "code",
      "metadata": {
        "id": "82vTdlqTZEAW",
        "colab_type": "code",
        "colab": {}
      },
      "source": [
        "#estoy trayendo sólo una parte\n",
        "nombres[-3:]"
      ],
      "execution_count": 0,
      "outputs": []
    },
    {
      "cell_type": "code",
      "metadata": {
        "id": "ka3thxy4bJ_2",
        "colab_type": "code",
        "colab": {}
      },
      "source": [
        "nombres.insert(2,\"Ramón\")"
      ],
      "execution_count": 0,
      "outputs": []
    },
    {
      "cell_type": "code",
      "metadata": {
        "id": "NhKv88udb6IF",
        "colab_type": "code",
        "colab": {}
      },
      "source": [
        "nombres"
      ],
      "execution_count": 0,
      "outputs": []
    },
    {
      "cell_type": "code",
      "metadata": {
        "id": "nXS3yendb8x9",
        "colab_type": "code",
        "colab": {}
      },
      "source": [
        "numeros='0123456789'\n",
        "print(numeros[1:4])\n",
        "print(numeros[4:])\n",
        "print(numeros[-4:])\n",
        "print(numeros[:4])\n",
        "print(numeros[:-4])\n",
        "print(numeros[2:-4])\n",
        "print(numeros[2:4])"
      ],
      "execution_count": 0,
      "outputs": []
    },
    {
      "cell_type": "code",
      "metadata": {
        "id": "BlZdR7u-dSuc",
        "colab_type": "code",
        "colab": {}
      },
      "source": [
        "#indices: 0 1 2 3 4 5 6 7 8 9\n",
        "#negat:    -9-8-7-6-5-4-3-2-1 \n",
        "\n",
        "f_vencimiento='20251201'\n",
        "año=f_vencimiento[:4]\n",
        "print(año)\n",
        "mes=f_vencimiento[4:6]\n",
        "print(mes)\n",
        "día=f_vencimiento[-2:]\n",
        "print(día)\n",
        "fecha=año+'-'+mes+'-'+día\n",
        "fecha"
      ],
      "execution_count": 0,
      "outputs": []
    },
    {
      "cell_type": "code",
      "metadata": {
        "id": "r6gVxMizebH8",
        "colab_type": "code",
        "colab": {}
      },
      "source": [
        "def conv_fecha (texto_fecha):\n",
        "  año=texto_fecha[:4]\n",
        "  mes=texto_fecha[4:6]\n",
        "  día=texto_fecha[-2:]\n",
        "  fecha=año+'-'+mes+'-'+día\n",
        "  return fecha"
      ],
      "execution_count": 0,
      "outputs": []
    },
    {
      "cell_type": "code",
      "metadata": {
        "id": "SR4EY1OKfsk8",
        "colab_type": "code",
        "colab": {}
      },
      "source": [
        "conv_fecha('19970130')"
      ],
      "execution_count": 0,
      "outputs": []
    },
    {
      "cell_type": "code",
      "metadata": {
        "id": "9pubKxzdfwqr",
        "colab_type": "code",
        "colab": {}
      },
      "source": [
        "lista_fechas = ['20211022','20181002','20191010']\n",
        "conv_fecha(lista_fechas[1])"
      ],
      "execution_count": 0,
      "outputs": []
    },
    {
      "cell_type": "markdown",
      "metadata": {
        "id": "C9goPJv0hSPk",
        "colab_type": "text"
      },
      "source": [
        "##Ciclos for - in"
      ]
    },
    {
      "cell_type": "code",
      "metadata": {
        "id": "EKYAdrBGg5Yj",
        "colab_type": "code",
        "outputId": "b672587a-723a-4b22-e4c9-014ebbb90656",
        "colab": {
          "base_uri": "https://localhost:8080/",
          "height": 170
        }
      },
      "source": [
        "numero = [1,2,3,4,5,6,7,8,9]\n",
        "for item in numero:\n",
        "  print(item)\n",
        "  "
      ],
      "execution_count": 0,
      "outputs": [
        {
          "output_type": "stream",
          "text": [
            "1\n",
            "2\n",
            "3\n",
            "4\n",
            "5\n",
            "6\n",
            "7\n",
            "8\n",
            "9\n"
          ],
          "name": "stdout"
        }
      ]
    },
    {
      "cell_type": "code",
      "metadata": {
        "id": "e1CRCiYmjAuD",
        "colab_type": "code",
        "outputId": "cdccd13d-4900-44f2-ae3f-f79f3d7bc70b",
        "colab": {
          "base_uri": "https://localhost:8080/",
          "height": 51
        }
      },
      "source": [
        "for item in numero[1:3]:\n",
        "  print(item)"
      ],
      "execution_count": 0,
      "outputs": [
        {
          "output_type": "stream",
          "text": [
            "2\n",
            "3\n"
          ],
          "name": "stdout"
        }
      ]
    },
    {
      "cell_type": "code",
      "metadata": {
        "id": "Z66PrR5Lh5uS",
        "colab_type": "code",
        "colab": {}
      },
      "source": [
        "for fecha in lista_fechas:\n",
        "  print(conv_fecha(fecha))"
      ],
      "execution_count": 0,
      "outputs": []
    },
    {
      "cell_type": "code",
      "metadata": {
        "id": "RMCEEBADiYhi",
        "colab_type": "code",
        "colab": {}
      },
      "source": [
        "cadena_numeros='123456789'\n",
        "for caracter in cadena_numeros:\n",
        "  print(caracter)"
      ],
      "execution_count": 0,
      "outputs": []
    },
    {
      "cell_type": "markdown",
      "metadata": {
        "id": "xgdrcG_GkxZB",
        "colab_type": "text"
      },
      "source": [
        "##Numpy\n",
        "Es una librería que me permite usar listas de valores que usando python normal.\n",
        "\n",
        "Es muy funcional para trabajar con matrices"
      ]
    },
    {
      "cell_type": "code",
      "metadata": {
        "id": "A64a96_8kFjy",
        "colab_type": "code",
        "outputId": "1b33a177-fad8-46da-968d-bde331d69798",
        "colab": {
          "base_uri": "https://localhost:8080/",
          "height": 54
        }
      },
      "source": [
        "import numpy as np\n",
        "print(dir(np))"
      ],
      "execution_count": 0,
      "outputs": [
        {
          "output_type": "stream",
          "text": [
            "['ALLOW_THREADS', 'AxisError', 'BUFSIZE', 'CLIP', 'ComplexWarning', 'DataSource', 'ERR_CALL', 'ERR_DEFAULT', 'ERR_IGNORE', 'ERR_LOG', 'ERR_PRINT', 'ERR_RAISE', 'ERR_WARN', 'FLOATING_POINT_SUPPORT', 'FPE_DIVIDEBYZERO', 'FPE_INVALID', 'FPE_OVERFLOW', 'FPE_UNDERFLOW', 'False_', 'Inf', 'Infinity', 'MAXDIMS', 'MAY_SHARE_BOUNDS', 'MAY_SHARE_EXACT', 'MachAr', 'ModuleDeprecationWarning', 'NAN', 'NINF', 'NZERO', 'NaN', 'PINF', 'PZERO', 'RAISE', 'RankWarning', 'SHIFT_DIVIDEBYZERO', 'SHIFT_INVALID', 'SHIFT_OVERFLOW', 'SHIFT_UNDERFLOW', 'ScalarType', 'Tester', 'TooHardError', 'True_', 'UFUNC_BUFSIZE_DEFAULT', 'UFUNC_PYVALS_NAME', 'VisibleDeprecationWarning', 'WRAP', '_NoValue', '_UFUNC_API', '__NUMPY_SETUP__', '__all__', '__builtins__', '__cached__', '__config__', '__doc__', '__file__', '__git_revision__', '__loader__', '__name__', '__package__', '__path__', '__spec__', '__version__', '_add_newdoc_ufunc', '_arg', '_distributor_init', '_globals', '_mat', '_pytesttester', 'abs', 'absolute', 'absolute_import', 'add', 'add_docstring', 'add_newdoc', 'add_newdoc_ufunc', 'alen', 'all', 'allclose', 'alltrue', 'amax', 'amin', 'angle', 'any', 'append', 'apply_along_axis', 'apply_over_axes', 'arange', 'arccos', 'arccosh', 'arcsin', 'arcsinh', 'arctan', 'arctan2', 'arctanh', 'argmax', 'argmin', 'argpartition', 'argsort', 'argwhere', 'around', 'array', 'array2string', 'array_equal', 'array_equiv', 'array_repr', 'array_split', 'array_str', 'asanyarray', 'asarray', 'asarray_chkfinite', 'ascontiguousarray', 'asfarray', 'asfortranarray', 'asmatrix', 'asscalar', 'atleast_1d', 'atleast_2d', 'atleast_3d', 'average', 'bartlett', 'base_repr', 'binary_repr', 'bincount', 'bitwise_and', 'bitwise_not', 'bitwise_or', 'bitwise_xor', 'blackman', 'block', 'bmat', 'bool', 'bool8', 'bool_', 'broadcast', 'broadcast_arrays', 'broadcast_to', 'busday_count', 'busday_offset', 'busdaycalendar', 'byte', 'byte_bounds', 'bytes0', 'bytes_', 'c_', 'can_cast', 'cast', 'cbrt', 'cdouble', 'ceil', 'cfloat', 'char', 'character', 'chararray', 'choose', 'clip', 'clongdouble', 'clongfloat', 'column_stack', 'common_type', 'compare_chararrays', 'compat', 'complex', 'complex128', 'complex256', 'complex64', 'complex_', 'complexfloating', 'compress', 'concatenate', 'conj', 'conjugate', 'convolve', 'copy', 'copysign', 'copyto', 'core', 'corrcoef', 'correlate', 'cos', 'cosh', 'count_nonzero', 'cov', 'cross', 'csingle', 'ctypeslib', 'cumprod', 'cumproduct', 'cumsum', 'datetime64', 'datetime_as_string', 'datetime_data', 'deg2rad', 'degrees', 'delete', 'deprecate', 'deprecate_with_doc', 'diag', 'diag_indices', 'diag_indices_from', 'diagflat', 'diagonal', 'diff', 'digitize', 'disp', 'divide', 'division', 'divmod', 'dot', 'double', 'dsplit', 'dstack', 'dtype', 'e', 'ediff1d', 'einsum', 'einsum_path', 'emath', 'empty', 'empty_like', 'equal', 'errstate', 'euler_gamma', 'exp', 'exp2', 'expand_dims', 'expm1', 'extract', 'eye', 'fabs', 'fastCopyAndTranspose', 'fft', 'fill_diagonal', 'find_common_type', 'finfo', 'fix', 'flatiter', 'flatnonzero', 'flexible', 'flip', 'fliplr', 'flipud', 'float', 'float128', 'float16', 'float32', 'float64', 'float_', 'float_power', 'floating', 'floor', 'floor_divide', 'fmax', 'fmin', 'fmod', 'format_float_positional', 'format_float_scientific', 'format_parser', 'frexp', 'frombuffer', 'fromfile', 'fromfunction', 'fromiter', 'frompyfunc', 'fromregex', 'fromstring', 'full', 'full_like', 'fv', 'gcd', 'generic', 'genfromtxt', 'geomspace', 'get_array_wrap', 'get_include', 'get_printoptions', 'getbufsize', 'geterr', 'geterrcall', 'geterrobj', 'gradient', 'greater', 'greater_equal', 'half', 'hamming', 'hanning', 'heaviside', 'histogram', 'histogram2d', 'histogram_bin_edges', 'histogramdd', 'hsplit', 'hstack', 'hypot', 'i0', 'identity', 'iinfo', 'imag', 'in1d', 'index_exp', 'indices', 'inexact', 'inf', 'info', 'infty', 'inner', 'insert', 'int', 'int0', 'int16', 'int32', 'int64', 'int8', 'int_', 'int_asbuffer', 'intc', 'integer', 'interp', 'intersect1d', 'intp', 'invert', 'ipmt', 'irr', 'is_busday', 'isclose', 'iscomplex', 'iscomplexobj', 'isfinite', 'isfortran', 'isin', 'isinf', 'isnan', 'isnat', 'isneginf', 'isposinf', 'isreal', 'isrealobj', 'isscalar', 'issctype', 'issubclass_', 'issubdtype', 'issubsctype', 'iterable', 'ix_', 'kaiser', 'kron', 'lcm', 'ldexp', 'left_shift', 'less', 'less_equal', 'lexsort', 'lib', 'linalg', 'linspace', 'little_endian', 'load', 'loads', 'loadtxt', 'log', 'log10', 'log1p', 'log2', 'logaddexp', 'logaddexp2', 'logical_and', 'logical_not', 'logical_or', 'logical_xor', 'logspace', 'long', 'longcomplex', 'longdouble', 'longfloat', 'longlong', 'lookfor', 'ma', 'mafromtxt', 'mask_indices', 'mat', 'math', 'matmul', 'matrix', 'matrixlib', 'max', 'maximum', 'maximum_sctype', 'may_share_memory', 'mean', 'median', 'memmap', 'meshgrid', 'mgrid', 'min', 'min_scalar_type', 'minimum', 'mintypecode', 'mirr', 'mod', 'modf', 'moveaxis', 'msort', 'multiply', 'nan', 'nan_to_num', 'nanargmax', 'nanargmin', 'nancumprod', 'nancumsum', 'nanmax', 'nanmean', 'nanmedian', 'nanmin', 'nanpercentile', 'nanprod', 'nanquantile', 'nanstd', 'nansum', 'nanvar', 'nbytes', 'ndarray', 'ndenumerate', 'ndfromtxt', 'ndim', 'ndindex', 'nditer', 'negative', 'nested_iters', 'newaxis', 'nextafter', 'nonzero', 'not_equal', 'nper', 'npv', 'numarray', 'number', 'obj2sctype', 'object', 'object0', 'object_', 'ogrid', 'oldnumeric', 'ones', 'ones_like', 'outer', 'packbits', 'pad', 'partition', 'percentile', 'pi', 'piecewise', 'place', 'pmt', 'poly', 'poly1d', 'polyadd', 'polyder', 'polydiv', 'polyfit', 'polyint', 'polymul', 'polynomial', 'polysub', 'polyval', 'positive', 'power', 'ppmt', 'print_function', 'printoptions', 'prod', 'product', 'promote_types', 'ptp', 'put', 'put_along_axis', 'putmask', 'pv', 'quantile', 'r_', 'rad2deg', 'radians', 'random', 'rank', 'rate', 'ravel', 'ravel_multi_index', 'real', 'real_if_close', 'rec', 'recarray', 'recfromcsv', 'recfromtxt', 'reciprocal', 'record', 'remainder', 'repeat', 'require', 'reshape', 'resize', 'result_type', 'right_shift', 'rint', 'roll', 'rollaxis', 'roots', 'rot90', 'round', 'round_', 'row_stack', 's_', 'safe_eval', 'save', 'savetxt', 'savez', 'savez_compressed', 'sctype2char', 'sctypeDict', 'sctypeNA', 'sctypes', 'searchsorted', 'select', 'set_numeric_ops', 'set_printoptions', 'set_string_function', 'setbufsize', 'setdiff1d', 'seterr', 'seterrcall', 'seterrobj', 'setxor1d', 'shape', 'shares_memory', 'short', 'show_config', 'sign', 'signbit', 'signedinteger', 'sin', 'sinc', 'single', 'singlecomplex', 'sinh', 'size', 'sometrue', 'sort', 'sort_complex', 'source', 'spacing', 'split', 'sqrt', 'square', 'squeeze', 'stack', 'std', 'str', 'str0', 'str_', 'string_', 'subtract', 'sum', 'swapaxes', 'sys', 'take', 'take_along_axis', 'tan', 'tanh', 'tensordot', 'test', 'testing', 'tile', 'timedelta64', 'trace', 'tracemalloc_domain', 'transpose', 'trapz', 'tri', 'tril', 'tril_indices', 'tril_indices_from', 'trim_zeros', 'triu', 'triu_indices', 'triu_indices_from', 'true_divide', 'trunc', 'typeDict', 'typeNA', 'typecodes', 'typename', 'ubyte', 'ufunc', 'uint', 'uint0', 'uint16', 'uint32', 'uint64', 'uint8', 'uintc', 'uintp', 'ulonglong', 'unicode', 'unicode_', 'union1d', 'unique', 'unpackbits', 'unravel_index', 'unsignedinteger', 'unwrap', 'ushort', 'vander', 'var', 'vdot', 'vectorize', 'version', 'void', 'void0', 'vsplit', 'vstack', 'warnings', 'where', 'who', 'zeros', 'zeros_like']\n"
          ],
          "name": "stdout"
        }
      ]
    },
    {
      "cell_type": "code",
      "metadata": {
        "id": "Ff6RjEAbl-oZ",
        "colab_type": "code",
        "outputId": "be17fb6d-6af8-4f2f-9c1b-5b21d28f3d82",
        "colab": {
          "base_uri": "https://localhost:8080/",
          "height": 34
        }
      },
      "source": [
        "lista=[1,2,3,5]\n",
        "lista=lista*2\n",
        "lista"
      ],
      "execution_count": 0,
      "outputs": [
        {
          "output_type": "execute_result",
          "data": {
            "text/plain": [
              "[1, 2, 3, 5, 1, 2, 3, 5]"
            ]
          },
          "metadata": {
            "tags": []
          },
          "execution_count": 60
        }
      ]
    },
    {
      "cell_type": "code",
      "metadata": {
        "id": "fTAgrmm4mesJ",
        "colab_type": "code",
        "outputId": "fd0570b5-cde0-4914-feaf-5f1e03e3f3e0",
        "colab": {
          "base_uri": "https://localhost:8080/",
          "height": 34
        }
      },
      "source": [
        "#usando numpy\n",
        "lista_np = np.array([1,2,3,4,5,6])\n",
        "lista_np = lista_np *2\n",
        "lista_np"
      ],
      "execution_count": 0,
      "outputs": [
        {
          "output_type": "execute_result",
          "data": {
            "text/plain": [
              "array([ 2,  4,  6,  8, 10, 12])"
            ]
          },
          "metadata": {
            "tags": []
          },
          "execution_count": 61
        }
      ]
    },
    {
      "cell_type": "code",
      "metadata": {
        "id": "W4oJ0n1pmuKA",
        "colab_type": "code",
        "colab": {}
      },
      "source": [
        "#usando numpy\n",
        "lista_np = np.array([1,2,3,4,5,6])\n",
        "lista_np = lista_np *2\n",
        "\n",
        "print(lista_np.reshape(2,3))\n",
        "print()\n",
        "print(lista_np.reshape(3,2))\n"
      ],
      "execution_count": 0,
      "outputs": []
    },
    {
      "cell_type": "markdown",
      "metadata": {
        "id": "oHj5TU2MoMDh",
        "colab_type": "text"
      },
      "source": [
        "##Pandas"
      ]
    },
    {
      "cell_type": "code",
      "metadata": {
        "id": "-VooTDannP6K",
        "colab_type": "code",
        "colab": {}
      },
      "source": [
        "import pandas as pd"
      ],
      "execution_count": 0,
      "outputs": []
    },
    {
      "cell_type": "code",
      "metadata": {
        "id": "zrqpLLEwoZF4",
        "colab_type": "code",
        "colab": {}
      },
      "source": [
        "#Al cargar un file, el separador por defecto es \"coma\",pero si es otro, debo indicarlo, ya sea ;, TAB (el delimitador es '\\t'), u otro\n",
        "df = pd.read_csv('Pruebas.csv', delimiter=',')\n",
        "df"
      ],
      "execution_count": 0,
      "outputs": []
    },
    {
      "cell_type": "code",
      "metadata": {
        "id": "Pe5GdQRgBsgF",
        "colab_type": "code",
        "colab": {}
      },
      "source": [
        "#como el archivo se borró, lo vamos a crear de forma manual\n",
        "df=pd.DataFrame({'Col_A':[1,4,7],'Col_B':[2,5,8],'Col_C':[3,6,9]})\n",
        "df"
      ],
      "execution_count": 0,
      "outputs": []
    },
    {
      "cell_type": "code",
      "metadata": {
        "id": "iXqzaxxOCYkz",
        "colab_type": "code",
        "colab": {}
      },
      "source": [
        "#lo guardamos en un file csv y para evitar que me lo genere con una columna de indices, debo poner la condicion index en false\n",
        "df.to_csv('Pruebas.csv', index=False)"
      ],
      "execution_count": 0,
      "outputs": []
    },
    {
      "cell_type": "code",
      "metadata": {
        "id": "9Y_dWNLiqzHx",
        "colab_type": "code",
        "colab": {}
      },
      "source": [
        "df.info()"
      ],
      "execution_count": 0,
      "outputs": []
    },
    {
      "cell_type": "code",
      "metadata": {
        "id": "lEaWl_ESsqtq",
        "colab_type": "code",
        "colab": {}
      },
      "source": [
        "df.describe()"
      ],
      "execution_count": 0,
      "outputs": []
    },
    {
      "cell_type": "code",
      "metadata": {
        "id": "yl7skQYQtZDG",
        "colab_type": "code",
        "colab": {}
      },
      "source": [
        "df.columns"
      ],
      "execution_count": 0,
      "outputs": []
    },
    {
      "cell_type": "code",
      "metadata": {
        "id": "LCRjzZxvuHI1",
        "colab_type": "code",
        "colab": {}
      },
      "source": [
        "#Para renombrar las columnas\n",
        "df.columns=['col_A_Rename', 'col_B_Rename', 'col_C_Rename']"
      ],
      "execution_count": 0,
      "outputs": []
    },
    {
      "cell_type": "code",
      "metadata": {
        "id": "tVSHvT3nubMt",
        "colab_type": "code",
        "colab": {}
      },
      "source": [
        "df"
      ],
      "execution_count": 0,
      "outputs": []
    },
    {
      "cell_type": "code",
      "metadata": {
        "id": "ZLGjX9FZum09",
        "colab_type": "code",
        "colab": {}
      },
      "source": [
        "#para traer el valor de un dato col,index ej col_B index 1\n",
        "df['col_B_Rename'][1]"
      ],
      "execution_count": 0,
      "outputs": []
    },
    {
      "cell_type": "code",
      "metadata": {
        "id": "KT1GxI-bvJIV",
        "colab_type": "code",
        "colab": {}
      },
      "source": [
        "#Para traer más de 1 columna\n",
        "df[['col_A_Rename','col_C_Rename']]"
      ],
      "execution_count": 0,
      "outputs": []
    },
    {
      "cell_type": "code",
      "metadata": {
        "id": "E3wNJjf-ERx-",
        "colab_type": "code",
        "colab": {}
      },
      "source": [
        "#para agregar datos\n",
        "df['Col_D']=[1,5,9]\n",
        "df"
      ],
      "execution_count": 0,
      "outputs": []
    },
    {
      "cell_type": "code",
      "metadata": {
        "id": "LIiL-X6gGR0K",
        "colab_type": "code",
        "colab": {}
      },
      "source": [
        "#para quitar datos uso el drop, y el axis es identificador si es colmna o fila 1 es columna y 0 es fila\n",
        "df=df.drop('Col_A',axis=1)\n",
        "df"
      ],
      "execution_count": 0,
      "outputs": []
    },
    {
      "cell_type": "code",
      "metadata": {
        "id": "r8XKhuMpGr8W",
        "colab_type": "code",
        "colab": {}
      },
      "source": [
        "df=df.drop(1,axis=0)\n",
        "df"
      ],
      "execution_count": 0,
      "outputs": []
    },
    {
      "cell_type": "code",
      "metadata": {
        "id": "Pu34hX-WHmDm",
        "colab_type": "code",
        "colab": {}
      },
      "source": [
        "#Agregar información\n",
        "df=df.append({'Col_B':3, 'Col_C':3, 'Col_D':8}, ignore_index=True)\n",
        "df"
      ],
      "execution_count": 0,
      "outputs": []
    },
    {
      "cell_type": "code",
      "metadata": {
        "id": "_f43d_EiRSx6",
        "colab_type": "code",
        "colab": {}
      },
      "source": [
        "#Con el loc lo hago direcamente a un índice, Ej vamos a agregar en el índice 4 (fila 4)\n",
        "df.loc[4]=[3,5,3]\n",
        "df"
      ],
      "execution_count": 0,
      "outputs": []
    },
    {
      "cell_type": "code",
      "metadata": {
        "id": "mkyc-07uRUGu",
        "colab_type": "code",
        "colab": {}
      },
      "source": [
        "#Modificar información Ej cambiar los valores de la columna 2 por ceros\n",
        "df.loc[2]=[0,0,0]\n",
        "df"
      ],
      "execution_count": 0,
      "outputs": []
    },
    {
      "cell_type": "code",
      "metadata": {
        "id": "oKoHlmecTQxq",
        "colab_type": "code",
        "colab": {}
      },
      "source": [
        "#Ver valores de columna\n",
        "df['Col_C']"
      ],
      "execution_count": 0,
      "outputs": []
    },
    {
      "cell_type": "code",
      "metadata": {
        "id": "y6gikP6vTdU1",
        "colab_type": "code",
        "colab": {}
      },
      "source": [
        "#Ver valores de Fila\n",
        "df.loc[1]"
      ],
      "execution_count": 0,
      "outputs": []
    },
    {
      "cell_type": "code",
      "metadata": {
        "id": "fKn3z_rvTo7G",
        "colab_type": "code",
        "colab": {}
      },
      "source": [
        "#para reemplazar los valores\n",
        "df['Col_C']=[0,0,0,0,0]\n",
        "df"
      ],
      "execution_count": 0,
      "outputs": []
    },
    {
      "cell_type": "code",
      "metadata": {
        "id": "pnaW27UOUH6G",
        "colab_type": "code",
        "colab": {}
      },
      "source": [
        "#Cargamos el archivo, pero da error por la codificación, así que debemos indicarle que es codificado en Latin_1 y con el names, le ponemos el encabezado\n",
        "DE_df = pd.read_csv('Distelec.txt',names=['cod', 'prov', 'cant',  'dist'], encoding='latin-1')"
      ],
      "execution_count": 0,
      "outputs": []
    },
    {
      "cell_type": "code",
      "metadata": {
        "id": "fLMCb1xGWBAS",
        "colab_type": "code",
        "colab": {}
      },
      "source": [
        "DE_df.head()"
      ],
      "execution_count": 0,
      "outputs": []
    },
    {
      "cell_type": "code",
      "metadata": {
        "id": "LLw--m81Z1t2",
        "colab_type": "code",
        "colab": {}
      },
      "source": [
        "#Ver tamaño\n",
        "DE_df.shape\n",
        "DE_df.info()"
      ],
      "execution_count": 0,
      "outputs": []
    },
    {
      "cell_type": "code",
      "metadata": {
        "id": "T8JZ8hihXqE2",
        "colab_type": "code",
        "colab": {}
      },
      "source": [
        "HE_df = pd.read_csv('HE.txt', names=['ced', 'cod', 'sex','F_venc','jun' ,'nombre', 'ape1', 'ape2'],encoding='latin-1')\n",
        "HE_df.head()"
      ],
      "execution_count": 0,
      "outputs": []
    },
    {
      "cell_type": "code",
      "metadata": {
        "id": "PBIIR9LrYgxG",
        "colab_type": "code",
        "colab": {}
      },
      "source": [
        "#Ver el tamaño (342249 registros , 8 columnas)\n",
        "HE_df.shape"
      ],
      "execution_count": 0,
      "outputs": []
    },
    {
      "cell_type": "code",
      "metadata": {
        "id": "J071YmzOZo1-",
        "colab_type": "code",
        "colab": {}
      },
      "source": [
        "#vamos a quitar la columna de Jun que no nos sirve porque todo está en ceros\n",
        "HE_df=HE_df.drop('jun',axis=1)\n",
        "HE_df.head()"
      ],
      "execution_count": 0,
      "outputs": []
    },
    {
      "cell_type": "code",
      "metadata": {
        "id": "tySyjskkbIgT",
        "colab_type": "code",
        "colab": {}
      },
      "source": [
        "#AHORA CARGAMOS SAN JOSE\n",
        "SJ_df = pd.read_csv('SJ.txt', names=['ced', 'cod', 'sex','F_venc','jun' ,'nombre', 'ape1', 'ape2'],encoding='latin-1')\n",
        "SJ_df.head()"
      ],
      "execution_count": 0,
      "outputs": []
    },
    {
      "cell_type": "code",
      "metadata": {
        "id": "p0G1VONhboUN",
        "colab_type": "code",
        "colab": {}
      },
      "source": [
        "SJ_df.shape"
      ],
      "execution_count": 0,
      "outputs": []
    },
    {
      "cell_type": "code",
      "metadata": {
        "id": "YDlYINeVb1_8",
        "colab_type": "code",
        "colab": {}
      },
      "source": [
        "SJ_df=SJ_df.drop('jun',axis=1)\n",
        "SJ_df.head()"
      ],
      "execution_count": 0,
      "outputs": []
    },
    {
      "cell_type": "code",
      "metadata": {
        "id": "zGZ9EfX9cSa-",
        "colab_type": "code",
        "colab": {}
      },
      "source": [
        "#Vamos a unir dos o más dataframes (df) en uno sólo\n",
        "SUM_df = pd.concat([SJ_df, HE_df])\n",
        "SUM_df.head()"
      ],
      "execution_count": 0,
      "outputs": []
    },
    {
      "cell_type": "code",
      "metadata": {
        "id": "8KaZrH67c7NY",
        "colab_type": "code",
        "colab": {}
      },
      "source": [
        "SUM_df.tail()"
      ],
      "execution_count": 0,
      "outputs": []
    },
    {
      "cell_type": "code",
      "metadata": {
        "id": "mkOx1Jxgc-XA",
        "colab_type": "code",
        "colab": {}
      },
      "source": [
        "SUM_df.sample(25)"
      ],
      "execution_count": 0,
      "outputs": []
    },
    {
      "cell_type": "code",
      "metadata": {
        "id": "N2v1ixfodviK",
        "colab_type": "code",
        "colab": {}
      },
      "source": [
        "PADRON_df = pd.read_csv('PADRON_COMPLETO.txt', names=['ced', 'cod', 'sex','F_venc','jun' ,'nombre', 'ape1', 'ape2'],encoding='latin-1')\n",
        "PADRON_df.head()"
      ],
      "execution_count": 0,
      "outputs": []
    },
    {
      "cell_type": "code",
      "metadata": {
        "id": "ipcmgwm3fjm_",
        "colab_type": "code",
        "colab": {}
      },
      "source": [
        "PADRON_df=PADRON_df.drop('jun',axis=1)"
      ],
      "execution_count": 0,
      "outputs": []
    },
    {
      "cell_type": "code",
      "metadata": {
        "id": "ublWjhaHelXt",
        "colab_type": "code",
        "colab": {}
      },
      "source": [
        "\n",
        "print()\n",
        "print(PADRON_df.shape)\n",
        "print()\n",
        "print(PADRON_df.info())\n",
        "print()\n",
        "\n",
        "\n",
        "PADRON_df.sample(15)"
      ],
      "execution_count": 0,
      "outputs": []
    },
    {
      "cell_type": "code",
      "metadata": {
        "id": "v583nB5CeyQN",
        "colab_type": "code",
        "colab": {}
      },
      "source": [
        "#Ahora hacemos un join entre los dos df\n",
        "PADRON_df=PADRON_df.merge(DE_df,on= 'cod')\n",
        "PADRON_df.sample(100)"
      ],
      "execution_count": 0,
      "outputs": []
    },
    {
      "cell_type": "code",
      "metadata": {
        "id": "0W64fdhyhNY8",
        "colab_type": "code",
        "colab": {}
      },
      "source": [
        "PADRON_df.to_csv('padron_completo.csv', index=False)"
      ],
      "execution_count": 0,
      "outputs": []
    },
    {
      "cell_type": "code",
      "metadata": {
        "id": "m5pFbuiBik9V",
        "colab_type": "code",
        "colab": {}
      },
      "source": [
        "PADRON_df.shape"
      ],
      "execution_count": 0,
      "outputs": []
    },
    {
      "cell_type": "code",
      "metadata": {
        "id": "yvfT3b8ZirO1",
        "colab_type": "code",
        "colab": {}
      },
      "source": [
        "PADRON_df=pd.read_csv('padron_completo.csv')"
      ],
      "execution_count": 0,
      "outputs": []
    },
    {
      "cell_type": "code",
      "metadata": {
        "id": "YKvMC-HajYyz",
        "colab_type": "code",
        "colab": {}
      },
      "source": [
        "PADRON_df.sample(20)"
      ],
      "execution_count": 0,
      "outputs": []
    },
    {
      "cell_type": "markdown",
      "metadata": {
        "id": "esUSLs4DkMVX",
        "colab_type": "text"
      },
      "source": [
        "SEGMENTAR DATOS DE UN DF"
      ]
    },
    {
      "cell_type": "code",
      "metadata": {
        "id": "5ZvORzAdjgFu",
        "colab_type": "code",
        "colab": {}
      },
      "source": [
        "#SEGMENTAR SEGÚN CRITERIOS\n",
        "#Contar cantidad por tipo en la columna\n",
        "PADRON_df['prov'].value_counts()"
      ],
      "execution_count": 0,
      "outputs": []
    },
    {
      "cell_type": "code",
      "metadata": {
        "id": "sXx9gMdYlJOe",
        "colab_type": "code",
        "colab": {}
      },
      "source": [
        ""
      ],
      "execution_count": 0,
      "outputs": []
    },
    {
      "cell_type": "code",
      "metadata": {
        "id": "GbIcDG3wlCM5",
        "colab_type": "code",
        "colab": {}
      },
      "source": [
        "PADRON_df['prov'].value_counts().sum()"
      ],
      "execution_count": 0,
      "outputs": []
    },
    {
      "cell_type": "code",
      "metadata": {
        "id": "IG-BlSSllLYl",
        "colab_type": "code",
        "colab": {}
      },
      "source": [
        "#para sacar el promedio\n",
        "PADRON_df['prov'].value_counts().mean()"
      ],
      "execution_count": 0,
      "outputs": []
    },
    {
      "cell_type": "code",
      "metadata": {
        "id": "LqRpPByujzCZ",
        "colab_type": "code",
        "colab": {}
      },
      "source": [
        "#Qué valores existen en la columna?\n",
        "PADRON_df['prov'].unique()"
      ],
      "execution_count": 0,
      "outputs": []
    },
    {
      "cell_type": "code",
      "metadata": {
        "id": "eiGfgrukkall",
        "colab_type": "code",
        "colab": {}
      },
      "source": [
        "PADRON_df['prov'].count()"
      ],
      "execution_count": 0,
      "outputs": []
    },
    {
      "cell_type": "code",
      "metadata": {
        "id": "RPte2WXOkrFn",
        "colab_type": "code",
        "colab": {}
      },
      "source": [
        "#para ver los valores de la columna que sean iguales a X criterio\n",
        "\n",
        "condicion = PADRON_df['prov'] == 'SAN JOSE'\n",
        "PADRON_df[condicion]\n"
      ],
      "execution_count": 0,
      "outputs": []
    },
    {
      "cell_type": "code",
      "metadata": {
        "id": "WLdbr6-uliRO",
        "colab_type": "code",
        "colab": {}
      },
      "source": [
        "PADRON_df[condicion].shape"
      ],
      "execution_count": 0,
      "outputs": []
    },
    {
      "cell_type": "code",
      "metadata": {
        "id": "hUTfSEOtmoaB",
        "colab_type": "code",
        "colab": {}
      },
      "source": [
        "condicion2 = PADRON_df['cant']=='CENTRAL'"
      ],
      "execution_count": 0,
      "outputs": []
    },
    {
      "cell_type": "code",
      "metadata": {
        "id": "EMNC6j-CoQBv",
        "colab_type": "code",
        "colab": {}
      },
      "source": [
        "condicion3 = PADRON_df['dist'].str.contains =='PIEDADES'\n",
        "condicion3"
      ],
      "execution_count": 0,
      "outputs": []
    },
    {
      "cell_type": "code",
      "metadata": {
        "id": "IgA7k-e1nVpt",
        "colab_type": "code",
        "colab": {}
      },
      "source": [
        "SJ_CENTRAL_df = PADRON_df[condicion & condicion2 & condicion3]\n",
        "\n"
      ],
      "execution_count": 0,
      "outputs": []
    },
    {
      "cell_type": "code",
      "metadata": {
        "id": "2xrCdHq1ne3M",
        "colab_type": "code",
        "colab": {}
      },
      "source": [
        "SJ_CENTRAL_df"
      ],
      "execution_count": 0,
      "outputs": []
    },
    {
      "cell_type": "code",
      "metadata": {
        "id": "VRjn6nlgny31",
        "colab_type": "code",
        "colab": {}
      },
      "source": [
        "SJ_CENTRAL_df = PADRON_df[(PADRON_df['cant']=='CENTRAL')& (PADRON_df['prov'] == 'SAN JOSE')]"
      ],
      "execution_count": 0,
      "outputs": []
    },
    {
      "cell_type": "code",
      "metadata": {
        "id": "iO_aEwB9pwKR",
        "colab_type": "code",
        "colab": {}
      },
      "source": [
        "SJ_CENTRAL_df"
      ],
      "execution_count": 0,
      "outputs": []
    },
    {
      "cell_type": "code",
      "metadata": {
        "id": "KLia9fURp2wF",
        "colab_type": "code",
        "colab": {}
      },
      "source": [
        "PADRON_df.groupby('prov')['cant'].value_counts()"
      ],
      "execution_count": 0,
      "outputs": []
    },
    {
      "cell_type": "code",
      "metadata": {
        "id": "cgpUXfTwqjYt",
        "colab_type": "code",
        "colab": {}
      },
      "source": [
        "df=pd.read_csv('population.csv')\n",
        "df.shape"
      ],
      "execution_count": 0,
      "outputs": []
    },
    {
      "cell_type": "code",
      "metadata": {
        "id": "wQQQx8JeExnP",
        "colab_type": "code",
        "colab": {}
      },
      "source": [
        "#Es imporante revisar si tienen nulos, de tenerlos, se debe depurar\n",
        "df.info()"
      ],
      "execution_count": 0,
      "outputs": []
    },
    {
      "cell_type": "code",
      "metadata": {
        "id": "Q6iyIRjhFZqU",
        "colab_type": "code",
        "colab": {}
      },
      "source": [
        "#listar columnas, el tolist() no es necesario, pero es para que se ordene mejor\n",
        "df.columns.tolist()"
      ],
      "execution_count": 0,
      "outputs": []
    },
    {
      "cell_type": "code",
      "metadata": {
        "id": "-zy2Uy3HHK3b",
        "colab_type": "code",
        "colab": {}
      },
      "source": [
        "#para listar todos los índices\n",
        "#df.index.tolist()"
      ],
      "execution_count": 0,
      "outputs": []
    },
    {
      "cell_type": "code",
      "metadata": {
        "id": "gNWGx34XrjuN",
        "colab_type": "code",
        "colab": {}
      },
      "source": [
        "df.head(3)\n"
      ],
      "execution_count": 0,
      "outputs": []
    },
    {
      "cell_type": "code",
      "metadata": {
        "id": "98Rbqom9D2qI",
        "colab_type": "code",
        "colab": {}
      },
      "source": [
        "df.sample(3)"
      ],
      "execution_count": 0,
      "outputs": []
    },
    {
      "cell_type": "code",
      "metadata": {
        "id": "nNao6tCXHmM5",
        "colab_type": "code",
        "colab": {}
      },
      "source": [
        "#Para mostrar el índice y una columna en específico\n",
        "df['Gender']"
      ],
      "execution_count": 0,
      "outputs": []
    },
    {
      "cell_type": "code",
      "metadata": {
        "id": "q-osJvDmHy6D",
        "colab_type": "code",
        "colab": {}
      },
      "source": [
        "#Para mostrar el índice y una columna y pregunta una condición a ver si es verdadera por cada registro\n",
        "df['Gender']=='Female'\n",
        "#df['Year']<2017"
      ],
      "execution_count": 0,
      "outputs": []
    },
    {
      "cell_type": "code",
      "metadata": {
        "id": "H_7uH0paIRGq",
        "colab_type": "code",
        "colab": {}
      },
      "source": [
        "#En el ejemplo anterior, si quisiera ver los valores que cumplen con la condición solicitada (Gender = Female (True))\n",
        "cond1=df['Gender']=='Female'\n",
        "df[cond1]"
      ],
      "execution_count": 0,
      "outputs": []
    },
    {
      "cell_type": "code",
      "metadata": {
        "id": "W6Sfr7QEJMba",
        "colab_type": "code",
        "colab": {}
      },
      "source": [
        "cond2=df['Year']<2017\n",
        "df[cond2]"
      ],
      "execution_count": 0,
      "outputs": []
    },
    {
      "cell_type": "code",
      "metadata": {
        "id": "h8tfeBfPJmnS",
        "colab_type": "code",
        "colab": {}
      },
      "source": [
        "print(df[cond1].shape)\n",
        "print(df[cond2].shape)"
      ],
      "execution_count": 0,
      "outputs": []
    },
    {
      "cell_type": "code",
      "metadata": {
        "id": "KExbFDeNJ0s9",
        "colab_type": "code",
        "colab": {}
      },
      "source": [
        "#Para ver sólo los datos que cumplen ambas condiciones\n",
        "print(df[cond1 & cond2].shape)\n",
        "print(df.shape)\n",
        "df[cond1 & cond2]\n",
        "#Or df[cond1 | cond2]"
      ],
      "execution_count": 0,
      "outputs": []
    },
    {
      "cell_type": "code",
      "metadata": {
        "id": "Pq59vZdVSsKH",
        "colab_type": "code",
        "colab": {}
      },
      "source": [
        "#Si quiero traer más de una columa, debo indicarlo como una lista (ojo los paréntesis cuadrados)  [ ['District.Name','Neighborhood.Name'] ].head()\n",
        "\n",
        "df[(df['Gender']=='Female')&\n",
        "  (df['Year']<2017)&\n",
        "  (df['Year']>2014)][ ['District.Name','Neighborhood.Name'] ].sample(10)"
      ],
      "execution_count": 0,
      "outputs": []
    },
    {
      "cell_type": "code",
      "metadata": {
        "id": "0dZLhaVcUPok",
        "colab_type": "code",
        "colab": {}
      },
      "source": [
        "#Para ver valores únicos (como el distinct de SQL) (el tolist() lo puse para verlo vertical)\n",
        "df['District.Name'].unique().tolist()"
      ],
      "execution_count": 0,
      "outputs": []
    },
    {
      "cell_type": "code",
      "metadata": {
        "id": "R1ZCYB13Unq8",
        "colab_type": "code",
        "colab": {}
      },
      "source": [
        " #y contando cuántos de cada tipo (lo ordena de mayor a menor según el índice)\n",
        "  print(df['District.Name'].value_counts())\n",
        "  print ('Suma: ',df['District.Name'].value_counts().sum())"
      ],
      "execution_count": 0,
      "outputs": []
    },
    {
      "cell_type": "code",
      "metadata": {
        "id": "cBHu2okrVXei",
        "colab_type": "code",
        "colab": {}
      },
      "source": [
        "#Para verlo en porcentaje (ojo que multipliqué por 100 y le hice el round sólo por formato)\n",
        "round(df['District.Name'].value_counts(normalize=True)*100,2).values\n"
      ],
      "execution_count": 0,
      "outputs": []
    },
    {
      "cell_type": "code",
      "metadata": {
        "id": "IMhmIr8VW_Zz",
        "colab_type": "code",
        "colab": {}
      },
      "source": [
        "#Vamos a crear un nuevo df con la unión de ambas consultas\n",
        "df_distrito=df['District.Name'].value_counts().to_frame()\n",
        "df_distrito"
      ],
      "execution_count": 0,
      "outputs": []
    },
    {
      "cell_type": "code",
      "metadata": {
        "id": "po96cwCsXrQi",
        "colab_type": "code",
        "colab": {}
      },
      "source": [
        "#Quiero cambiar el nombre de las columnas\n",
        "df_distrito.columns = ['Conteo']"
      ],
      "execution_count": 0,
      "outputs": []
    },
    {
      "cell_type": "code",
      "metadata": {
        "id": "OYLSpVD1X27j",
        "colab_type": "code",
        "colab": {}
      },
      "source": [
        "df_distrito"
      ],
      "execution_count": 0,
      "outputs": []
    },
    {
      "cell_type": "code",
      "metadata": {
        "id": "SPuL6lPhYKiD",
        "colab_type": "code",
        "colab": {}
      },
      "source": [
        "#Ahora le vamos a agregar la columna con los %\n",
        "#round(df['District.Name'].value_counts(normalize=True)*100,2).values.tolist()\n",
        "#lo guardo en una variable\n",
        "porcentajes=round(df['District.Name'].value_counts(normalize=True)*100,2).values.tolist()\n",
        "porcentajes"
      ],
      "execution_count": 0,
      "outputs": []
    },
    {
      "cell_type": "code",
      "metadata": {
        "id": "20SD8c7SZFuw",
        "colab_type": "code",
        "colab": {}
      },
      "source": [
        "#Ahora agrego la columna y le asigno los valores de la lista que acabo de crear\n",
        "df_distrito['Porcentaje']=porcentajes\n",
        "\n",
        "df_distrito"
      ],
      "execution_count": 0,
      "outputs": []
    },
    {
      "cell_type": "code",
      "metadata": {
        "id": "L29HWDNOZn7R",
        "colab_type": "code",
        "colab": {}
      },
      "source": [
        "#Ahora la guardo en un CSV\n",
        "df_distrito.to_csv('Distritos.csv')"
      ],
      "execution_count": 0,
      "outputs": []
    },
    {
      "cell_type": "code",
      "metadata": {
        "id": "nc8jDD6vZ6G7",
        "colab_type": "code",
        "colab": {}
      },
      "source": [
        "#Order by\n",
        "df_distrito.sort_values('Conteo')"
      ],
      "execution_count": 0,
      "outputs": []
    },
    {
      "cell_type": "code",
      "metadata": {
        "id": "z3TduxhKazr7",
        "colab_type": "code",
        "colab": {}
      },
      "source": [
        "#Para agrupar distrito y según género\n",
        "df.groupby('Age')['Number'].value_counts()"
      ],
      "execution_count": 0,
      "outputs": []
    },
    {
      "cell_type": "code",
      "metadata": {
        "id": "yjU4mB_3rpVl",
        "colab_type": "code",
        "colab": {}
      },
      "source": [
        "df.groupby('Age')['Number'].sum().to_frame()"
      ],
      "execution_count": 0,
      "outputs": []
    },
    {
      "cell_type": "code",
      "metadata": {
        "id": "-9nf_PaJr7c9",
        "colab_type": "code",
        "colab": {}
      },
      "source": [
        "df.groupby('Age')['Number'].sum().index"
      ],
      "execution_count": 0,
      "outputs": []
    },
    {
      "cell_type": "code",
      "metadata": {
        "id": "QTWWBf2otBel",
        "colab_type": "code",
        "colab": {}
      },
      "source": [
        "orden=df.groupby('Age')['Number'].sum().index.tolist()\n",
        "orden"
      ],
      "execution_count": 0,
      "outputs": []
    },
    {
      "cell_type": "code",
      "metadata": {
        "id": "L5of02lIuGGH",
        "colab_type": "code",
        "colab": {}
      },
      "source": [
        "#la ordeno de forma manual, para después usarla en el reindex y que se vea ordenada\n",
        "orden=['0-4','5-9', '10-14', '15-19', '20-24', '25-29', '30-34', '35-39', '40-44',\n",
        "       '45-49',  '50-54', '55-59', '60-64', '65-69', '70-74', '75-79',\n",
        "       '80-84', '85-89', '90-94', '>=95']"
      ],
      "execution_count": 0,
      "outputs": []
    },
    {
      "cell_type": "code",
      "metadata": {
        "id": "f5EhMvFCtCc1",
        "colab_type": "code",
        "colab": {}
      },
      "source": [
        "segm_df=df.groupby('Age')['Number'].sum().to_frame()"
      ],
      "execution_count": 0,
      "outputs": []
    },
    {
      "cell_type": "code",
      "metadata": {
        "id": "eKOstGiWtYl0",
        "colab_type": "code",
        "colab": {}
      },
      "source": [
        "segm_df"
      ],
      "execution_count": 0,
      "outputs": []
    },
    {
      "cell_type": "code",
      "metadata": {
        "id": "OaCGodbWhRqz",
        "colab_type": "code",
        "colab": {}
      },
      "source": [
        "orden2=segm_df.index.tolist()\n",
        "print (orden2)\n",
        "#Re-ordeno Orden2\n",
        "orden2=['0-4', '5-9', '10-14', '15-19', '20-24', '25-29', '30-34', '35-39', '40-44', '45-49', '50-54', '55-59', '60-64', '65-69', '70-74', '75-79', '80-84', '85-89', '90-94', '>=95']\n",
        "print (orden2)"
      ],
      "execution_count": 0,
      "outputs": []
    },
    {
      "cell_type": "code",
      "metadata": {
        "id": "hAG-rxGAebWZ",
        "colab_type": "code",
        "colab": {}
      },
      "source": [
        "\n",
        "#De nuevo quiero cambiar el nombre de columna\n",
        "segm_df.columns=['Total']"
      ],
      "execution_count": 0,
      "outputs": []
    },
    {
      "cell_type": "code",
      "metadata": {
        "id": "0IcNs8TKtaWM",
        "colab_type": "code",
        "colab": {}
      },
      "source": [
        "segm_df= segm_df.reindex(orden2)\n",
        "segm_df"
      ],
      "execution_count": 0,
      "outputs": []
    },
    {
      "cell_type": "markdown",
      "metadata": {
        "id": "FToFTZ55u-K1",
        "colab_type": "text"
      },
      "source": [
        "GRAFICOS DE PANDAS"
      ]
    },
    {
      "cell_type": "code",
      "metadata": {
        "id": "_3RJgtLKufgt",
        "colab_type": "code",
        "colab": {}
      },
      "source": [
        "segm_df.plot(kind='barh')"
      ],
      "execution_count": 0,
      "outputs": []
    },
    {
      "cell_type": "code",
      "metadata": {
        "id": "oB0e82nWvLnU",
        "colab_type": "code",
        "colab": {}
      },
      "source": [
        "df.head()"
      ],
      "execution_count": 0,
      "outputs": []
    },
    {
      "cell_type": "code",
      "metadata": {
        "id": "vHqhbNc-wQdM",
        "colab_type": "code",
        "colab": {}
      },
      "source": [
        "condicion = df['Gender']=='Female'\n",
        "condicion2 = df['Gender']=='Male'\n",
        "\n"
      ],
      "execution_count": 0,
      "outputs": []
    },
    {
      "cell_type": "code",
      "metadata": {
        "id": "5uzeiUrYxFFI",
        "colab_type": "code",
        "colab": {}
      },
      "source": [
        "df[condicion].groupby('Age')['Number'].sum()"
      ],
      "execution_count": 0,
      "outputs": []
    },
    {
      "cell_type": "code",
      "metadata": {
        "id": "vPz7xvDJwl7d",
        "colab_type": "code",
        "colab": {}
      },
      "source": [
        "segm_df['Mujeres']=df[condicion].groupby('Age')['Number'].sum()"
      ],
      "execution_count": 0,
      "outputs": []
    },
    {
      "cell_type": "code",
      "metadata": {
        "id": "rDwlxnOkz3M5",
        "colab_type": "code",
        "colab": {}
      },
      "source": [
        "segm_df.head()"
      ],
      "execution_count": 0,
      "outputs": []
    },
    {
      "cell_type": "code",
      "metadata": {
        "id": "eJs89Ufu0MAc",
        "colab_type": "code",
        "colab": {}
      },
      "source": [
        "segm_df['Hombres']=df[condicion2].groupby('Age')['Number'].sum()\n",
        "segm_df.head()"
      ],
      "execution_count": 0,
      "outputs": []
    },
    {
      "cell_type": "code",
      "metadata": {
        "id": "If9fdaFE0ZxU",
        "colab_type": "code",
        "colab": {}
      },
      "source": [
        "segm_df= segm_df.reindex(orden)\n",
        "segm_df.plot(kind='line')"
      ],
      "execution_count": 0,
      "outputs": []
    },
    {
      "cell_type": "code",
      "metadata": {
        "id": "N7kjhS270hsU",
        "colab_type": "code",
        "colab": {}
      },
      "source": [
        "segm_df.plot(kind='bar')"
      ],
      "execution_count": 0,
      "outputs": []
    },
    {
      "cell_type": "code",
      "metadata": {
        "id": "RVm_qZ0Gi8lF",
        "colab_type": "code",
        "colab": {}
      },
      "source": [
        "segm_df.plot(kind='barh')"
      ],
      "execution_count": 0,
      "outputs": []
    },
    {
      "cell_type": "code",
      "metadata": {
        "id": "q0366Oari-YQ",
        "colab_type": "code",
        "colab": {}
      },
      "source": [
        "#Si queremos sólo presentar algunas de las columnas de df\n",
        "#Se usan doble [] si es más de una columna, para pasarlo como una lista\n",
        "\n",
        "segm_df[['Hombres','Mujeres']].plot(kind='barh')"
      ],
      "execution_count": 0,
      "outputs": []
    },
    {
      "cell_type": "code",
      "metadata": {
        "id": "gn_rM-7zlAJV",
        "colab_type": "code",
        "colab": {}
      },
      "source": [
        "#Notar que la columna col_3 tiene espacios en blanco\n",
        "df=pd.DataFrame({'col_a':[1,2,3], 'col_b': [3,2,1], 'col_c': ['uno   ','dos   ','tres   ']})\n",
        "df"
      ],
      "execution_count": 0,
      "outputs": []
    },
    {
      "cell_type": "code",
      "metadata": {
        "id": "SFkrf5ojlpdm",
        "colab_type": "code",
        "colab": {}
      },
      "source": [
        "#No trae los datos porque uno tiene espacios en blanco\n",
        "cond=df['col_c']=='uno'\n",
        "df[cond]"
      ],
      "execution_count": 0,
      "outputs": []
    },
    {
      "cell_type": "markdown",
      "metadata": {
        "id": "NmDbL0KDodqD",
        "colab_type": "text"
      },
      "source": [
        "##Lambda"
      ]
    },
    {
      "cell_type": "code",
      "metadata": {
        "id": "BDA4-MZZmNCg",
        "colab_type": "code",
        "colab": {}
      },
      "source": [
        "#hay una función que quita los espacios en blanco (string.strip) pero hay columnas que ocupan los espacios\n",
        "#para corregir esto, podemos usar la función lambda que hace un recorrido en las columnas y ejecuta lo que le digamos, por ejemplo un strip, una suma, etc\n",
        "#en este caso un strip para quitar los campos en blanco\n",
        "df['col_c']= df['col_c'].apply(lambda x : x.strip())\n",
        "df['col_c']"
      ],
      "execution_count": 0,
      "outputs": []
    },
    {
      "cell_type": "code",
      "metadata": {
        "id": "9iu_SCD5oWlU",
        "colab_type": "code",
        "colab": {}
      },
      "source": [
        "#ahora sí nos va a traer el resultado sin necesidad de poner espacios, porque ya los quitó\n",
        "cond=df['col_c']=='uno'\n",
        "df[cond]"
      ],
      "execution_count": 0,
      "outputs": []
    },
    {
      "cell_type": "markdown",
      "metadata": {
        "id": "4JqzbpyapHnL",
        "colab_type": "text"
      },
      "source": [
        "###formatear la fecha con lambda"
      ]
    },
    {
      "cell_type": "code",
      "metadata": {
        "id": "toOXGRehoZ6_",
        "colab_type": "code",
        "colab": {}
      },
      "source": [
        "df['col_d']=['20190505', '20100310', '20190612']\n",
        "df"
      ],
      "execution_count": 0,
      "outputs": []
    },
    {
      "cell_type": "code",
      "metadata": {
        "id": "6pSXHVgGo4Bg",
        "colab_type": "code",
        "colab": {}
      },
      "source": [
        "df['col_d']= df['col_d'].apply(lambda x: x[:4]+'-'+x[4:6]+'-'+x[6:])\n",
        "df"
      ],
      "execution_count": 0,
      "outputs": []
    },
    {
      "cell_type": "code",
      "metadata": {
        "id": "y4IAvOs5qBBn",
        "colab_type": "code",
        "colab": {}
      },
      "source": [
        "#Ahora vamos a cambiar el tipo de dato a fecha\n",
        "df.info()"
      ],
      "execution_count": 0,
      "outputs": []
    },
    {
      "cell_type": "code",
      "metadata": {
        "id": "mDplrcqqrPds",
        "colab_type": "code",
        "colab": {}
      },
      "source": [
        "#cambiar a tipo datetime\n",
        "df['col_d']=df['col_d'].apply(pd.to_datetime)"
      ],
      "execution_count": 0,
      "outputs": []
    },
    {
      "cell_type": "code",
      "metadata": {
        "id": "VtyjoUZirgM_",
        "colab_type": "code",
        "colab": {}
      },
      "source": [
        "df.info()"
      ],
      "execution_count": 0,
      "outputs": []
    },
    {
      "cell_type": "code",
      "metadata": {
        "id": "JJ272D2hriff",
        "colab_type": "code",
        "colab": {}
      },
      "source": [
        "df"
      ],
      "execution_count": 0,
      "outputs": []
    },
    {
      "cell_type": "markdown",
      "metadata": {
        "id": "966hqlNhtDUL",
        "colab_type": "text"
      },
      "source": [
        "#Librería matplotlib"
      ]
    },
    {
      "cell_type": "code",
      "metadata": {
        "id": "QAj4MJQasRpn",
        "colab_type": "code",
        "colab": {}
      },
      "source": [
        "import matplotlib.pyplot as plt\n"
      ],
      "execution_count": 0,
      "outputs": []
    },
    {
      "cell_type": "code",
      "metadata": {
        "id": "Ms-GR3v-tRz_",
        "colab_type": "code",
        "colab": {}
      },
      "source": [
        "x=[1,2,3,4]\n",
        "y=[1,4,9,16]\n",
        "#en lo siguiente, la r es color rojo en la línea, la o es una \"bolita\" en los puntos y los -- que es punteada, si no pongo, deja sólo los puntos y un - es contínua\n",
        "#r pued ser varios colores y o pueden ser otros tipos de marcadores, ej x,+,*\n",
        "plt.plot(x,y,'ro--')\n",
        "plt.title('Título del Gráfico')\n",
        "plt.xlabel('Eje X')\n",
        "plt.ylabel('Eje Y')\n",
        "plt.grid(True)\n",
        "plt.text(2,2,'Texto que quiera')\n",
        "plt.legend('x')\n",
        "#para no mostrar el encabezado por defecto [<matplotlib.lines.Line2D at 0x7f16c5b0dc50>]\n",
        "plt.show()\n",
        "plt.plot(x,y,'y*')\n",
        "plt.show()"
      ],
      "execution_count": 0,
      "outputs": []
    },
    {
      "cell_type": "code",
      "metadata": {
        "id": "OJoF7Y1DtaYY",
        "colab_type": "code",
        "colab": {}
      },
      "source": [
        "plt.bar(x,y)\n",
        "plt.show()"
      ],
      "execution_count": 0,
      "outputs": []
    },
    {
      "cell_type": "code",
      "metadata": {
        "id": "t7q2fh4Rum2g",
        "colab_type": "code",
        "colab": {}
      },
      "source": [
        "plt.scatter(x,y)\n",
        "plt.show()"
      ],
      "execution_count": 0,
      "outputs": []
    },
    {
      "cell_type": "code",
      "metadata": {
        "id": "2GBodOhru4GH",
        "colab_type": "code",
        "colab": {}
      },
      "source": [
        "#el explode es para separar una o más las porciones del centro del pie\n",
        "plt.pie([25,25,25,25],labels=['grupo1','grupo2','grupo3','grupo4'],\n",
        "        explode=[0,0,0,0.1], rotatelabels = True)\n",
        "plt.show()"
      ],
      "execution_count": 0,
      "outputs": []
    },
    {
      "cell_type": "code",
      "metadata": {
        "id": "W9t0W0_ezVrk",
        "colab_type": "code",
        "colab": {}
      },
      "source": [
        "#Vamos a cargar el gráfico según el df que teníamos\n",
        "df_distrito"
      ],
      "execution_count": 0,
      "outputs": []
    },
    {
      "cell_type": "code",
      "metadata": {
        "id": "l-8I87rs0ksE",
        "colab_type": "code",
        "colab": {}
      },
      "source": [
        "plt.pie(df_distrito['Porcentaje'], labels=df_distrito.index.tolist(), explode=[0,0,0,0.1,0,0,0,0,0,0])\n",
        "plt.title('Distribución por distrito')\n",
        "plt.show()\n",
        "plt.savefig('grafico1.png')"
      ],
      "execution_count": 0,
      "outputs": []
    },
    {
      "cell_type": "markdown",
      "metadata": {
        "id": "YL1NL0Z2Jql4",
        "colab_type": "text"
      },
      "source": [
        "## Otros Graficos\n",
        "Tenemos los tipo seaborn, pero son fijos, tenemos otra librería gráfica interactiva llamada plotly, la diferencia es que permite hacer otras cosas, como tener texto emergente, hacer zoom, mover el gráfico, etc... es diseñado para uso web.\n",
        "Otro que hace lo mismo, se llama bokeh...\n",
        "Ambas librerías se pueden analizar en sus páginas web y múltiples ejemplos de internet."
      ]
    },
    {
      "cell_type": "code",
      "metadata": {
        "id": "imrzhUTu04s2",
        "colab_type": "code",
        "colab": {}
      },
      "source": [
        "import numpy as np\n",
        "import matplotlib.pyplot as plt"
      ],
      "execution_count": 0,
      "outputs": []
    },
    {
      "cell_type": "code",
      "metadata": {
        "id": "MF8CGbK9Ld4U",
        "colab_type": "code",
        "colab": {}
      },
      "source": [
        "x=np.array([1,2,3,4,5])\n",
        "x*2\n",
        "#al cuadrado sería:  x**2"
      ],
      "execution_count": 0,
      "outputs": []
    },
    {
      "cell_type": "code",
      "metadata": {
        "id": "ejRdeFlkLkUA",
        "colab_type": "code",
        "colab": {}
      },
      "source": [
        "#arreglo de 100\n",
        "x= np.arange(100)\n",
        "x"
      ],
      "execution_count": 0,
      "outputs": []
    },
    {
      "cell_type": "code",
      "metadata": {
        "id": "phQSZJkeMFuC",
        "colab_type": "code",
        "colab": {}
      },
      "source": [
        "x = np.arange(2,102,2)\n",
        "x"
      ],
      "execution_count": 0,
      "outputs": []
    },
    {
      "cell_type": "code",
      "metadata": {
        "id": "22u3ViuLMQ-Q",
        "colab_type": "code",
        "colab": {}
      },
      "source": [
        "x=np.arange(1,101,1)\n",
        "x"
      ],
      "execution_count": 0,
      "outputs": []
    },
    {
      "cell_type": "code",
      "metadata": {
        "id": "iDp5lGQTMha-",
        "colab_type": "code",
        "colab": {}
      },
      "source": [
        "y=x\n",
        "y"
      ],
      "execution_count": 0,
      "outputs": []
    },
    {
      "cell_type": "code",
      "metadata": {
        "id": "2odZalLEMmzH",
        "colab_type": "code",
        "colab": {}
      },
      "source": [
        "plt.plot(x,y)\n",
        "plt.show()"
      ],
      "execution_count": 0,
      "outputs": []
    },
    {
      "cell_type": "code",
      "metadata": {
        "id": "u5BPujLPNppv",
        "colab_type": "code",
        "colab": {}
      },
      "source": [
        "y2=x**2\n",
        "plt.plot(x,y3)\n",
        "plt.show()"
      ],
      "execution_count": 0,
      "outputs": []
    },
    {
      "cell_type": "code",
      "metadata": {
        "id": "RKt4PFjjM3nl",
        "colab_type": "code",
        "colab": {}
      },
      "source": [
        "y3=x**3\n",
        "plt.plot(x,y3)\n",
        "plt.show()"
      ],
      "execution_count": 0,
      "outputs": []
    },
    {
      "cell_type": "code",
      "metadata": {
        "id": "wPSv70IdNkUw",
        "colab_type": "code",
        "colab": {}
      },
      "source": [
        "plt.plot(x,y)\n",
        "plt.plot(x,y2)\n",
        "plt.plot(x,y3)\n",
        "#para que  no se vean valores muy grandes pongo límites\n",
        "plt.ylim(0,500)\n",
        "plt.show()"
      ],
      "execution_count": 0,
      "outputs": []
    },
    {
      "cell_type": "code",
      "metadata": {
        "id": "Ne4_xLBON1QE",
        "colab_type": "code",
        "colab": {}
      },
      "source": [
        "#Puedo cambiar el formato\n",
        "plt.plot(x,y,'r.-')\n",
        "plt.plot(x,y2)\n",
        "plt.plot(x,y3)\n",
        "#para que  no se vean valores muy grandes pongo límites\n",
        "plt.ylim(0,500)\n",
        "plt.show()"
      ],
      "execution_count": 0,
      "outputs": []
    },
    {
      "cell_type": "code",
      "metadata": {
        "id": "k1fVuwDYOCU3",
        "colab_type": "code",
        "colab": {}
      },
      "source": [
        "#Puedo cambiar el formato\n",
        "plt.plot(x,y,label='Líneal')\n",
        "plt.plot(x,y2,label='Cuadratica')\n",
        "plt.plot(x,y3,label='Cúbica')\n",
        "#para que  no se vean valores muy grandes pongo límites\n",
        "plt.ylim(0,500)\n",
        "#ver labels\n",
        "plt.legend()\n",
        "plt.title('Gráfico No. 1')\n",
        "plt.xlabel('Eje X')\n",
        "plt.ylabel('Eje Y')\n",
        "plt.grid()\n",
        "plt.show()"
      ],
      "execution_count": 0,
      "outputs": []
    },
    {
      "cell_type": "code",
      "metadata": {
        "id": "Cocw3ijYPD7g",
        "colab_type": "code",
        "colab": {}
      },
      "source": [
        "#Puedo cambiar el formato\n",
        "plt.subplot(2,2,1)\n",
        "plt.plot(x,y)\n",
        "plt.subplot(2,2,2)\n",
        "plt.plot(x,y2)\n",
        "plt.subplot(2,2,3)\n",
        "plt.plot(x,y3)\n",
        "plt.subplot(2,2,4)\n",
        "plt.plot(x,y)\n",
        "\n",
        "plt.title('Titulo en conjunto')\n",
        "\n",
        "plt.show()\n"
      ],
      "execution_count": 0,
      "outputs": []
    },
    {
      "cell_type": "code",
      "metadata": {
        "id": "fY6bfu5fXNYO",
        "colab_type": "code",
        "colab": {}
      },
      "source": [
        "import seaborn as sns"
      ],
      "execution_count": 0,
      "outputs": []
    },
    {
      "cell_type": "code",
      "metadata": {
        "id": "leBV47CXXXeu",
        "colab_type": "code",
        "colab": {}
      },
      "source": [
        "#puedo agreegar estilos: dark, white, darkgrid y whitegrid \n",
        "sns.set_style('darkgrid')\n",
        "plt.plot(x,y2)\n",
        "plt.show()"
      ],
      "execution_count": 0,
      "outputs": []
    },
    {
      "cell_type": "code",
      "metadata": {
        "id": "4EhmjgfPXgyu",
        "colab_type": "code",
        "colab": {}
      },
      "source": [
        "#ahora quiero hacer el gráfico con seaborn\n",
        "sns.lineplot(x,y3)\n",
        "plt.title('Titulo que quiera')\n",
        "plt.show()"
      ],
      "execution_count": 0,
      "outputs": []
    },
    {
      "cell_type": "code",
      "metadata": {
        "id": "eoSAY85qYstn",
        "colab_type": "code",
        "colab": {}
      },
      "source": [
        "sns.scatterplot(x,y3)"
      ],
      "execution_count": 0,
      "outputs": []
    },
    {
      "cell_type": "code",
      "metadata": {
        "id": "9BCfRxkeZMS3",
        "colab_type": "code",
        "colab": {}
      },
      "source": [
        "#Agregar valores en una linea de espacio\n",
        "x=np.linspace(-10,10,500)\n",
        "y=x**2\n"
      ],
      "execution_count": 0,
      "outputs": []
    },
    {
      "cell_type": "code",
      "metadata": {
        "id": "kDeCSK0CaIMn",
        "colab_type": "code",
        "colab": {}
      },
      "source": [
        "sns.scatterplot(x,y)\n",
        "plt.show()"
      ],
      "execution_count": 0,
      "outputs": []
    },
    {
      "cell_type": "code",
      "metadata": {
        "id": "fI2S0iDtacA4",
        "colab_type": "code",
        "colab": {}
      },
      "source": [
        "#para \"generarle ruido\" a Y y que se vea más real, le voy a dar otros datos\n",
        "y=x**2 + np.random.normal(0,50,500)\n",
        "sns.scatterplot(x,y)\n",
        "plt.show()"
      ],
      "execution_count": 0,
      "outputs": []
    },
    {
      "cell_type": "code",
      "metadata": {
        "id": "BKjvHw5za4-P",
        "colab_type": "code",
        "colab": {}
      },
      "source": [
        "\n",
        "sns.scatterplot(x,y)\n",
        "sns.lineplot(x,x**2, color='red')\n",
        "plt.show()"
      ],
      "execution_count": 0,
      "outputs": []
    },
    {
      "cell_type": "code",
      "metadata": {
        "id": "x-BoQec0bZr2",
        "colab_type": "code",
        "colab": {}
      },
      "source": [
        "#alpha es para darle trasparencia\n",
        "sns.scatterplot(x,y,alpha=.3, color='orange')\n",
        "sns.lineplot(x,x**2, color='red')\n",
        "plt.show()"
      ],
      "execution_count": 0,
      "outputs": []
    },
    {
      "cell_type": "code",
      "metadata": {
        "id": "BPW3fG_yb2Xk",
        "colab_type": "code",
        "colab": {}
      },
      "source": [
        "# Y son muchos datos \"sucios\"\n",
        "y"
      ],
      "execution_count": 0,
      "outputs": []
    },
    {
      "cell_type": "code",
      "metadata": {
        "id": "cjpi20dkcTaO",
        "colab_type": "code",
        "colab": {}
      },
      "source": [
        "#vamos a ver la distribución de Y\n",
        "sns.distplot(y)\n",
        "plt.show()"
      ],
      "execution_count": 0,
      "outputs": []
    },
    {
      "cell_type": "code",
      "metadata": {
        "id": "9rtZZHhscfQu",
        "colab_type": "code",
        "colab": {}
      },
      "source": [
        "sns.scatterplot(x,y,alpha=.3, color='orange', size=x)\n",
        "sns.lineplot(x,x**2)\n",
        "plt.show()"
      ],
      "execution_count": 0,
      "outputs": []
    },
    {
      "cell_type": "code",
      "metadata": {
        "id": "p5GMJpwadKVz",
        "colab_type": "code",
        "colab": {}
      },
      "source": [
        "#Seaborn tiene algunas BDs o datasets para hacer pruebas... Para el ejemplo, vamos a usar iris, que es para identificar distintas especies de orquídeas\n",
        "iris=sns.load_dataset('iris')\n",
        "print(iris)\n",
        "iris.shape"
      ],
      "execution_count": 0,
      "outputs": []
    },
    {
      "cell_type": "code",
      "metadata": {
        "id": "pvXoIY3behN2",
        "colab_type": "code",
        "colab": {}
      },
      "source": [
        "#Cuando tengo datos numericos que tienen categorías, muchas veces quiero o comprar 2 variables a ver si tienen una relación lineal\n",
        "#puedo hacer un scatograma de esto y separado por especie\n",
        "\n",
        "sns.scatterplot(iris['sepal_length'], iris['petal_width'], hue=iris['species'],alpha=.5)\n"
      ],
      "execution_count": 0,
      "outputs": []
    },
    {
      "cell_type": "code",
      "metadata": {
        "id": "sfINyuqVewSW",
        "colab_type": "code",
        "colab": {}
      },
      "source": [
        "#Este usa todas las variables\n",
        "sns.pairplot(iris)"
      ],
      "execution_count": 0,
      "outputs": []
    },
    {
      "cell_type": "code",
      "metadata": {
        "id": "ty_Y9SnLgGqe",
        "colab_type": "code",
        "colab": {}
      },
      "source": [
        "#Este usa todas las variables para separandolo por especie\n",
        "sns.pairplot(iris, hue='species')"
      ],
      "execution_count": 0,
      "outputs": []
    },
    {
      "cell_type": "markdown",
      "metadata": {
        "id": "GWNOds8zvUST",
        "colab_type": "text"
      },
      "source": [
        "##Nuevo ejemplo con PADRON"
      ]
    },
    {
      "cell_type": "code",
      "metadata": {
        "id": "o3IKpeR7hQIN",
        "colab_type": "code",
        "colab": {}
      },
      "source": [
        "#Usando el PADRON\n",
        "# 1- Carga de trabajo de reposición de cédulas\n",
        "# 2- Será certo que en PZ hay más mujeres que hombres?\n",
        "# 3- Prevalencia apellidos vs zonas geofraf\n",
        "# 4- Equidad de género (cantidad)\n",
        "# 5- Migracion"
      ],
      "execution_count": 0,
      "outputs": []
    },
    {
      "cell_type": "code",
      "metadata": {
        "id": "yg47Fuw6lmcK",
        "colab_type": "code",
        "colab": {}
      },
      "source": [
        "import pandas as pd\n",
        "import numpy as np\n",
        "import matplotlib.pyplot as plt\n",
        "import seaborn as sns\n"
      ],
      "execution_count": 0,
      "outputs": []
    },
    {
      "cell_type": "code",
      "metadata": {
        "id": "he0GIQcFluee",
        "colab_type": "code",
        "colab": {}
      },
      "source": [
        "#cargo el archivo a un df, pero como el TSE no pone los encabezados, lo hago de forma manual\n",
        "df_dist= pd.read_csv('Distelec.txt', encoding = 'latin-1', \n",
        "                     names=['codigo', 'provincia', 'canton','distrito'])"
      ],
      "execution_count": 0,
      "outputs": []
    },
    {
      "cell_type": "code",
      "metadata": {
        "id": "8j-lVD8hmDZ3",
        "colab_type": "code",
        "colab": {}
      },
      "source": [
        "df_dist.head()"
      ],
      "execution_count": 0,
      "outputs": []
    },
    {
      "cell_type": "code",
      "metadata": {
        "id": "V43-BLT9mPqu",
        "colab_type": "code",
        "colab": {}
      },
      "source": [
        "df_padron = pd.read_csv('PADRON_COMPLETO2.txt', encoding = 'latin-1', \n",
        "                        names = ['cedula', 'codigo', 'sexo', 'f.caduc', 'junta', 'nombre', 'apellido1', 'apellido2'])"
      ],
      "execution_count": 0,
      "outputs": []
    },
    {
      "cell_type": "code",
      "metadata": {
        "id": "-IxW8NjInkCq",
        "colab_type": "code",
        "colab": {}
      },
      "source": [
        "df_padron.head(15)"
      ],
      "execution_count": 0,
      "outputs": []
    },
    {
      "cell_type": "code",
      "metadata": {
        "id": "oO2VnP1_nsoO",
        "colab_type": "code",
        "colab": {}
      },
      "source": [
        "df_dist.shape"
      ],
      "execution_count": 0,
      "outputs": []
    },
    {
      "cell_type": "code",
      "metadata": {
        "id": "TJyruo-HoPtF",
        "colab_type": "code",
        "colab": {}
      },
      "source": [
        "df_padron.shape"
      ],
      "execution_count": 0,
      "outputs": []
    },
    {
      "cell_type": "code",
      "metadata": {
        "id": "OuCk4jf9pVCv",
        "colab_type": "code",
        "colab": {}
      },
      "source": [
        "#Vamos a unir los 2 df\n",
        "#si las columnas tienen distinto nombre se usa .merge(df_dist,left_on ='col_izq',right_on='col_der')\n",
        "df = df_padron.merge(df_dist, on='codigo')\n"
      ],
      "execution_count": 0,
      "outputs": []
    },
    {
      "cell_type": "code",
      "metadata": {
        "id": "yGREsfdJqmFW",
        "colab_type": "code",
        "colab": {}
      },
      "source": [
        "df.sample(50)"
      ],
      "execution_count": 0,
      "outputs": []
    },
    {
      "cell_type": "code",
      "metadata": {
        "id": "Is1xU4BJrjEC",
        "colab_type": "code",
        "colab": {}
      },
      "source": [
        "#Quitamos junta porque no tiene datos ni aporta nada\n",
        "df = df.drop('junta', axis =1)\n"
      ],
      "execution_count": 0,
      "outputs": []
    },
    {
      "cell_type": "code",
      "metadata": {
        "id": "mZL6Xi-HtVBn",
        "colab_type": "code",
        "colab": {}
      },
      "source": [
        "df.sample(5)"
      ],
      "execution_count": 0,
      "outputs": []
    },
    {
      "cell_type": "code",
      "metadata": {
        "id": "pDEp9m8zsuH5",
        "colab_type": "code",
        "colab": {}
      },
      "source": [
        "df['provincia']=='SAN JOSE'"
      ],
      "execution_count": 0,
      "outputs": []
    },
    {
      "cell_type": "code",
      "metadata": {
        "id": "6sbhVvMjtFU-",
        "colab_type": "code",
        "colab": {}
      },
      "source": [
        "#Debo eliminar los espacios en blanco\n",
        "df['distrito'].value_counts().index.to_list()"
      ],
      "execution_count": 0,
      "outputs": []
    },
    {
      "cell_type": "code",
      "metadata": {
        "id": "eZAyKEOCt511",
        "colab_type": "code",
        "colab": {}
      },
      "source": [
        "#Al realizar la verificación con los demás campos, veo que también ocurre con nombre y apellidos \n",
        "df['distrito'] = df['distrito'].apply(lambda x : x.strip())"
      ],
      "execution_count": 0,
      "outputs": []
    },
    {
      "cell_type": "code",
      "metadata": {
        "id": "IMGTQZBAvNfa",
        "colab_type": "code",
        "colab": {}
      },
      "source": [
        "df['nombre'] = df['nombre'].apply(lambda x : x.strip())\n",
        "df['apellido1'] = df['apellido1'].apply(lambda x : x.strip())\n",
        "df['apellido2'] = df['apellido2'].apply(lambda x : x.strip())"
      ],
      "execution_count": 0,
      "outputs": []
    },
    {
      "cell_type": "code",
      "metadata": {
        "id": "HMzBlf_QvkIf",
        "colab_type": "code",
        "colab": {}
      },
      "source": [
        "df['distrito'].value_counts().index.to_list()"
      ],
      "execution_count": 0,
      "outputs": []
    },
    {
      "cell_type": "code",
      "metadata": {
        "id": "j6nG8E2cvzAz",
        "colab_type": "code",
        "colab": {}
      },
      "source": [
        "df['sexo'].value_counts()"
      ],
      "execution_count": 0,
      "outputs": []
    },
    {
      "cell_type": "code",
      "metadata": {
        "id": "yQPZ2gxdv9MV",
        "colab_type": "code",
        "colab": {}
      },
      "source": [
        "# está usando 1 para masculino y 2 para femenino, entonces lo cambio por M o F\n",
        "df['sexo'] = df['sexo'].apply(lambda x: 'M' if x==1 else 'F')"
      ],
      "execution_count": 0,
      "outputs": []
    },
    {
      "cell_type": "code",
      "metadata": {
        "id": "aJkW20KswgBZ",
        "colab_type": "code",
        "colab": {}
      },
      "source": [
        "df.sample(10)"
      ],
      "execution_count": 0,
      "outputs": []
    },
    {
      "cell_type": "code",
      "metadata": {
        "id": "WBQS5P3mwjHu",
        "colab_type": "code",
        "colab": {}
      },
      "source": [
        "#Ahora tenemos que cambiar la columna de fecha por un tipo datetime\n",
        "df['f.caduc']=df['f.caduc'].apply(lambda x: str(x)[:4]+'-'+ str(x)[4:6]+'-'+ str(x)[6:])"
      ],
      "execution_count": 0,
      "outputs": []
    },
    {
      "cell_type": "code",
      "metadata": {
        "id": "RMIaqQnExtxm",
        "colab_type": "code",
        "colab": {}
      },
      "source": [
        "df.info()"
      ],
      "execution_count": 0,
      "outputs": []
    },
    {
      "cell_type": "code",
      "metadata": {
        "id": "cC7MHi2-yCrd",
        "colab_type": "code",
        "colab": {}
      },
      "source": [
        "df.sample(50)"
      ],
      "execution_count": 0,
      "outputs": []
    },
    {
      "cell_type": "code",
      "metadata": {
        "id": "PhFNWaDcyO4V",
        "colab_type": "code",
        "colab": {}
      },
      "source": [
        "df['f.caduc']=df['f.caduc'].apply(pd.to_datetime)"
      ],
      "execution_count": 0,
      "outputs": []
    },
    {
      "cell_type": "code",
      "metadata": {
        "id": "zBqPSk-gyeqN",
        "colab_type": "code",
        "colab": {}
      },
      "source": [
        "df.info()"
      ],
      "execution_count": 0,
      "outputs": []
    },
    {
      "cell_type": "code",
      "metadata": {
        "id": "JQmRxvbl0YN9",
        "colab_type": "code",
        "colab": {}
      },
      "source": [
        "#para aclarar la primera pregunta\n",
        "#ocupo la fecha de caducidad y restarle la fecha de hoy\n",
        "#esto me da el time_delta que es la diferencia entre fechas\n",
        "df['vencimiento']=df['f.caduc']- pd.to_datetime('2019-06-19')"
      ],
      "execution_count": 0,
      "outputs": []
    },
    {
      "cell_type": "code",
      "metadata": {
        "id": "TMLzB4rA2VoF",
        "colab_type": "code",
        "colab": {}
      },
      "source": [
        "df.sample(10)"
      ],
      "execution_count": 0,
      "outputs": []
    },
    {
      "cell_type": "code",
      "metadata": {
        "id": "BtWIhbzE2bTl",
        "colab_type": "code",
        "colab": {}
      },
      "source": [
        "df.to_csv('padron_modificado.csv', index=False)"
      ],
      "execution_count": 0,
      "outputs": []
    },
    {
      "cell_type": "markdown",
      "metadata": {
        "id": "8RgazFal5fZl",
        "colab_type": "text"
      },
      "source": [
        "###kaggle.com para revisarlo "
      ]
    },
    {
      "cell_type": "code",
      "metadata": {
        "id": "qpc1zayf3EiG",
        "colab_type": "code",
        "colab": {}
      },
      "source": [
        "df= pd.read_csv('padron_modificado.csv')"
      ],
      "execution_count": 0,
      "outputs": []
    },
    {
      "cell_type": "code",
      "metadata": {
        "id": "jywfSdiALKsM",
        "colab_type": "code",
        "colab": {}
      },
      "source": [
        "df.head()"
      ],
      "execution_count": 0,
      "outputs": []
    },
    {
      "cell_type": "code",
      "metadata": {
        "id": "XR6EndtSLQ6c",
        "colab_type": "code",
        "colab": {}
      },
      "source": [
        "#Preguntas\n",
        "#1- Carga de trabajo en reposición de cédulas\n",
        "#2- Será cierto qe hay más Mujeres que Hombres en PZ?\n",
        "#3- Prevalencia de apellids por zona geográfica\n",
        "#4- Equidad de género\n",
        "#5- Migración"
      ],
      "execution_count": 0,
      "outputs": []
    },
    {
      "cell_type": "code",
      "metadata": {
        "id": "qqSd8DihLwFA",
        "colab_type": "code",
        "colab": {}
      },
      "source": [
        "df.info()"
      ],
      "execution_count": 0,
      "outputs": []
    },
    {
      "cell_type": "code",
      "metadata": {
        "id": "oboHlThbPWoM",
        "colab_type": "code",
        "colab": {}
      },
      "source": [
        "#Vamos a volver a recalcular los datos de vencimieto de cedula, eliminando y volviendo a crear la columna\n",
        "#Para no tener que poner df= XXX se pone el inplace\n",
        "df.drop ('vencimiento',axis=1, inplace=True)"
      ],
      "execution_count": 0,
      "outputs": []
    },
    {
      "cell_type": "code",
      "metadata": {
        "id": "tdhO3RPzQGEL",
        "colab_type": "code",
        "colab": {}
      },
      "source": [
        "#Para responder primera pregunta\n",
        "df['fecha_cad'].head()"
      ],
      "execution_count": 0,
      "outputs": []
    },
    {
      "cell_type": "code",
      "metadata": {
        "id": "uiqO6MZOQ8oh",
        "colab_type": "code",
        "colab": {}
      },
      "source": [
        "df['fecha_cad']=df['fecha_cad'].apply(pd.to_datetime)"
      ],
      "execution_count": 0,
      "outputs": []
    },
    {
      "cell_type": "code",
      "metadata": {
        "id": "4jxcDvxrRkjx",
        "colab_type": "code",
        "colab": {}
      },
      "source": [
        "df.info()"
      ],
      "execution_count": 0,
      "outputs": []
    },
    {
      "cell_type": "code",
      "metadata": {
        "id": "wmVB-ryVXfLf",
        "colab_type": "code",
        "colab": {}
      },
      "source": [
        "#dt son funciones para datos de tipo datetime\n",
        "df['fecha_cad'].dt.year.head()"
      ],
      "execution_count": 0,
      "outputs": []
    },
    {
      "cell_type": "code",
      "metadata": {
        "id": "DPYb_53kXzem",
        "colab_type": "code",
        "colab": {}
      },
      "source": [
        "df['fecha_cad'].dt.month_name().head()\n",
        "#en Anaconda, se puede ver el nombre del mes en Español con el comando month_name(locale='es') o 'es_CR.utf8' en Mac o Linux"
      ],
      "execution_count": 0,
      "outputs": []
    },
    {
      "cell_type": "code",
      "metadata": {
        "id": "qpV1RfAxaXsD",
        "colab_type": "code",
        "colab": {}
      },
      "source": [
        "df['fecha_cad'].dt.day_name().head()"
      ],
      "execution_count": 0,
      "outputs": []
    },
    {
      "cell_type": "code",
      "metadata": {
        "id": "kqn6eAX2bqX4",
        "colab_type": "code",
        "colab": {}
      },
      "source": [
        "df['fecha_cad'].dt.year.value_counts()"
      ],
      "execution_count": 0,
      "outputs": []
    },
    {
      "cell_type": "code",
      "metadata": {
        "id": "cn9qIft8bzmV",
        "colab_type": "code",
        "colab": {}
      },
      "source": [
        "sns.countplot(df['fecha_cad'].dt.year)\n",
        "plt.xticks(rotation=45)\n",
        "plt.show()"
      ],
      "execution_count": 0,
      "outputs": []
    },
    {
      "cell_type": "code",
      "metadata": {
        "id": "ngw__cozcl98",
        "colab_type": "code",
        "colab": {}
      },
      "source": [
        "df['año']=df['fecha_cad'].dt.year\n",
        "df['mes']=df['fecha_cad'].dt.month_name()\n",
        "df.head()"
      ],
      "execution_count": 0,
      "outputs": []
    },
    {
      "cell_type": "code",
      "metadata": {
        "id": "zFMpiZd3d6TE",
        "colab_type": "code",
        "colab": {}
      },
      "source": [
        "condicion = df['año']==2028\n",
        "df[condicion]['mes'].value_counts()"
      ],
      "execution_count": 0,
      "outputs": []
    },
    {
      "cell_type": "code",
      "metadata": {
        "id": "qxoA7545eaOm",
        "colab_type": "code",
        "colab": {}
      },
      "source": [
        "sns.countplot(df[condicion]['mes'],order=('January', 'February', 'March', 'April', 'May', 'June', 'July', 'August','September', 'October', 'November', 'December'))\n",
        "plt.xticks(rotation=45)\n",
        "sns.set_style('darkgrid')\n",
        "plt.show()"
      ],
      "execution_count": 0,
      "outputs": []
    },
    {
      "cell_type": "code",
      "metadata": {
        "id": "MB2XBgcoepuc",
        "colab_type": "code",
        "colab": {}
      },
      "source": [
        "plt.figure(figsize=(20,20))\n",
        "sns.set_style('darkgrid')\n",
        "meses=['January', 'February', 'March', 'April', 'May', 'June', 'July', 'August','September', 'October', 'November', 'December']\n",
        "plt.subplot(2,2,1)\n",
        "sns.countplot(df[(df['año']==2024)]['mes'],order=meses)\n",
        "plt.title('2024')\n",
        "plt.xticks(rotation=45)\n",
        "plt.subplot(2,2,2)\n",
        "sns.countplot(df[(df['año']==2026)]['mes'],order=meses)\n",
        "plt.title('2026')\n",
        "plt.xticks(rotation=45)\n",
        "plt.subplot(2,2,3)\n",
        "sns.countplot(df[(df['año']==2028)]['mes'],order=meses)\n",
        "plt.title('2028')\n",
        "plt.xticks(rotation=45)\n",
        "plt.subplot(2,2,4)\n",
        "sns.countplot(df[(df['año']==2030)]['mes'],order=meses)\n",
        "plt.title('2030')\n",
        "plt.xticks(rotation=45)\n",
        "\n",
        "plt.show"
      ],
      "execution_count": 0,
      "outputs": []
    },
    {
      "cell_type": "code",
      "metadata": {
        "id": "WBjeolE4hJAy",
        "colab_type": "code",
        "colab": {}
      },
      "source": [
        "plt.figure(figsize=(10,10))\n",
        "sns.set_style('darkgrid')\n",
        "meses=['January', 'February', 'March', 'April', 'May', 'June', 'July', 'August','September', 'October', 'November', 'December']\n",
        "plt.subplot(2,2,1)\n",
        "sns.countplot(y=df[(df['año']==2024)]['mes'],order=meses)\n",
        "plt.title('2024')\n",
        "plt.xticks(rotation=45)\n",
        "plt.subplot(2,2,2)\n",
        "sns.countplot(y=df[(df['año']==2026)]['mes'],order=meses)\n",
        "plt.title('2026')\n",
        "plt.xticks(rotation=45)\n",
        "plt.subplot(2,2,3)\n",
        "sns.countplot(y=df[(df['año']==2028)]['mes'],order=meses)\n",
        "plt.title('2028')\n",
        "plt.xticks(rotation=45)\n",
        "plt.subplot(2,2,4)\n",
        "sns.countplot(y=df[(df['año']==2030)]['mes'],order=meses)\n",
        "plt.title('2030')\n",
        "plt.xticks(rotation=45)\n",
        "\n",
        "plt.show"
      ],
      "execution_count": 0,
      "outputs": []
    },
    {
      "cell_type": "code",
      "metadata": {
        "id": "ICcZ4Fu4loX2",
        "colab_type": "code",
        "colab": {}
      },
      "source": [
        "#Respuesta a segunda pregunta\n",
        "#Identifico por provincia\n",
        "round(df[(df['provincia']=='SAN JOSE') & (df['canton']=='PEREZ ZELEDON')]['sexo'].value_counts(normalize=True)*100,2)"
      ],
      "execution_count": 0,
      "outputs": []
    },
    {
      "cell_type": "code",
      "metadata": {
        "id": "fbKQGGWfmTYl",
        "colab_type": "code",
        "colab": {}
      },
      "source": [
        "#Respuesta es que no es cierto\n",
        "#Verificamos sin los filtros para ver a nivel nacional\n",
        "round(df['sexo'].value_counts(normalize=True)*100,2)"
      ],
      "execution_count": 0,
      "outputs": []
    },
    {
      "cell_type": "code",
      "metadata": {
        "id": "1PiK2V2uoFE8",
        "colab_type": "code",
        "colab": {}
      },
      "source": [
        "prov=['SAN JOSE', 'ALAJUELA','CARTAGO','HEREDIA','PUNTARENAS','LIMON','GUANACASTE','CONSULADO']\n",
        "sns.countplot(y=df['provincia'],hue=df['sexo'],order=prov)\n",
        "plt.show()"
      ],
      "execution_count": 0,
      "outputs": []
    },
    {
      "cell_type": "code",
      "metadata": {
        "id": "vwx7s7RworiB",
        "colab_type": "code",
        "colab": {}
      },
      "source": [
        "plt.figure(figsize=(15,15))\n",
        "sns.set_style('darkgrid')\n",
        "sns.countplot(y=df['sexo'],hue=df['provincia'])\n",
        "plt.show()"
      ],
      "execution_count": 0,
      "outputs": []
    },
    {
      "cell_type": "code",
      "metadata": {
        "id": "cEuU81vYqdrG",
        "colab_type": "code",
        "colab": {}
      },
      "source": [
        "sns.countplot(df[df['provincia']=='SAN JOSE']['canton'],hue=df['sexo'])\n",
        "plt.xticks(rotation=90)\n",
        "plt.show()"
      ],
      "execution_count": 0,
      "outputs": []
    },
    {
      "cell_type": "code",
      "metadata": {
        "id": "bjzAAER7q5rN",
        "colab_type": "code",
        "colab": {}
      },
      "source": [
        "#Respuesta de ultima pregunta de Migración\n",
        "df[df['provincia']=='CONSULADO']['canton'].value_counts()\n",
        "\n"
      ],
      "execution_count": 0,
      "outputs": []
    },
    {
      "cell_type": "code",
      "metadata": {
        "id": "VKuR58ZYr6rj",
        "colab_type": "code",
        "colab": {}
      },
      "source": [
        "sns.countplot(df[df['provincia']=='CONSULADO']['canton'])\n",
        "plt.xticks(rotation=90)\n",
        "plt.show()"
      ],
      "execution_count": 0,
      "outputs": []
    },
    {
      "cell_type": "code",
      "metadata": {
        "id": "P9Ohwps0suCK",
        "colab_type": "code",
        "colab": {}
      },
      "source": [
        "df[(df['provincia']=='CONSULADO') & (df['canton']=='ESTADOS UNIDOS')]['distrito'].value_counts()"
      ],
      "execution_count": 0,
      "outputs": []
    },
    {
      "cell_type": "code",
      "metadata": {
        "id": "XDeMiWzzt2xk",
        "colab_type": "code",
        "colab": {}
      },
      "source": [
        "sns.countplot(df[(df['provincia']=='CONSULADO') & (df['canton']=='ESTADOS UNIDOS')]['distrito'])\n",
        "plt.xticks(rotation=90)\n",
        "plt.show()"
      ],
      "execution_count": 0,
      "outputs": []
    },
    {
      "cell_type": "code",
      "metadata": {
        "id": "k7zF5bbluW_d",
        "colab_type": "code",
        "colab": {}
      },
      "source": [
        ""
      ],
      "execution_count": 0,
      "outputs": []
    }
  ]
}