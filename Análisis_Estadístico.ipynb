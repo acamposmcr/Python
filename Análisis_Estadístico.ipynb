{
  "nbformat": 4,
  "nbformat_minor": 0,
  "metadata": {
    "kernelspec": {
      "display_name": "Python 3",
      "language": "python",
      "name": "python3"
    },
    "language_info": {
      "codemirror_mode": {
        "name": "ipython",
        "version": 3
      },
      "file_extension": ".py",
      "mimetype": "text/x-python",
      "name": "python",
      "nbconvert_exporter": "python",
      "pygments_lexer": "ipython3",
      "version": "3.7.3"
    },
    "colab": {
      "name": "Análisis Estadístico.ipynb",
      "provenance": [],
      "include_colab_link": true
    }
  },
  "cells": [
    {
      "cell_type": "markdown",
      "metadata": {
        "id": "view-in-github",
        "colab_type": "text"
      },
      "source": [
        "<a href=\"https://colab.research.google.com/github/acamposmcr/Python/blob/master/An%C3%A1lisis_Estad%C3%ADstico.ipynb\" target=\"_parent\"><img src=\"https://colab.research.google.com/assets/colab-badge.svg\" alt=\"Open In Colab\"/></a>"
      ]
    },
    {
      "cell_type": "markdown",
      "metadata": {
        "id": "iWEWrUzbav2K",
        "colab_type": "text"
      },
      "source": [
        "***\n",
        "# Cuaderno interactivo para análisis estadístico \n",
        "## Laboratorio\n",
        "***"
      ]
    },
    {
      "cell_type": "markdown",
      "metadata": {
        "id": "Ea7JB-7Uav2L",
        "colab_type": "text"
      },
      "source": [
        "<a id='indice'></a>\n",
        "\n",
        "## Contenidos:\n",
        "### Configuración Inicial:\n",
        "1. **Inicialización del entorno**\n",
        "    - Importación de [librerías](#librerias)\n",
        "    - Establecimiento de [variables](#variables) globales\n",
        "    \n",
        "    \n",
        "2. **Carga de archivos de datos a memoria**\n",
        "    - Carga de archivos para análisis [estadístico](#estadistico)\n",
        "    - Establecer rangos de fecha: análisis [estadístico](#rangos_estadistico)\n",
        "    - Carga de archivos para análisis de [producción](#produccion)\n",
        "    - Establecer rangos de fecha: análisis de [producción](#rangos_produccion)\n",
        "    - Carga de archivos para análisis tiempo de [digitación](#digitacion)\n",
        "    - Establecer rangos de fecha: análisis de tiempo de [digitación](#rangos_digitacion)\n",
        "    \n",
        "  \n",
        "3. **Exploración preliminar de datos**\n",
        "    - Exploración de set de datos para análisis [estadístico](#expl_estadistico)\n",
        "    - Exploración de set de datos para análisis de [producción](#expl_produccion)\n",
        "    - Exploración de set de datos para análisis de tiempo de [digitación](#expl_digitacion)\n",
        "\n",
        "\n",
        "4. **Elaboración del informe**\n",
        "    - Cantidad de muestras [recibidas](#muestras)\n",
        "    - Tiempo de [tránsito](#transito) de las muestras\n",
        "    - Cantidad y tiempo de tránsito de las muestras:\n",
        "        - Por vía de [ingreso](#ingreso)\n",
        "        - Por tipo de [centro](#centro)\n",
        "        - Por [región](#region)\n",
        "    - Edad de toma de muestras ([primeras](#primeras) muestras)\n",
        "    - Edad de toma de muestras ([segundas](#segundas) muestras)\n",
        "    - Muestras [insatisfactorias](#insatisf) y su criterio de selección\n",
        "    - [Producción](#prod_lab) del laboratorio\n",
        "    - [Análisis](#analisis) de tiempos de digitación\n",
        "    - [Cobertura](#cobertura) del programa y muestras insatisfactorias\n",
        "\n",
        "\n",
        "5. **Otros datos administrativos**\n",
        "    - Estadísticas por [centros](#centros):\n",
        "        - Lista de centros\n",
        "        - IDI\n",
        "    - Estadísticas [varias](#varias):\n",
        "        - Edad de la [madre](#madre) al nacer el bebé\n",
        "        - [Semanas](#semanas) de gestación\n",
        "        - [Peso](#peso) al nacer\n",
        "        - [Clasificación](#clasif) de muestras (Warncode)\n",
        "        - [Clasificación](#clasif_centro) de muestras (Warncode) por Centro\n",
        "        - Producción por [usuario](#usuario)\n",
        "        - Muestras por [provincia](#provincia)\n",
        "    \n",
        " \n",
        "6. **Apéndices**\n",
        "    - Instrucciones para el uso de [Jupyter](#jupyter) Notebook\n",
        "    - Instrucciones para escritura en [Markdown](#markdown)\n",
        "    - Descripción de algunas funciones de [Python](#python)\n",
        "    "
      ]
    },
    {
      "cell_type": "markdown",
      "metadata": {
        "id": "z4rFsCs0av2L",
        "colab_type": "text"
      },
      "source": [
        "### 1. Inicialización del entorno"
      ]
    },
    {
      "cell_type": "markdown",
      "metadata": {
        "id": "sCiOSwujav2M",
        "colab_type": "text"
      },
      "source": [
        "<a id='librerias'></a>\n",
        "***Importación de librerías***"
      ]
    },
    {
      "cell_type": "code",
      "metadata": {
        "id": "b2BZvYsYav2N",
        "colab_type": "code",
        "colab": {},
        "outputId": "c907785e-b24b-48d8-b66f-fcb564f0f054"
      },
      "source": [
        "# Importación de librerías\n",
        "\n",
        "import os\n",
        "import numpy as np\n",
        "import pandas as pd\n",
        "import matplotlib as mpl\n",
        "import matplotlib.pyplot as plt\n",
        "import seaborn as sns\n",
        "import ipywidgets as widgets\n",
        "import warnings\n",
        "\n",
        "print('\\nVersiones de las librerías importadas:\\n')\n",
        "print('numpy:',np.__version__)\n",
        "print('pandas:',pd.__version__)\n",
        "print('matplotlib:',mpl.__version__)\n",
        "print('seaborn:',sns.__version__)\n",
        "print('widgets:',widgets.__version__)\n",
        "\n",
        "# al momento de la programación se utilizaron las siguientes versiones:\n",
        "# numpy: 1.16.3\n",
        "# pandas: 0.24.2\n",
        "# matplotlib: 3.0.3\n",
        "# seaborn: 0.9.0\n",
        "# widgets: 7.4.2"
      ],
      "execution_count": 0,
      "outputs": [
        {
          "output_type": "stream",
          "text": [
            "\n",
            "Versiones de las librerías importadas:\n",
            "\n",
            "numpy: 1.16.2\n",
            "pandas: 0.24.2\n",
            "matplotlib: 3.0.3\n",
            "seaborn: 0.9.0\n",
            "widgets: 7.4.2\n"
          ],
          "name": "stdout"
        }
      ]
    },
    {
      "cell_type": "markdown",
      "metadata": {
        "id": "17hT5gwdav2P",
        "colab_type": "text"
      },
      "source": [
        "Volver al [Indice](#indice)"
      ]
    },
    {
      "cell_type": "markdown",
      "metadata": {
        "id": "qeU5hDuqav2Q",
        "colab_type": "text"
      },
      "source": [
        "<a id='variables'></a>\n",
        "***Establecimiento de variables globales***"
      ]
    },
    {
      "cell_type": "code",
      "metadata": {
        "id": "DEvrkA-rav2Q",
        "colab_type": "code",
        "colab": {}
      },
      "source": [
        "%matplotlib inline\n",
        "warnings.filterwarnings('ignore')\n",
        "\n",
        "ruta_notebook = os.getcwd()\n",
        "\n",
        "if os.name == 'posix':\n",
        "    ruta_data = ruta_notebook + '/Data/'\n",
        "    ruta_output = ruta_notebook + '/Output/'\n",
        "    ruta_graficos = ruta_notebook + '/Graficos/'\n",
        "    print('\\nSistema Operativo: ',os.uname().sysname)\n",
        "    print('Versión: ',os.uname().release)\n",
        "    print('Arquitectura: ',os.uname().machine)\n",
        "    español='es_CR.utf8'\n",
        "elif os.name == 'nt':\n",
        "    print('\\nSistema Operativo: Windows')\n",
        "    ruta_data = ruta_notebook + '\\Data\\\\'\n",
        "    ruta_output = ruta_notebook + '\\Output\\\\'\n",
        "    ruta_graficos = ruta_notebook + '\\Graficos\\\\'\n",
        "    español='es'\n",
        "else:\n",
        "    print('Sistema operativo desconocido')\n",
        "    \n",
        "print('\\nRutas para los diferentes archivos:')\n",
        "print('Archivos .ipynb:',ruta_notebook)\n",
        "print('Archivos de datos:',ruta_data)\n",
        "print('Archivos .csv para informes:',ruta_output)\n",
        "print('Gráficos para informes:',ruta_graficos)\n",
        "\n",
        "def tiempo_prom(x):\n",
        "    \n",
        "    dd = x.days*24\n",
        "    hh = str(dd + x.seconds//3600)\n",
        "    mm = str(x.seconds%3600//60)\n",
        "    ss = str(x.seconds%60)\n",
        "    \n",
        "    if len(hh)<2:\n",
        "        hh= '0'+ hh\n",
        "    if len(mm)<2:\n",
        "        mm = '0'+ mm\n",
        "    if len(ss)<2:\n",
        "        ss = '0'+ ss\n",
        "        \n",
        "    f = hh +':' + mm + ':' + ss\n",
        "    \n",
        "    return f "
      ],
      "execution_count": 0,
      "outputs": []
    },
    {
      "cell_type": "markdown",
      "metadata": {
        "id": "vB8nRi5lav2T",
        "colab_type": "text"
      },
      "source": [
        "Volver al [Indice](#indice)"
      ]
    },
    {
      "cell_type": "markdown",
      "metadata": {
        "id": "vgLGgnyLav2T",
        "colab_type": "text"
      },
      "source": [
        "### 2. Carga de archivos de datos a memoria"
      ]
    },
    {
      "cell_type": "markdown",
      "metadata": {
        "id": "nXg9hINOav2U",
        "colab_type": "text"
      },
      "source": [
        "<a id='estadistico'></a>\n",
        "***Carga de archivos para análisis estadístico***"
      ]
    },
    {
      "cell_type": "code",
      "metadata": {
        "id": "9J2_mTxhav2U",
        "colab_type": "code",
        "colab": {},
        "outputId": "a732b336-4ebf-4a81-97ab-ee15057de751"
      },
      "source": [
        "radb=widgets.RadioButtons(options=['CSV','EXCEL'],\n",
        "                          description='Selección:',disabled=False)\n",
        "print('Seleccione el tipo de archivo y luego presione [Shift]+[Enter] en la siguiente celda:')\n",
        "display(radb)"
      ],
      "execution_count": 0,
      "outputs": [
        {
          "output_type": "stream",
          "text": [
            "Seleccione el tipo de archivo y luego presione [Shift]+[Enter] en la siguiente celda:\n"
          ],
          "name": "stdout"
        },
        {
          "output_type": "display_data",
          "data": {
            "application/vnd.jupyter.widget-view+json": {
              "model_id": "3dfd48c7796742cda52a81163993d107",
              "version_major": 2,
              "version_minor": 0
            },
            "text/plain": [
              "RadioButtons(description='Selección:', options=('CSV', 'EXCEL'), value='CSV')"
            ]
          },
          "metadata": {
            "tags": []
          }
        }
      ]
    },
    {
      "cell_type": "code",
      "metadata": {
        "id": "HtsiBPsNav2W",
        "colab_type": "code",
        "colab": {}
      },
      "source": [
        "tipoArchivo = radb.value\n",
        "if radb.value == 'CSV':\n",
        "    nombre_archivo = 'Consultas Starlims 2018.csv' # cambiar el nombre del archivo correcto\n",
        "    delim = ',' # en caso de ser tabulador colocar '\\t'\n",
        "    print('El archivo de datos se encuentra en: ',ruta_data + nombre_archivo)\n",
        "    print('Cargando archivo en memoria ...')\n",
        "    df = pd.read_csv(ruta_data + nombre_archivo,delimiter = delim)\n",
        "    print('Carga finalizada: archivo de fuente de datos subido a memoria en variable: <df>')\n",
        "    \n",
        "    print('\\nArchivo de datos en formato CSV, convirtiendo formato de fechas\\n')\n",
        "    print('Fecha Recibida ORIGINAL:',df['Fecha Recibida'][0])\n",
        "    print('Convirtiendo formato ...')\n",
        "    df['Fecha Recibida'] = df['Fecha Recibida'].apply(pd.to_datetime)\n",
        "    print('Fecha Recibida CONVERTIDA:', df['Fecha Recibida'][0],'\\n')\n",
        "    print('Fecha de Nacimiento ORIGINAL:', df['Fecha de Nacimiento'][0])\n",
        "    print('Convirtiendo formato ...')\n",
        "    df['Fecha de Nacimiento'] = df['Fecha de Nacimiento'].apply(pd.to_datetime)\n",
        "    print('Fecha de Nacimiento CONVERTIDA:', df['Fecha de Nacimiento'][0],'\\n')\n",
        "    print('Fecha de Recolección ORIGINAL:', df['Fecha de Recolección'][0])\n",
        "    print('Convirtiendo formato ...')\n",
        "    df['Fecha de Recolección'] = df['Fecha de Recolección'].apply(pd.to_datetime)\n",
        "    print('Fecha de Recolección CONVERTIDA:', df['Fecha de Recolección'][0],'\\n')\n",
        "    print('Conversión de formato de fechas finalizada')\n",
        "    \n",
        "elif radb.value == 'EXCEL':\n",
        "    nombre_archivo = 'Consultas Starlims 2018.xlsx' # cambiar el nombre del archivo correcto\n",
        "    nombre_hoja = 'Hoja1'\n",
        "    print('El archivo de datos se encuentra en: ', ruta_data + nombre_archivo)\n",
        "    print('Cargando archivo en memoria ...')\n",
        "    df = pd.read_excel(ruta_data + nombre_archivo, sheet_name = nombre_hoja)\n",
        "    print('Carga finalizada: archivo de fuente de datos subido a memoria en variable: <df>')\n",
        "\n",
        "df['DiaSemana'] = df['Fecha Recibida'].dt.day_name(locale=español) \n",
        "df['Mes'] = df['Fecha Recibida'].dt.month_name(locale=español)\n",
        "df['Año'] = df['Fecha Recibida'].dt.year"
      ],
      "execution_count": 0,
      "outputs": []
    },
    {
      "cell_type": "code",
      "metadata": {
        "id": "L4UnCFlcav2Y",
        "colab_type": "code",
        "colab": {}
      },
      "source": [
        "print(radb.value)\n",
        "df.info()"
      ],
      "execution_count": 0,
      "outputs": []
    },
    {
      "cell_type": "markdown",
      "metadata": {
        "id": "2zGcuaIoav2a",
        "colab_type": "text"
      },
      "source": [
        "Volver al [Indice](#indice)"
      ]
    },
    {
      "cell_type": "markdown",
      "metadata": {
        "id": "eEQ_d7Kkav2b",
        "colab_type": "text"
      },
      "source": [
        "<a id='rangos_estadistico'></a>\n",
        "***Establecer rangos de fecha: análisis estadístico***"
      ]
    },
    {
      "cell_type": "code",
      "metadata": {
        "id": "O6XCgcyuav2b",
        "colab_type": "code",
        "colab": {}
      },
      "source": [
        "fecha_min=str(df['Fecha Recibida'].min())[:10]\n",
        "fecha_max=str(df['Fecha Recibida'].max())[:10]\n",
        "print('La variable de datos df contiene valores de fechas entre: {} y {}\\n'\n",
        "      .format(fecha_min,fecha_max))\n",
        "\n",
        "año=widgets.Dropdown(options = range(2010,2030,1),\n",
        "                     value=2018,description='Año:',\n",
        "                     disabled=False)\n",
        "\n",
        "radb=widgets.RadioButtons(options=['Fecha', 'Rango Fecha', 'Mes','Rango Mes'],\n",
        "                          description='Selección:',\n",
        "                          disabled=False)\n",
        "\n",
        "print('Seleccione el criterio de búsqueda y luego presione [Shift]+[Enter] en la siguiente celda:')\n",
        "\n",
        "display(año,radb)"
      ],
      "execution_count": 0,
      "outputs": []
    },
    {
      "cell_type": "code",
      "metadata": {
        "id": "s45tIug3av2d",
        "colab_type": "code",
        "colab": {}
      },
      "source": [
        "print('\\nIngrese los valores de fechas requeridos para la búsqueda y luego presione [Shift]+[Enter] en la siguiente celda:\\n')\n",
        "if radb.value == 'Fecha':\n",
        "    a = widgets.DatePicker(description ='Fecha',disabled = False)\n",
        "    display(a)\n",
        "elif radb.value == 'Rango Fecha':\n",
        "    a = widgets.DatePicker(description ='Fecha Inicial',disabled = False)\n",
        "    b = widgets.DatePicker(description ='Fecha Final',disabled = False)\n",
        "    display(a)\n",
        "    display(b)\n",
        "elif radb.value == 'Mes':\n",
        "    meses = ['Enero','Febrero','Marzo','Abril','Mayo','Junio','Julio',\n",
        "             'Agosto','Septiembre','Octubre','Noviembre','Diciembre']\n",
        "    a=widgets.Dropdown(options = meses, description='Mes:',disabled=False)\n",
        "    display(a)\n",
        "elif radb.value == 'Rango Mes':\n",
        "    meses = ['Enero','Febrero','Marzo','Abril','Mayo','Junio','Julio',\n",
        "             'Agosto','Septiembre','Octubre','Noviembre','Diciembre']\n",
        "    a = widgets.SelectionRangeSlider(options = meses,disabled = False)\n",
        "    display(a)"
      ],
      "execution_count": 0,
      "outputs": []
    },
    {
      "cell_type": "code",
      "metadata": {
        "id": "4OrQEvwzav2f",
        "colab_type": "code",
        "colab": {}
      },
      "source": [
        "año_busq = año.value\n",
        "\n",
        "if radb.value == 'Fecha':\n",
        "    fecha_busq = str(a.value)\n",
        "    \n",
        "    data = df[(df['Año'] == año_busq) & \n",
        "              (df['Fecha Recibida'] == fecha_busq)]\n",
        "    \n",
        "    print('\\nA partir de aquí se trabaja con la variable <data> que contiene datos generados')\n",
        "    print('el día {} del año {}\\n'.format(fecha_busq,año_busq))\n",
        "    \n",
        "    data.info()\n",
        "    \n",
        "elif radb.value == 'Rango Fecha':\n",
        "    fecha_ini = str(a.value)\n",
        "    fecha_fin = str(b.value)\n",
        "    \n",
        "    data = df[(df['Año'] == año_busq) & \n",
        "              (df['Fecha Recibida'] >= fecha_ini) & \n",
        "              (df['Fecha Recibida'] <= fecha_fin)]\n",
        "    \n",
        "    print('\\nA partir de aquí se trabaja con la variable <data> que contiene datos generados')\n",
        "    print('entre {} y {} del año {}\\n'.format(fecha_ini,fecha_fin,año_busq))\n",
        "    \n",
        "    data.info()\n",
        "\n",
        "elif radb.value == 'Mes':\n",
        "    mes = a.value\n",
        "    \n",
        "    data = df[(df['Año'] == año_busq) & \n",
        "              (df['Mes'] == mes)]\n",
        "    \n",
        "    print('\\nA partir de aquí se trabaja con la variable <data> que contiene datos generados')\n",
        "    print('el mes de {} del año {}\\n'.format(mes,año_busq))\n",
        "    \n",
        "    data.info()\n",
        "    \n",
        "elif radb.value == 'Rango Mes':\n",
        "    meses = ['Enero','Febrero','Marzo','Abril','Mayo','Junio','Julio',\n",
        "             'Agosto','Septiembre','Octubre','Noviembre','Diciembre']\n",
        "    rango_mes = meses[a.index[0]:a.index[1]+1]\n",
        "    \n",
        "    data = df[(df['Año'] == año_busq) & \n",
        "              (df['Mes'].isin(rango_mes))]\n",
        "    \n",
        "    print('\\nA partir de aquí se trabaja con la variable <data> que contiene datos generados')\n",
        "    print('entre los meses de {} del año {}\\n'.format(rango_mes,año_busq))\n",
        "   \n",
        "    data.info()"
      ],
      "execution_count": 0,
      "outputs": []
    },
    {
      "cell_type": "markdown",
      "metadata": {
        "id": "__WIPVW_av2h",
        "colab_type": "text"
      },
      "source": [
        "Volver al [Indice](#indice)"
      ]
    },
    {
      "cell_type": "markdown",
      "metadata": {
        "id": "VTDPLWr8av2h",
        "colab_type": "text"
      },
      "source": [
        "<a id='produccion'></a>\n",
        "***Carga de archivos para análisis de producción***"
      ]
    },
    {
      "cell_type": "code",
      "metadata": {
        "id": "yxohl6Qjav2i",
        "colab_type": "code",
        "colab": {}
      },
      "source": [
        "radb=widgets.RadioButtons(options=['CSV','EXCEL'],\n",
        "                          description='Selección:',disabled=False)\n",
        "print('Seleccione el tipo de archivo y luego presione [Shift]+[Enter] en la siguiente celda:')\n",
        "display(radb)"
      ],
      "execution_count": 0,
      "outputs": []
    },
    {
      "cell_type": "code",
      "metadata": {
        "id": "REhpNu9kav2k",
        "colab_type": "code",
        "colab": {}
      },
      "source": [
        "if radb.value == 'CSV':\n",
        "    nombre_archivo = 'Tiempo de procesamiento de muestras 2018.csv'\n",
        "    delim = ';' # en caso de ser tabulador colocar '\\t' \n",
        "    print('El archivo de datos se encuentra en: ', ruta_data + nombre_archivo)\n",
        "    print('Cargando archivo en memoria ...')\n",
        "    df = pd.read_csv(ruta_data + nombre_archivo, delimiter = delim,encoding = 'latin-1')\n",
        "    print('Carga finalizada: archivo de fuente de datos subido a memoria en variable: <df>')\n",
        "    \n",
        "elif radb.value == 'EXCEL':\n",
        "    nombre_archivo = 'Tiempo de procesamiento de muestras 2018.xlsx'\n",
        "    nombre_hoja = 'Hoja1'\n",
        "    print('El archivo de datos se encuentra en: ', ruta_data + nombre_archivo)\n",
        "    print('Cargando archivo ...')\n",
        "    df = pd.read_excel(ruta_data + nombre_archivo, sheet_name = nombre_hoja)\n",
        "    print('Carga finalizada: archivo de fuente de datos subido a memoria en variable: <df>')\n",
        "    \n",
        "print('Convirtiendo campos de fecha y creando campos fecha-hora...')\n",
        "df['FECHA_RECIBIDA'] = df['FECHA_RECIBIDA'].str[:10]\n",
        "df['FECHA_PROCESADA'] = df['FECHA_PROCESADA'].str[:10]\n",
        "df['Fecha Aprobada'] = df['Fecha Aprobada'].str[:10]\n",
        "df['FECHA_HORA_RECIBIDA'] = df['FECHA_RECIBIDA'] + ' ' + df['HORA_RECIBIDA'].astype(str)\n",
        "df['FECHA_HORA_RECIBIDA'] = df['FECHA_HORA_RECIBIDA'].apply(pd.to_datetime)\n",
        "df['FECHA_HORA_PROCESADA'] = df['FECHA_PROCESADA'] + ' ' + df['HORA_PROCESADA'].astype(str)\n",
        "df['FECHA_HORA_PROCESADA'] = df['FECHA_HORA_PROCESADA'].apply(pd.to_datetime)\n",
        "df['FECHA_HORA_APROBADA'] = df['Fecha Aprobada'] + ' ' + df['Hora Aprobada'].astype(str)\n",
        "df['FECHA_HORA_APROBADA'] = df['FECHA_HORA_APROBADA'].apply(pd.to_datetime)\n",
        "print('Conversión finalizada')      \n",
        "df['MES'] = df['FECHA_HORA_RECIBIDA'].dt.month_name(locale = español)\n",
        "df['AÑO'] = df['FECHA_HORA_RECIBIDA'].dt.year\n",
        "df.info()"
      ],
      "execution_count": 0,
      "outputs": []
    },
    {
      "cell_type": "markdown",
      "metadata": {
        "id": "ClWYVaSAav2m",
        "colab_type": "text"
      },
      "source": [
        "Volver al [Indice](#indice)"
      ]
    },
    {
      "cell_type": "markdown",
      "metadata": {
        "id": "TNLqsWY_av2m",
        "colab_type": "text"
      },
      "source": [
        "<a id='rangos_produccion'></a>\n",
        "***Establecer rangos de fecha: análisis de producción***"
      ]
    },
    {
      "cell_type": "code",
      "metadata": {
        "id": "-tvuSGWdav2n",
        "colab_type": "code",
        "colab": {}
      },
      "source": [
        "fecha_min=str(df['FECHA_HORA_RECIBIDA'].min())[:10]\n",
        "fecha_max=str(df['FECHA_HORA_RECIBIDA'].max())[:10]\n",
        "print('La variable de datos df contiene valores de fechas entre: {} y {}\\n'\n",
        "      .format(fecha_min,fecha_max))\n",
        "\n",
        "año=widgets.Dropdown(options = range(2010,2030,1),\n",
        "                     value=2018,description='Año:',\n",
        "                     disabled=False)\n",
        "\n",
        "radb=widgets.RadioButtons(options=['Fecha', 'Rango Fecha', 'Mes','Rango Mes'],\n",
        "                          description='Selección:',\n",
        "                          disabled=False)\n",
        "\n",
        "print('Seleccione el criterio de búsqueda y luego presione [Shift]+[Enter] en la siguiente celda:')\n",
        "\n",
        "display(año,radb)"
      ],
      "execution_count": 0,
      "outputs": []
    },
    {
      "cell_type": "code",
      "metadata": {
        "id": "wUm6GZK2av2p",
        "colab_type": "code",
        "colab": {}
      },
      "source": [
        "print('\\nIngrese los valores de fechas requeridos para la búsqueda y luego presione [Shift]+[Enter] en la siguiente celda:\\n')\n",
        "if radb.value == 'Fecha':\n",
        "    a = widgets.DatePicker(description ='Fecha',disabled = False)\n",
        "    display(a)\n",
        "elif radb.value == 'Rango Fecha':\n",
        "    a = widgets.DatePicker(description ='Fecha Inicial',disabled = False)\n",
        "    b = widgets.DatePicker(description ='Fecha Final',disabled = False)\n",
        "    display(a)\n",
        "    display(b)\n",
        "elif radb.value == 'Mes':\n",
        "    meses = ['Enero','Febrero','Marzo','Abril','Mayo','Junio','Julio',\n",
        "             'Agosto','Septiembre','Octubre','Noviembre','Diciembre']\n",
        "    a=widgets.Dropdown(options = meses, description='Mes:',disabled=False)\n",
        "    display(a)\n",
        "elif radb.value == 'Rango Mes':\n",
        "    meses = ['Enero','Febrero','Marzo','Abril','Mayo','Junio','Julio',\n",
        "             'Agosto','Septiembre','Octubre','Noviembre','Diciembre']\n",
        "    a = widgets.SelectionRangeSlider(options = meses,disabled = False)\n",
        "    display(a)"
      ],
      "execution_count": 0,
      "outputs": []
    },
    {
      "cell_type": "code",
      "metadata": {
        "id": "M5K3_ic4av2r",
        "colab_type": "code",
        "colab": {}
      },
      "source": [
        "año_busq = año.value\n",
        "\n",
        "if radb.value == 'Fecha':\n",
        "    fecha_busq = str(a.value)\n",
        "    \n",
        "    data = df[(df['AÑO'] == año_busq) & \n",
        "              (df['FECHA_RECIBIDA'] == fecha_busq)]\n",
        "    \n",
        "    print('\\nA partir de aquí se trabaja con la variable <data> que contiene datos generados')\n",
        "    print('el día {} del año {}\\n'.format(fecha_busq,año_busq))\n",
        "    \n",
        "    data.info()\n",
        "    \n",
        "elif radb.value == 'Rango Fecha':\n",
        "    fecha_ini = str(a.value)\n",
        "    fecha_fin = str(b.value)\n",
        "    \n",
        "    data = df[(df['AÑO'] == año_busq) & \n",
        "              (df['FECHA_RECIBIDA'] >= fecha_ini) & \n",
        "              (df['FECHA_RECIBIDA'] <= fecha_fin)]\n",
        "    \n",
        "    print('\\nA partir de aquí se trabaja con la variable <data> que contiene datos generados')\n",
        "    print('entre {} y {} del año {}\\n'.format(fecha_ini,fecha_fin,año_busq))\n",
        "    \n",
        "    data.info()\n",
        "\n",
        "elif radb.value == 'Mes':\n",
        "    mes = a.value\n",
        "    \n",
        "    data = df[(df['AÑO'] == año_busq) & \n",
        "              (df['MES'] == mes)]\n",
        "    \n",
        "    print('\\nA partir de aquí se trabaja con la variable <data> que contiene datos generados')\n",
        "    print('el mes de {} del año {}\\n'.format(mes,año_busq))\n",
        "    \n",
        "    data.info()\n",
        "    \n",
        "elif radb.value == 'Rango Mes':\n",
        "    meses = ['Enero','Febrero','Marzo','Abril','Mayo','Junio','Julio',\n",
        "             'Agosto','Septiembre','Octubre','Noviembre','Diciembre']\n",
        "    rango_mes = meses[a.index[0]:a.index[1]+1]\n",
        "    \n",
        "    data = df[(df['AÑO'] == año_busq) & \n",
        "              (df['MES'].isin(rango_mes))]\n",
        "    \n",
        "    print('\\nA partir de aquí se trabaja con la variable <data> que contiene datos generados')\n",
        "    print('entre los meses de {} del año {}\\n'.format(rango_mes,año_busq))\n",
        "   \n",
        "    data.info()"
      ],
      "execution_count": 0,
      "outputs": []
    },
    {
      "cell_type": "markdown",
      "metadata": {
        "id": "R7QH50Twav2t",
        "colab_type": "text"
      },
      "source": [
        "Volver al [Indice](#indice)"
      ]
    },
    {
      "cell_type": "markdown",
      "metadata": {
        "id": "z7z9LQKZav2t",
        "colab_type": "text"
      },
      "source": [
        "<a id='digitacion'></a>\n",
        "***Carga de archivos para análisis tiempo de digitación***"
      ]
    },
    {
      "cell_type": "code",
      "metadata": {
        "id": "TClsblF3av2u",
        "colab_type": "code",
        "colab": {}
      },
      "source": [
        "# Antes de ejecutar esta celda se debe correr el cuaderno:\n",
        "# <Limpieza de Base de datos para tiempos de digitación.ipynb>\n",
        "\n",
        "nombre_archivo='Tiempo_Digitación_Modif.csv'\n",
        "delim=','\n",
        "df=pd.read_csv(ruta_data+nombre_archivo,delimiter=delim)\n",
        "df.info()"
      ],
      "execution_count": 0,
      "outputs": []
    },
    {
      "cell_type": "markdown",
      "metadata": {
        "id": "KjCtObiDav2v",
        "colab_type": "text"
      },
      "source": [
        "Volver al [Indice](#indice)"
      ]
    },
    {
      "cell_type": "markdown",
      "metadata": {
        "id": "x8FdE1_Kav2w",
        "colab_type": "text"
      },
      "source": [
        "<a id='rangos_digitacion'></a>\n",
        "***Establecer rangos de fecha: análisis tiempo de digitación***"
      ]
    },
    {
      "cell_type": "code",
      "metadata": {
        "id": "aLrB8WKuav2x",
        "colab_type": "code",
        "colab": {}
      },
      "source": [
        "# Cambiar los valores de [f_ini] y [f_fin]\n",
        "# Si se desea buscar de un sólo día poner ambas fechas iguales\n",
        "\n",
        "f_ini = '2018-01-01' # cambiar fecha inicial, formato 'aaaa-mm-dd'\n",
        "f_fin = '2018-12-31' # cambiar fecha final, formato 'aaaa-mm-dd'\n",
        "\n",
        "df.info()\n",
        "f_ini += ' 00:00:00'\n",
        "f_fin += ' 00:00:00'\n",
        "data = df[(df['Fecha']>=f_ini)&(df['Fecha']<=f_fin)]\n",
        "print()\n",
        "data.info()"
      ],
      "execution_count": 0,
      "outputs": []
    },
    {
      "cell_type": "markdown",
      "metadata": {
        "id": "HqnRGH5sav20",
        "colab_type": "text"
      },
      "source": [
        "Volver al [Indice](#indice)"
      ]
    },
    {
      "cell_type": "markdown",
      "metadata": {
        "id": "xVD3uHBLav21",
        "colab_type": "text"
      },
      "source": [
        "### 3. Exploración preliminar de datos"
      ]
    },
    {
      "cell_type": "markdown",
      "metadata": {
        "id": "aUAAe0SMav22",
        "colab_type": "text"
      },
      "source": [
        "<a id='expl_estadistico'></a>\n",
        "***Exploración de set de datos para análisis estadístico***"
      ]
    },
    {
      "cell_type": "code",
      "metadata": {
        "id": "2AF6Xyj6av23",
        "colab_type": "code",
        "colab": {}
      },
      "source": [
        "data.info()"
      ],
      "execution_count": 0,
      "outputs": []
    },
    {
      "cell_type": "code",
      "metadata": {
        "id": "2_Gys9R1av26",
        "colab_type": "code",
        "colab": {}
      },
      "source": [
        "data.head()"
      ],
      "execution_count": 0,
      "outputs": []
    },
    {
      "cell_type": "code",
      "metadata": {
        "id": "Gdw-MYtcav27",
        "colab_type": "code",
        "colab": {}
      },
      "source": [
        "data.tail()"
      ],
      "execution_count": 0,
      "outputs": []
    },
    {
      "cell_type": "code",
      "metadata": {
        "id": "KFn7yvGkav29",
        "colab_type": "code",
        "colab": {}
      },
      "source": [
        "data.sample(5)"
      ],
      "execution_count": 0,
      "outputs": []
    },
    {
      "cell_type": "code",
      "metadata": {
        "id": "QPxd1Hj9av2_",
        "colab_type": "code",
        "colab": {}
      },
      "source": [
        "data.describe()"
      ],
      "execution_count": 0,
      "outputs": []
    },
    {
      "cell_type": "code",
      "metadata": {
        "id": "9PoLCmdvav3B",
        "colab_type": "code",
        "colab": {}
      },
      "source": [
        "data.columns"
      ],
      "execution_count": 0,
      "outputs": []
    },
    {
      "cell_type": "code",
      "metadata": {
        "id": "Cc5MvaTFav3D",
        "colab_type": "code",
        "colab": {}
      },
      "source": [
        "data['VIA DE INGRESO'].value_counts()"
      ],
      "execution_count": 0,
      "outputs": []
    },
    {
      "cell_type": "markdown",
      "metadata": {
        "id": "rkaaZEx7av3E",
        "colab_type": "text"
      },
      "source": [
        "Volver al [Indice](#indice)"
      ]
    },
    {
      "cell_type": "markdown",
      "metadata": {
        "id": "F3L-SOdaav3F",
        "colab_type": "text"
      },
      "source": [
        "<a id='expl_produccion'></a>\n",
        "***Exploración de set de datos para análisis de producción***"
      ]
    },
    {
      "cell_type": "code",
      "metadata": {
        "id": "mrvp211xav3F",
        "colab_type": "code",
        "colab": {}
      },
      "source": [
        ""
      ],
      "execution_count": 0,
      "outputs": []
    },
    {
      "cell_type": "markdown",
      "metadata": {
        "id": "1WSOT53Bav3H",
        "colab_type": "text"
      },
      "source": [
        "Volver al [Indice](#indice)"
      ]
    },
    {
      "cell_type": "markdown",
      "metadata": {
        "id": "dEWdE-nhav3I",
        "colab_type": "text"
      },
      "source": [
        "<a id='expl_digitacion'></a>\n",
        "***Exploración de set de datos para análisis de tiempo de digitación***"
      ]
    },
    {
      "cell_type": "code",
      "metadata": {
        "id": "VtUcCY8Kav3J",
        "colab_type": "code",
        "colab": {}
      },
      "source": [
        ""
      ],
      "execution_count": 0,
      "outputs": []
    },
    {
      "cell_type": "markdown",
      "metadata": {
        "id": "6kUCdaIpav3L",
        "colab_type": "text"
      },
      "source": [
        "Volver al [Indice](#indice)"
      ]
    },
    {
      "cell_type": "markdown",
      "metadata": {
        "id": "EabTSXUPav3M",
        "colab_type": "text"
      },
      "source": [
        "### 4. Elaboración del informe"
      ]
    },
    {
      "cell_type": "markdown",
      "metadata": {
        "id": "EoHYkQmxav3M",
        "colab_type": "text"
      },
      "source": [
        "<a id='muestras'></a>\n",
        "***Cantidad de muestras recibidas***"
      ]
    },
    {
      "cell_type": "code",
      "metadata": {
        "id": "ECIFhEPCav3O",
        "colab_type": "code",
        "colab": {}
      },
      "source": [
        "data['Mes'].value_counts()"
      ],
      "execution_count": 0,
      "outputs": []
    },
    {
      "cell_type": "code",
      "metadata": {
        "id": "kNEVICExav3Q",
        "colab_type": "code",
        "colab": {},
        "outputId": "27ff68c2-2de8-4bc3-879e-92fda2e93945"
      },
      "source": [
        "year = ['Enero','Febrero','Marzo','Abril','Mayo','Junio','Julio','Agosto','Septiembre','Octubre','Noviembre','Diciembre']\n",
        "sns.set_style('dark') #darkgrid, whitegrid, dark, white\n",
        "sns.set_palette(palette='muted',n_colors=15) #deep, muted, bright, pastel, dark, colorblind\n",
        "plt.xticks(rotation=90)\n",
        "sns.countplot(data['Mes'])\n",
        "plt.plot(data['Mes'].value_counts().to_frame().reindex(rango_mes),'ro-')\n",
        "plt.ylabel('Cantidad de muestras')\n",
        "plt.title('Gráfico: muestras recibidas por mes')\n",
        "plt.grid(True)\n",
        "plt.savefig(ruta_graficos+'cantidad de muestras.png')\n",
        "plt.show()"
      ],
      "execution_count": 0,
      "outputs": [
        {
          "output_type": "display_data",
          "data": {
            "image/png": "[encoded data removed]",
            "text/plain": [
              "<Figure size 432x288 with 1 Axes>"
            ]
          },
          "metadata": {
            "tags": []
          }
        }
      ]
    },
    {
      "cell_type": "code",
      "metadata": {
        "id": "R9FTWNB6av3S",
        "colab_type": "code",
        "colab": {}
      },
      "source": [
        "conteo_mensual = pd.DataFrame(data['Mes'].value_counts()) \n",
        "conteo_mensual.columns = ['conteo']\n",
        "conteo_mensual.to_csv(ruta_output+'conteo de muestras por mes.csv')\n",
        "conteo_mensual"
      ],
      "execution_count": 0,
      "outputs": []
    },
    {
      "cell_type": "code",
      "metadata": {
        "id": "KNds1WjAav3T",
        "colab_type": "code",
        "colab": {}
      },
      "source": [
        "minim=data['Mes'].value_counts().min()\n",
        "maxim=data['Mes'].value_counts().max()\n",
        "mes_min=conteo_mensual[(conteo_mensual['conteo']==minim)].index.tolist()[0]\n",
        "mes_max=conteo_mensual[(conteo_mensual['conteo']==maxim)].index.tolist()[0]\n",
        "\n",
        "print('El mes con menor número de muestras recibidas es {} para un total de {}'\n",
        "      .format(mes_min,minim))\n",
        "print('El mes con mayor número de muestras recibidas es {} para un total de {}'\n",
        "      .format(mes_max,maxim))\n",
        "print('Promedio mensual de muestras recibidas:',round(data['Mes'].value_counts().mean(),0))\n",
        "print('Promedio diario de muestras recibidas:',round(data['Mes'].count() / data['Fecha Recibida'].value_counts().shape[0],0))"
      ],
      "execution_count": 0,
      "outputs": []
    },
    {
      "cell_type": "markdown",
      "metadata": {
        "id": "Ljz0tWH_av3W",
        "colab_type": "text"
      },
      "source": [
        "Volver al [Indice](#indice)"
      ]
    },
    {
      "cell_type": "markdown",
      "metadata": {
        "id": "YYbmYCv4av3W",
        "colab_type": "text"
      },
      "source": [
        "<a id='transito'></a>\n",
        "***Tiempo de tránsito de las muestras***"
      ]
    },
    {
      "cell_type": "code",
      "metadata": {
        "id": "ng-6ucxAav3X",
        "colab_type": "code",
        "colab": {},
        "outputId": "6f05080b-4c6e-4058-c209-7bc508f030c2"
      },
      "source": [
        "data.describe()['Tiempo de Transito']"
      ],
      "execution_count": 0,
      "outputs": [
        {
          "output_type": "execute_result",
          "data": {
            "text/plain": [
              "count    35958.000000\n",
              "mean        24.036320\n",
              "std        938.369151\n",
              "min          0.000000\n",
              "25%          1.000000\n",
              "50%          3.000000\n",
              "75%          5.000000\n",
              "max      43242.000000\n",
              "Name: Tiempo de Transito, dtype: float64"
            ]
          },
          "metadata": {
            "tags": []
          },
          "execution_count": 33
        }
      ]
    },
    {
      "cell_type": "code",
      "metadata": {
        "id": "coTydz-cav3Y",
        "colab_type": "code",
        "colab": {}
      },
      "source": [
        "TiempoTransito = data[(data['Tiempo de Transito']>=0)&\n",
        "                      (data['Tiempo de Transito']<=15)]['Tiempo de Transito']\n",
        "\n",
        "print('\\nAnálisis Estadístico Descriptivo')\n",
        "print('--------------------------------\\n')\n",
        "print('El total de muestras incluidas en conteo:', TiempoTransito.count(),'\\n')\n",
        "print('El valor máximo de Tiempo de Tránsito es:', TiempoTransito.max(),'\\n')\n",
        "print('El valor mínimo de Tiempo de Tránsito es:', TiempoTransito.min(),'\\n')\n",
        "print('La media de Tiempo de Tránsito es: ',round(TiempoTransito.mean(),2),'\\n')\n",
        "print('La desviación estándar de Tiempo de Tránsito es:',round(TiempoTransito.std(),2),'\\n')\n",
        "print('La mediana de Tiempo de Tránsito es:',TiempoTransito.median(),'\\n')\n",
        "print('La moda de Tiempo de Tránsito es:',TiempoTransito.mode()[0],'\\n')\n",
        "print('Los percentiles de la variable [Tiempo de Tránsito] de las muestras se listan a continuación:')\n",
        "percentil=TiempoTransito.quantile([.25,.50,.75,.90,.95,.995]).to_frame()\n",
        "percentil.columns = ['días']\n",
        "percentil.index = (percentil.index*100).astype(str)+'%'\n",
        "percentil.to_csv(ruta_output+'percentiles tiempo de transito.csv')\n",
        "percentil"
      ],
      "execution_count": 0,
      "outputs": []
    },
    {
      "cell_type": "code",
      "metadata": {
        "id": "-ccdztuXav3a",
        "colab_type": "code",
        "colab": {},
        "outputId": "f2256d3a-c1f6-42c9-e2ad-baaa59c8488e"
      },
      "source": [
        "sns.set_style('dark') #darkgrid, whitegrid, dark, white\n",
        "sns.distplot(TiempoTransito,kde=True,color='red')\n",
        "plt.title('Gráfico: Distribución de los tiempos de tránsito')\n",
        "plt.xlabel('Tiempo de Tránsito [días]')\n",
        "plt.grid(True)\n",
        "plt.savefig(ruta_graficos+'distribucion tiempos transito.png')\n",
        "plt.show()"
      ],
      "execution_count": 0,
      "outputs": [
        {
          "output_type": "display_data",
          "data": {
            "image/png": "[encoded data removed]",
            "text/plain": [
              "<Figure size 432x288 with 1 Axes>"
            ]
          },
          "metadata": {
            "tags": []
          }
        }
      ]
    },
    {
      "cell_type": "code",
      "metadata": {
        "id": "bfwifKhIav3b",
        "colab_type": "code",
        "colab": {},
        "outputId": "48336002-4f4f-4d91-9b88-3b7bde42fc8b"
      },
      "source": [
        "sns.set_style('dark') #darkgrid, whitegrid, dark, white\n",
        "sns.set_palette(palette='bright',n_colors=18) #deep, muted, bright, pastel, dark, colorblind\n",
        "sns.countplot(TiempoTransito,)\n",
        "plt.title('Gráfico: Cantidad de muestras por tiempo de tránsito')\n",
        "plt.ylabel('Cantidad de muestras')\n",
        "plt.xlabel('Tiempo de Tránsito [días]')\n",
        "plt.grid(True)\n",
        "plt.savefig(ruta_graficos+'conteo por tiempo transito.png')\n",
        "plt.show()"
      ],
      "execution_count": 0,
      "outputs": [
        {
          "output_type": "display_data",
          "data": {
            "image/png": "[encoded data removed]",
            "text/plain": [
              "<Figure size 432x288 with 1 Axes>"
            ]
          },
          "metadata": {
            "tags": []
          }
        }
      ]
    },
    {
      "cell_type": "code",
      "metadata": {
        "id": "VptvydmRav3c",
        "colab_type": "code",
        "colab": {}
      },
      "source": [
        "distr=TiempoTransito.value_counts().to_frame()\n",
        "distr.columns=['conteo']\n",
        "distr['%'] = round(TiempoTransito.value_counts(normalize=True)*100,1)\n",
        "distr.to_csv(ruta_output+'distribucion tiempo transito.csv')\n",
        "distr"
      ],
      "execution_count": 0,
      "outputs": []
    },
    {
      "cell_type": "code",
      "metadata": {
        "id": "u_1kCJ4Eav3e",
        "colab_type": "code",
        "colab": {}
      },
      "source": [
        "rango1 = data[(data['Tiempo de Transito']>=0) & \n",
        "            (data['Tiempo de Transito']<=1)]['Tiempo de Transito'].count()\n",
        "\n",
        "rango2 = data[(data['Tiempo de Transito']>1) & \n",
        "              (data['Tiempo de Transito']<=5)]['Tiempo de Transito'].count()\n",
        "\n",
        "rango3 = data[(data['Tiempo de Transito']>5) & \n",
        "              (df['Tiempo de Transito']<=15)]['Tiempo de Transito'].count()\n",
        "\n",
        "rango4 = data[(data['Tiempo de Transito']>15) & \n",
        "              (df['Tiempo de Transito']<=30)]['Tiempo de Transito'].count()\n",
        "\n",
        "rango5 = data[(data['Tiempo de Transito']>30)]['Tiempo de Transito'].count()\n",
        "\n",
        "total = data['Tiempo de Transito'].count()\n",
        "\n",
        "tiemTran = pd.Series(data=rango1,index = ['0 a 1'])\n",
        "tiemTran = tiemTran.append(pd.Series(data = rango2,index = ['2 a 5']))\n",
        "tiemTran = tiemTran.append(pd.Series(data = rango3,index = ['6 a 15']))\n",
        "tiemTran = tiemTran.append(pd.Series(data = rango4,index = ['16 a 30']))\n",
        "tiemTran = tiemTran.append(pd.Series(data = rango5,index = ['> a 30']))\n",
        "tiemTran = tiemTran.append(pd.Series(data = total,index = ['Total']))\n",
        "\n",
        "tiemTran = pd.DataFrame(tiemTran)\n",
        "tiemTran.columns = ['conteo']\n",
        "tiemTran['%'] = round(tiemTran['conteo']/tiemTran['conteo']['Total']*100,1)\n",
        "tiemTran.to_csv(ruta_output+'segmentacion tiempo transito.csv')\n",
        "tiemTran"
      ],
      "execution_count": 0,
      "outputs": []
    },
    {
      "cell_type": "code",
      "metadata": {
        "id": "lVjlC3Wxav3f",
        "colab_type": "code",
        "colab": {}
      },
      "source": [
        "tTran=data[(data['Tiempo de Transito']>15)|\n",
        "           (data['Tiempo de Transito']<0)]['Tiempo de Transito'].value_counts().to_frame()\n",
        "tTran.columns = ['conteo']\n",
        "tTran.to_csv(ruta_output+'tiempos transito mayor a 15 dias.csv')\n",
        "tTran"
      ],
      "execution_count": 0,
      "outputs": []
    },
    {
      "cell_type": "code",
      "metadata": {
        "id": "OJeGHxkaav3g",
        "colab_type": "code",
        "colab": {}
      },
      "source": [
        "listaMuestras=data[(data['Tiempo de Transito']>15)|\n",
        "                   (data['Tiempo de Transito']<0)]['Muestra'].to_frame()\n",
        "listaMuestras['Fecha']=data[(data['Tiempo de Transito']>15)|\n",
        "                               (data['Tiempo de Transito']<0)]['Fecha Recibida']\n",
        "listaMuestras['Transito']=data[(data['Tiempo de Transito']>15)|\n",
        "                               (data['Tiempo de Transito']<0)]['Tiempo de Transito']\n",
        "listaMuestras.set_index(['Muestra','Fecha','Transito'],inplace=True,)\n",
        "listaMuestras.to_csv(ruta_output+'lista muestras tiempo transito.csv')\n",
        "listaMuestras"
      ],
      "execution_count": 0,
      "outputs": []
    },
    {
      "cell_type": "markdown",
      "metadata": {
        "id": "FzSDn3QZav3j",
        "colab_type": "text"
      },
      "source": [
        "Volver al [Indice](#indice)"
      ]
    },
    {
      "cell_type": "markdown",
      "metadata": {
        "id": "-BOCRwVJav3k",
        "colab_type": "text"
      },
      "source": [
        "<a id='ingreso'></a>\n",
        "***Por vía de ingreso***"
      ]
    },
    {
      "cell_type": "code",
      "metadata": {
        "id": "_ZMc1dwmav3l",
        "colab_type": "code",
        "colab": {}
      },
      "source": [
        "viaIngr = pd.DataFrame(data[(data['Tiempo de Transito']<=365)]['VIA DE INGRESO'].value_counts())\n",
        "viaIngr.columns = ['conteo']\n",
        "viaIngr['%']=round(data[(data['Tiempo de Transito']<=365)]['VIA DE INGRESO'].value_counts(normalize=True)*100,1)\n",
        "\n",
        "prom = []\n",
        "for via in viaIngr.index:\n",
        "    prom.append(round(data[(data['VIA DE INGRESO'] == via) & \n",
        "                           (data['Tiempo de Transito']<=365)]['Tiempo de Transito'].mean(),1))\n",
        "\n",
        "viaIngr['t prom'] = prom\n",
        "prom = []\n",
        "\n",
        "for via in viaIngr.index:\n",
        "    prom.append(round(data[(data['VIA DE INGRESO'] == via) & \n",
        "                           (data['Edad de Toma']<=30)&\n",
        "                           (data['Edad de Toma']>=0)]['Edad de Toma'].mean(),1))\n",
        "\n",
        "viaIngr['e prom'] = prom\n",
        "viaIngr.to_csv(ruta_output+'conteo por via ingreso.csv')\n",
        "viaIngr"
      ],
      "execution_count": 0,
      "outputs": []
    },
    {
      "cell_type": "code",
      "metadata": {
        "id": "_egvVNK2av3n",
        "colab_type": "code",
        "colab": {},
        "outputId": "8f4533c1-f68d-47b9-d6a8-aab50c13489b"
      },
      "source": [
        "plt.pie(data['VIA DE INGRESO'].value_counts(),\n",
        "        autopct='%1.1f%%', shadow=True,startangle=330,\n",
        "        explode=(0.05,0.1,0.1,0.1),pctdistance=0.8)\n",
        "plt.legend(labels=viaIngr.index.tolist(), loc=2)\n",
        "plt.title('Gráfico: muestras por vía de ingreso')\n",
        "plt.savefig(ruta_graficos+'muestras por via ingreso.png')\n",
        "plt.show()"
      ],
      "execution_count": 0,
      "outputs": [
        {
          "output_type": "display_data",
          "data": {
            "image/png": "[encoded data removed]",
            "text/plain": [
              "<Figure size 432x288 with 1 Axes>"
            ]
          },
          "metadata": {
            "tags": []
          }
        }
      ]
    },
    {
      "cell_type": "code",
      "metadata": {
        "id": "VFBSTOVHav3p",
        "colab_type": "code",
        "colab": {},
        "outputId": "c7beace2-7b55-4771-d076-82261e3ba1a1"
      },
      "source": [
        "sns.countplot(data['VIA DE INGRESO'])\n",
        "plt.title('Gráfico: muestras por vía de ingreso')\n",
        "plt.ylabel('Cantidad de muestras')\n",
        "plt.grid(True)\n",
        "plt.savefig(ruta_graficos+'conteo por via ingreso.png')\n",
        "plt.show()"
      ],
      "execution_count": 0,
      "outputs": [
        {
          "output_type": "display_data",
          "data": {
            "image/png": "[encoded data removed]",
            "text/plain": [
              "<Figure size 432x288 with 1 Axes>"
            ]
          },
          "metadata": {
            "tags": []
          }
        }
      ]
    },
    {
      "cell_type": "markdown",
      "metadata": {
        "id": "RLO2E2dZav3t",
        "colab_type": "text"
      },
      "source": [
        "Volver al [Indice](#indice)"
      ]
    },
    {
      "cell_type": "markdown",
      "metadata": {
        "id": "ZybDgBRTav3t",
        "colab_type": "text"
      },
      "source": [
        "<a id='centro'></a>\n",
        "***Por tipo de centro***"
      ]
    },
    {
      "cell_type": "code",
      "metadata": {
        "id": "LuI1W6eaav3u",
        "colab_type": "code",
        "colab": {}
      },
      "source": [
        "cant=[]\n",
        "for categ in data['CATEGORIA'].value_counts().index:\n",
        "    cant.append(data[(data['CATEGORIA'] == categ)]['Centro de Recolección'].unique().shape[0])\n",
        "\n",
        "Centro = pd.DataFrame(data['CATEGORIA'].value_counts())\n",
        "Centro.columns=['# muestras']\n",
        "Centro['%']=round(data['CATEGORIA'].value_counts(normalize=True)*100,1)\n",
        "Centro['# centros']=cant\n",
        "\n",
        "inadec = []\n",
        "for categ in data['CATEGORIA'].value_counts().index:\n",
        "    inadec.append(round(data[(data['CATEGORIA'] == categ) & \n",
        "                             (data['CLASSIFICATION']=='Inadecuada')]['CLASSIFICATION'].count()))\n",
        "Centro['# insat'] = inadec\n",
        "\n",
        "inadec = []\n",
        "for categ in data['CATEGORIA'].value_counts().index:\n",
        "    inadec.append(round(data[(data['CATEGORIA'] == categ) & \n",
        "                             (data['CLASSIFICATION']=='Inadecuada')]['CLASSIFICATION'].count()/data[(data['CATEGORIA'] == categ)]['CLASSIFICATION'].count()*100,1))\n",
        "Centro['% insat'] = inadec\n",
        "                  \n",
        "prom = []\n",
        "for categ in df['CATEGORIA'].value_counts().index:\n",
        "    prom.append(round(data[(data['CATEGORIA'] == categ) & \n",
        "                         (data['Tiempo de Transito']<=365)]['Tiempo de Transito'].mean(),1))\n",
        "Centro['t_prom'] = prom\n",
        "prom = []\n",
        "for categ in data['CATEGORIA'].value_counts().index:\n",
        "    prom.append(round(data[(data['CATEGORIA'] == categ) & \n",
        "                         (data['Edad de Toma']<=30) &\n",
        "                         (data['Edad de Toma']>=0)]['Edad de Toma'].mean(),1))\n",
        "Centro['e_prom'] = prom\n",
        "Centro.to_csv(ruta_output+'segmentacion por centro.csv',encoding='utf-16')\n",
        "Centro"
      ],
      "execution_count": 0,
      "outputs": []
    },
    {
      "cell_type": "markdown",
      "metadata": {
        "id": "11CxmtwVav3v",
        "colab_type": "text"
      },
      "source": [
        "Volver al [Indice](#indice)"
      ]
    },
    {
      "cell_type": "markdown",
      "metadata": {
        "id": "0_uqyCdTav3v",
        "colab_type": "text"
      },
      "source": [
        "<a id='region'></a>\n",
        "***Por región***"
      ]
    },
    {
      "cell_type": "code",
      "metadata": {
        "id": "oVvZtN7vav3w",
        "colab_type": "code",
        "colab": {}
      },
      "source": [
        "Region = pd.DataFrame(data['REGION'].value_counts())\n",
        "Region.columns=['# muestras']\n",
        "Region['% muestras']=round(data['REGION'].value_counts(normalize=True)*100,1)\n",
        "insat = []\n",
        "for region in data['REGION'].value_counts().index:\n",
        "    insat.append(round(data[(data['REGION'] == region) & \n",
        "                          (data['CLASSIFICATION']=='Inadecuada')]['CLASSIFICATION'].count(),1))\n",
        "Region['# insatisf'] = insat\n",
        "insat = []\n",
        "for region in data['REGION'].value_counts().index:\n",
        "    insat.append(round(data[(data['REGION'] == region) & \n",
        "                          (data['CLASSIFICATION']=='Inadecuada')]['CLASSIFICATION'].count()/data[(data['REGION'] == region)]['CLASSIFICATION'].count()*100,1))\n",
        "Region['% insat'] = insat\n",
        "prom = []\n",
        "for region in data['REGION'].value_counts().index:\n",
        "    prom.append(round(data[(data['REGION'] == region) & \n",
        "                           (data['Tiempo de Transito']<=365)]['Tiempo de Transito'].mean(),1))\n",
        "Region['t_prom'] = prom\n",
        "prom = []\n",
        "for region in data['REGION'].value_counts().index:\n",
        "    prom.append(round(data[(data['REGION'] == region) & \n",
        "                           (data['Edad de Toma']<=30) &\n",
        "                           (data['Edad de Toma']>=0)]['Tiempo de Transito'].mean(),1))\n",
        "Region['e_prom'] = prom\n",
        "Region.to_csv(ruta_output+'segmentacion por region.csv',encoding='utf-16')\n",
        "Region"
      ],
      "execution_count": 0,
      "outputs": []
    },
    {
      "cell_type": "markdown",
      "metadata": {
        "id": "eOQqCuzOav3x",
        "colab_type": "text"
      },
      "source": [
        "Volver al [Indice](#indice)"
      ]
    },
    {
      "cell_type": "markdown",
      "metadata": {
        "id": "ElnK_tFOav3x",
        "colab_type": "text"
      },
      "source": [
        "<a id='primeras'></a>\n",
        "***Edad de toma de muestras (primeras muestras)***"
      ]
    },
    {
      "cell_type": "code",
      "metadata": {
        "id": "93UuqrGrav3y",
        "colab_type": "code",
        "colab": {}
      },
      "source": [
        "edad_Prim = data[(data['Edad de Toma']>=0)&\n",
        "              (data['Edad de Toma']<=30)&\n",
        "              ((data['SUB_CLASSIFICATION']=='Perfil Completo')|\n",
        "              (data['SUB_CLASSIFICATION']=='Recuperada'))]['Edad de Toma'].dropna()\n",
        "\n",
        "print('\\nAnálisis Estadístico Descriptivo')\n",
        "print('--------------------------------\\n')\n",
        "print('El total de muestras utilizadas:', edad_Prim.count(),'\\n')\n",
        "print('El valor máximo de Edad de Toma es:', edad_Prim.max(),'\\n')\n",
        "print('El valor mínimo de Edad de Toma es:', edad_Prim.min(),'\\n')\n",
        "print('La media de la Edad de Toma es: ',round(edad_Prim.mean(),2),'\\n')\n",
        "print('La desviación estándar de la Edad de Toma es:',round(edad_Prim.std(),2),'\\n')\n",
        "print('La mediana de la Edad de Toma es:',edad_Prim.median(),'\\n')\n",
        "print('La moda de la Edad de Toma es:',edad_Prim.mode()[0],'\\n')\n",
        "print('Los percentiles de la variable [Edad de Toma] de las muestras se listan a continuación:')\n",
        "percentil=edad_Prim.quantile([.25,.50,.75,.90,.95,.995]).to_frame()\n",
        "percentil.columns = ['']\n",
        "percentil.index = (percentil.index*100).astype(str)+'%'\n",
        "percentil.to_csv(ruta_output+'percentiles edad toma primeras muestras.csv')\n",
        "percentil"
      ],
      "execution_count": 0,
      "outputs": []
    },
    {
      "cell_type": "code",
      "metadata": {
        "id": "p9sl7Hsvav31",
        "colab_type": "code",
        "colab": {},
        "outputId": "537f41a4-84e5-4b1c-ed7b-b2f528907d09"
      },
      "source": [
        "sns.set_style('whitegrid')\n",
        "sns.distplot(edad_Prim,kde=False,color='green')\n",
        "plt.show()"
      ],
      "execution_count": 0,
      "outputs": [
        {
          "output_type": "display_data",
          "data": {
            "image/png": "[encoded data removed]",
            "text/plain": [
              "<Figure size 432x288 with 1 Axes>"
            ]
          },
          "metadata": {
            "tags": []
          }
        }
      ]
    },
    {
      "cell_type": "code",
      "metadata": {
        "id": "WU7RibY4av33",
        "colab_type": "code",
        "colab": {}
      },
      "source": [
        "prim = data[((data['SUB_CLASSIFICATION']=='Perfil Completo')|\n",
        "                 (data['SUB_CLASSIFICATION']=='Recuperada'))]\n",
        "\n",
        "rango1=prim[(prim['Edad de Toma']>=0) & (prim['Edad de Toma']<=2)]['Edad de Toma'].count()\n",
        "rango2=prim[(prim['Edad de Toma']>=3) & (prim['Edad de Toma']<=4)]['Edad de Toma'].count()\n",
        "rango3=prim[(prim['Edad de Toma']>=5) & (prim['Edad de Toma']<=7)]['Edad de Toma'].count()\n",
        "rango4=prim[(prim['Edad de Toma']>=8) & (prim['Edad de Toma']<=15)]['Edad de Toma'].count()\n",
        "rango5=prim[(prim['Edad de Toma']>=16) & (prim['Edad de Toma']<=30)]['Edad de Toma'].count()\n",
        "rango6=prim[(prim['Edad de Toma']>30)]['Edad de Toma'].count()\n",
        "total=prim['Edad de Toma'].count()\n",
        "\n",
        "EdadToma=pd.Series(data=rango1,index = ['0 a 2 días'])\n",
        "EdadToma=EdadToma.append(pd.Series(data=rango2,index = ['3 a 4 días']))\n",
        "EdadToma=EdadToma.append(pd.Series(data=rango3,index = ['5 a 7 días']))\n",
        "EdadToma=EdadToma.append(pd.Series(data=rango4,index = ['8 a 15 días']))\n",
        "EdadToma=EdadToma.append(pd.Series(data=rango5,index = ['16 a 30 días']))\n",
        "EdadToma=EdadToma.append(pd.Series(data=rango6,index = ['> a 30 días']))\n",
        "EdadToma=EdadToma.append(pd.Series(data=total,index = ['Total']))\n",
        "EdadToma = pd.DataFrame(EdadToma)\n",
        "EdadToma.columns=['conteo']\n",
        "EdadToma['%']= round(EdadToma['conteo']/EdadToma['conteo']['Total']*100,2)\n",
        "\n",
        "porcentaje = 0\n",
        "for porcent in EdadToma['%'][0:3]:\n",
        "    porcentaje = porcentaje + porcent\n",
        "porcentaje = round(porcentaje,2)   \n",
        "print('\\nHasta los 7 días de nacidos se ha tamizado el:',str(porcentaje),'% del total de muestras\\n')\n",
        "\n",
        "print('Total de muestras de primera toma:',total,'\\n')\n",
        "\n",
        "EdadToma.to_csv(ruta_output+'segmentación edad primera muestra.csv')\n",
        "EdadToma\n"
      ],
      "execution_count": 0,
      "outputs": []
    },
    {
      "cell_type": "markdown",
      "metadata": {
        "id": "S25ERBrrav35",
        "colab_type": "text"
      },
      "source": [
        "Volver al [Indice](#indice)"
      ]
    },
    {
      "cell_type": "markdown",
      "metadata": {
        "id": "RT1zlFIMav35",
        "colab_type": "text"
      },
      "source": [
        "<a id='segundas'></a>\n",
        "***Edad de toma de muestras (segundas muestras)***"
      ]
    },
    {
      "cell_type": "code",
      "metadata": {
        "id": "WOK-OLSZav35",
        "colab_type": "code",
        "colab": {}
      },
      "source": [
        "rango=[]\n",
        "for num in range(400,442,1):\n",
        "    rango.append(str(num))\n",
        "for num in range(445,500,1):\n",
        "    rango.append(str(num))\n",
        "rango\n",
        "\n",
        "seg_muestra=data[(data['WARNCODE'].str[:3].isin(rango))&\n",
        "                 (data['Edad de Toma']>=0)&\n",
        "                 (data['Edad de Toma']<=365)]['WARNCODE'].value_counts().to_frame()\n",
        "seg_muestra.columns=['conteo']\n",
        "seg_muestra.to_csv(ruta_output+'conteo de segundas muestras.csv')\n",
        "seg_muestra"
      ],
      "execution_count": 0,
      "outputs": []
    },
    {
      "cell_type": "code",
      "metadata": {
        "id": "Zz3fHZRKav37",
        "colab_type": "code",
        "colab": {}
      },
      "source": [
        "edad_Seg = data[(data['WARNCODE'].str[:3].isin(rango))&\n",
        "                (data['Edad de Toma']>=0)&\n",
        "                (data['Edad de Toma']<=365)]['Edad de Toma']\n",
        "\n",
        "print('\\nAnálisis Estadístico Descriptivo')\n",
        "print('--------------------------------\\n')\n",
        "print('El total de muestras utilizadas:', edad_Seg.count(),'\\n')\n",
        "print('El valor máximo de Edad de Toma es:', edad_Seg.max(),'\\n')\n",
        "print('El valor mínimo de Edad de Toma es:', edad_Seg.min(),'\\n')\n",
        "print('La media de la Edad de Toma es: ',round(edad_Seg.mean(),2),'\\n')\n",
        "print('La desviación estándar de la Edad de Toma es:',round(edad_Seg.std(),2),'\\n')\n",
        "print('La mediana de la Edad de Toma es:',edad_Seg.median(),'\\n')\n",
        "print('La moda de la Edad de Toma es:',edad_Seg.mode()[0],'\\n')\n",
        "print('Los percentiles de la variable [Edad de Toma] de las muestras se listan a continuación:')\n",
        "percentil=edad_Seg.quantile([.25,.50,.75,.90,.95,.995]).to_frame()\n",
        "percentil.columns = ['']\n",
        "percentil.index = (percentil.index*100).astype(str)+'%'\n",
        "percentil.to_csv(ruta_output+'percentiles edad toma segundas muestras.csv')\n",
        "percentil"
      ],
      "execution_count": 0,
      "outputs": []
    },
    {
      "cell_type": "markdown",
      "metadata": {
        "id": "xCDmt8ruav38",
        "colab_type": "text"
      },
      "source": [
        "Volver al [Indice](#indice)"
      ]
    },
    {
      "cell_type": "markdown",
      "metadata": {
        "id": "lPpeVnuMav39",
        "colab_type": "text"
      },
      "source": [
        "<a id='insatisf'></a>\n",
        "***Muestras insatisfactorias y su criterio de selección***"
      ]
    },
    {
      "cell_type": "code",
      "metadata": {
        "id": "RqwfhLw-av39",
        "colab_type": "code",
        "colab": {}
      },
      "source": [
        "defecto = ['101','102','103','104','105','201','202','203','204','205','206','207','214','216']\n",
        "total_insatisfactorias = data[data['WARNCODE'].str[0:3].isin(defecto)]['WARNCODE'].value_counts().sum()\n",
        "print()\n",
        "print('El total de muestras insatisfactorias es de:',total_insatisfactorias)\n",
        "total_recibidas = data['Fecha Recibida'].count()\n",
        "porcent_insatisf = round(total_insatisfactorias/total_recibidas*100,2)\n",
        "print('Esto corresponde a: ' + str(porcent_insatisf) + ' % del total recibido de ' + str(total_recibidas) + ' muestras')\n",
        "Insatisf = pd.DataFrame(data[data['WARNCODE'].str[0:3].isin(defecto)]['WARNCODE'].value_counts())\n",
        "Insatisf.columns = ['muestras']\n",
        "Insatisf['%'] = round(Insatisf['muestras']/total_insatisfactorias*100,1)\n",
        "Insatisf.to_csv(ruta_output+'muestras insatisf y criterio.csv',encoding='utf-16')\n",
        "Insatisf"
      ],
      "execution_count": 0,
      "outputs": []
    },
    {
      "cell_type": "markdown",
      "metadata": {
        "id": "MQxzscl-av3-",
        "colab_type": "text"
      },
      "source": [
        "Volver al [Indice](#indice)"
      ]
    },
    {
      "cell_type": "markdown",
      "metadata": {
        "id": "B3z8ACeaav3_",
        "colab_type": "text"
      },
      "source": [
        "<a id='prod_lab'></a>\n",
        "***Producción del laboratorio***"
      ]
    },
    {
      "cell_type": "code",
      "metadata": {
        "id": "MjT7G-BKav4A",
        "colab_type": "code",
        "colab": {}
      },
      "source": [
        "year = ['Enero','Febrero','Marzo','Abril','Mayo','Junio','Julio',\n",
        "        'Agosto','Septiembre','Octubre','Noviembre','Diciembre']\n",
        "totalizado = []\n",
        "\n",
        "ConteoP = pd.DataFrame(data['MES'].value_counts())\n",
        "ConteoP.columns = ['Total']\n",
        "\n",
        "for prueba in data['PRUEBA'].value_counts().index.tolist():\n",
        "    ConteoP[prueba] = (data[data['PRUEBA'] == prueba]['MES'].value_counts())\n",
        "\n",
        "ConteoP.rename(columns={'Aminoacidos y Acilcarnitinas': 'AAC', \n",
        "                        'Galactosa Total': 'GAL',\n",
        "                        '17-OHP': '17OHP',\n",
        "                        'Hemoglobinas Totales': 'HBs', \n",
        "                        'TSH Neonatal': 'TSH'}, inplace=True)\n",
        "\n",
        "ConteoP=ConteoP.reindex(year)\n",
        "\n",
        "for columna in ConteoP.columns:\n",
        "    totalizado.append(ConteoP[columna].sum())\n",
        "    \n",
        "ConteoP.loc['TOTAL'] = totalizado\n",
        "\n",
        "ConteoP.to_csv(ruta_output+'produccion laboratorio.csv')\n",
        "ConteoP"
      ],
      "execution_count": 0,
      "outputs": []
    },
    {
      "cell_type": "code",
      "metadata": {
        "id": "gtRQeH-cav4C",
        "colab_type": "code",
        "colab": {}
      },
      "source": [
        "td = (df['FECHA_HORA_APROBADA']-df['FECHA_HORA_RECIBIDA']).mean()\n",
        "print('\\nEl tiempo promedio de proceso total de muestras es de:',tiempo_prom(td),'horas')\n",
        "dias=td.components.days\n",
        "horas=td.components.hours\n",
        "minutos=td.components.minutes\n",
        "segundos=td.components.seconds\n",
        "print('Esto es {} día, {} horas, {} minutos, {} segundos\\n'.format(dias,horas,minutos,segundos))"
      ],
      "execution_count": 0,
      "outputs": []
    },
    {
      "cell_type": "code",
      "metadata": {
        "id": "Ub1P0bgVav4E",
        "colab_type": "code",
        "colab": {}
      },
      "source": [
        "T_Prom = data[(data['REPETICION']=='N')]['PRUEBA'].value_counts().to_frame()\n",
        "T_Prom.columns=['Cantidad']\n",
        "tprom=[]\n",
        "for prueba in data['PRUEBA'].value_counts().index.tolist():\n",
        "    tprom.append(tiempo_prom((data[(data['PRUEBA']== prueba)&(data['REPETICION']=='N')]['FECHA_HORA_APROBADA']-\n",
        "                                    data[(data['PRUEBA']== prueba)&(data['REPETICION']=='N')]['FECHA_HORA_RECIBIDA']).mean()))\n",
        "T_Prom['Tiempo']=tprom\n",
        "T_Prom.to_csv(ruta_output+'tiempo promedio proceso pruebas.csv')\n",
        "T_Prom"
      ],
      "execution_count": 0,
      "outputs": []
    },
    {
      "cell_type": "markdown",
      "metadata": {
        "id": "Gr5sF5bNav4F",
        "colab_type": "text"
      },
      "source": [
        "Volver al [Indice](#indice)"
      ]
    },
    {
      "cell_type": "markdown",
      "metadata": {
        "id": "tJFekB_lav4F",
        "colab_type": "text"
      },
      "source": [
        "<a id='analisis'></a>\n",
        "***Análisis de tiempos de digitación***"
      ]
    },
    {
      "cell_type": "code",
      "metadata": {
        "id": "OwQCQR6Xav4F",
        "colab_type": "code",
        "colab": {}
      },
      "source": [
        "data.columns.tolist()"
      ],
      "execution_count": 0,
      "outputs": []
    },
    {
      "cell_type": "code",
      "metadata": {
        "id": "vYnQML4Eav4H",
        "colab_type": "code",
        "colab": {}
      },
      "source": [
        "data['Evento'].value_counts()"
      ],
      "execution_count": 0,
      "outputs": []
    },
    {
      "cell_type": "code",
      "metadata": {
        "id": "-9eSmeHXav4I",
        "colab_type": "code",
        "colab": {}
      },
      "source": [
        "# preparación de los sets de datos para análisis\n",
        "\n",
        "data.drop(['Segundo Data','Fecha','Hora'], axis=1, inplace=True)\n",
        "\n",
        "df_Login = data[data['Evento']=='Login']\n",
        "df_IDE1 = data[data['Evento']=='InicioDataEntry1']\n",
        "df_IDE2 = data[data['Evento']=='InicioDataEntry2']\n",
        "df_FDE2 = data[data['Evento']=='FinDataEntry2']\n",
        "\n",
        "df_Login.columns = ['Evento_Login', 'Num Muestra', 'Usuario_Login', 'Fecha_Hora_Login']\n",
        "df_IDE1.columns = ['Evento_IDE1', 'Num Muestra', 'Usuario_IDE1', 'Fecha_Hora_IDE1']\n",
        "df_IDE2.columns = ['Evento_IDE2', 'Num Muestra', 'Usuario_IDE2', 'Fecha_Hora_IDE2']\n",
        "df_FDE2.columns = ['Evento_FDE2', 'Num Muestra', 'Usuario_FDE2', 'Fecha_Hora_FDE2']"
      ],
      "execution_count": 0,
      "outputs": []
    },
    {
      "cell_type": "code",
      "metadata": {
        "id": "FwpyBKxCav4M",
        "colab_type": "code",
        "colab": {}
      },
      "source": [
        "# combinando las tablas respecto al número de muestra\n",
        "\n",
        "df_Login_FDE2 = pd.merge(df_Login, df_FDE2, how='inner', on=['Num Muestra'])\n",
        "df_Login_FDE2.drop(['Evento_Login','Evento_FDE2'], axis=1, inplace=True)\n",
        "\n",
        "df_IDE1_FDE2 = pd.merge(df_IDE1, df_FDE2, how='inner', on=['Num Muestra'])\n",
        "df_IDE1_FDE2.drop(['Evento_IDE1','Evento_FDE2'], axis=1, inplace=True)\n",
        "\n",
        "df_IDE2_FDE2 = pd.merge(df_IDE2, df_FDE2, how='inner', on=['Num Muestra'])\n",
        "df_IDE2_FDE2.drop(['Evento_IDE2','Evento_FDE2'], axis=1, inplace=True)\n"
      ],
      "execution_count": 0,
      "outputs": []
    },
    {
      "cell_type": "code",
      "metadata": {
        "id": "QnsEJa50av4O",
        "colab_type": "code",
        "colab": {}
      },
      "source": [
        "# buscando valores negativos en la resta de los campos fecha hora\n",
        "df_Login_FDE2[df_Login_FDE2['Fecha_Hora_Login']>df_Login_FDE2['Fecha_Hora_FDE2']]"
      ],
      "execution_count": 0,
      "outputs": []
    },
    {
      "cell_type": "code",
      "metadata": {
        "id": "7o7vb2Klav4Q",
        "colab_type": "code",
        "colab": {}
      },
      "source": [
        "# cálculos para análisis de tiempo de digitación entre Login y FinDataEntry2\n",
        "\n",
        "df_Login_FDE2['Fecha_Hora_Login'] = df_Login_FDE2['Fecha_Hora_Login'].apply(pd.to_datetime)\n",
        "df_Login_FDE2['Fecha_Hora_FDE2'] = df_Login_FDE2['Fecha_Hora_FDE2'].apply(pd.to_datetime)\n",
        "df_Login_FDE2['Tiempo'] = df_Login_FDE2['Fecha_Hora_FDE2']-df_Login_FDE2['Fecha_Hora_Login']\n",
        "\n",
        "tprom = df_Login_FDE2['Tiempo'].mean()\n",
        "dia=tprom.components.days\n",
        "hors=tprom.components.hours\n",
        "mins=tprom.components.minutes\n",
        "segs=tprom.components.seconds\n",
        "print('\\nEl tiempo promedio de proceso es', tiempo_prom(tprom),'horas') # acá usamos la función tiempo_prom()\n",
        "print('Esto es: {} días, {} horas, {} minutos y {} segundos'.format(dia,hors,mins,segs))\n",
        "\n",
        "df_Login_FDE2.to_csv(ruta_output+'Tiempo de proceso.csv')\n",
        "df_Login_FDE2.head()"
      ],
      "execution_count": 0,
      "outputs": []
    },
    {
      "cell_type": "code",
      "metadata": {
        "id": "5W84IvYdav4U",
        "colab_type": "code",
        "colab": {}
      },
      "source": [
        "# cálculos para análisis de tiempo de digitación entre InicioDataEntry1 y FinDataEntry2\n",
        "# convirtiendo campos en fecha_hora\n",
        "df_IDE1_FDE2['Fecha_Hora_IDE1'] = df_IDE1_FDE2['Fecha_Hora_IDE1'].apply(pd.to_datetime)\n",
        "df_IDE1_FDE2['Fecha_Hora_FDE2'] = df_IDE1_FDE2['Fecha_Hora_FDE2'].apply(pd.to_datetime)"
      ],
      "execution_count": 0,
      "outputs": []
    },
    {
      "cell_type": "code",
      "metadata": {
        "scrolled": true,
        "id": "xdhIspWtav4V",
        "colab_type": "code",
        "colab": {}
      },
      "source": [
        "# buscando valores negativos en la resta de los campos fecha hora\n",
        "tmp=df_IDE1_FDE2[df_IDE1_FDE2['Fecha_Hora_IDE1']>df_IDE1_FDE2['Fecha_Hora_FDE2']]\n",
        "tmp.to_csv(ruta_output+'listado errores IDE1 FDE2.csv')\n",
        "tmp"
      ],
      "execution_count": 0,
      "outputs": []
    },
    {
      "cell_type": "code",
      "metadata": {
        "id": "7fgnnVq3av4W",
        "colab_type": "code",
        "colab": {}
      },
      "source": [
        "# hace los cálculos de tiempo promedio\n",
        "df_IDE1_FDE2=df_IDE1_FDE2[df_IDE1_FDE2['Fecha_Hora_IDE1']<df_IDE1_FDE2['Fecha_Hora_FDE2']]\n",
        "\n",
        "df_IDE1_FDE2['Tiempo'] = df_IDE1_FDE2['Fecha_Hora_FDE2']-df_IDE1_FDE2['Fecha_Hora_IDE1']\n",
        "df_IDE1_FDE2['Dupla'] = df_IDE1_FDE2['Usuario_IDE1'] + ' - ' + df_IDE1_FDE2['Usuario_FDE2']\n",
        "\n",
        "tprom = df_IDE1_FDE2['Tiempo'].mean()\n",
        "dia=tprom.components.days\n",
        "hors=tprom.components.hours\n",
        "mins=tprom.components.minutes\n",
        "segs=tprom.components.seconds\n",
        "print('\\nEl tiempo promedio de proceso IDE1 - FDE2 es', tiempo_prom(tprom),'horas') # acá usamos la función tiempo_prom()\n",
        "print('Esto es: {} días, {} horas, {} minutos y {} segundos'.format(dia,hors,mins,segs))\n",
        "\n",
        "df_IDE1_FDE2.to_csv(ruta_output+'Tiempo de digitacion IDE1 FDE2.csv')\n",
        "df_IDE1_FDE2.head()\n"
      ],
      "execution_count": 0,
      "outputs": []
    },
    {
      "cell_type": "code",
      "metadata": {
        "scrolled": true,
        "id": "DSqOl__cav4X",
        "colab_type": "code",
        "colab": {}
      },
      "source": [
        "# para calcular el tiempo promedio por duplas de usuarios\n",
        "\n",
        "tabla = df_IDE1_FDE2['Dupla'].value_counts().to_frame()\n",
        "tabla.columns = ['Cantidad']\n",
        "prom = []\n",
        "long_prom = []\n",
        "for dupla in tabla.index:\n",
        "    tprom=df_IDE1_FDE2[df_IDE1_FDE2['Dupla']==dupla]['Tiempo'].mean()\n",
        "    prom.append(tiempo_prom(tprom))\n",
        "    long_prom.append('{}d,{}h,{}m,{}s'.format(tprom.components.days,tprom.components.hours,tprom.components.minutes,tprom.components.seconds))\n",
        "tabla['Promedio'] = prom\n",
        "tabla['Prom. extendido'] = long_prom\n",
        "tabla.to_csv(ruta_output+'promedios por duplas IDE1 FDE2.csv')\n",
        "tabla"
      ],
      "execution_count": 0,
      "outputs": []
    },
    {
      "cell_type": "code",
      "metadata": {
        "id": "ZYBu1ZbPav4Z",
        "colab_type": "code",
        "colab": {}
      },
      "source": [
        "# cálculos para análisis de tiempo de digitación entre InicioDataEntry2 y FinDataEntry2\n",
        "# convirtiendo campos a fecha hora\n",
        "\n",
        "df_IDE2_FDE2['Fecha_Hora_IDE2'] = df_IDE2_FDE2['Fecha_Hora_IDE2'].apply(pd.to_datetime)\n",
        "df_IDE2_FDE2['Fecha_Hora_FDE2'] = df_IDE2_FDE2['Fecha_Hora_FDE2'].apply(pd.to_datetime)\n"
      ],
      "execution_count": 0,
      "outputs": []
    },
    {
      "cell_type": "code",
      "metadata": {
        "id": "GLK0zjA_av4a",
        "colab_type": "code",
        "colab": {}
      },
      "source": [
        "# buscando valores negativos en la resta de los campos fecha hora\n",
        "tmp = df_IDE2_FDE2[df_IDE2_FDE2['Fecha_Hora_IDE2']>df_IDE2_FDE2['Fecha_Hora_FDE2']]\n",
        "tmp.to_csv(ruta_output+'listado errores IDE2 FDE2.csv')\n",
        "tmp"
      ],
      "execution_count": 0,
      "outputs": []
    },
    {
      "cell_type": "code",
      "metadata": {
        "id": "1HWkA9uKav4c",
        "colab_type": "code",
        "colab": {}
      },
      "source": [
        "# haciendo los cálculos\n",
        "\n",
        "df_IDE2_FDE2=df_IDE2_FDE2[df_IDE2_FDE2['Fecha_Hora_IDE2']<df_IDE2_FDE2['Fecha_Hora_FDE2']]\n",
        "\n",
        "df_IDE2_FDE2['Tiempo'] = df_IDE2_FDE2['Fecha_Hora_FDE2']-df_IDE2_FDE2['Fecha_Hora_IDE2']\n",
        "\n",
        "df_IDE2_FDE2['Usuario'] = df_IDE2_FDE2['Usuario_IDE2']\n",
        "\n",
        "df_IDE2_FDE2['Usuario'] = np.where(df_IDE2_FDE2['Usuario_IDE2']==df_IDE2_FDE2['Usuario_FDE2'],\n",
        "                                   df_IDE2_FDE2['Usuario'],\n",
        "                                   df_IDE2_FDE2['Usuario_IDE2'] + ' - ' + df_IDE2_FDE2['Usuario_FDE2'])\n",
        "\n",
        "tprom = df_IDE2_FDE2['Tiempo'].mean()\n",
        "dia=tprom.components.days\n",
        "hors=tprom.components.hours\n",
        "mins=tprom.components.minutes\n",
        "segs=tprom.components.seconds\n",
        "print('\\nEl tiempo promedio de proceso IDE2 - FDE2 es', tiempo_prom(tprom),'horas') # acá usamos la función tiempo_prom()\n",
        "print('Esto es: {} días, {} horas, {} minutos y {} segundos'.format(dia,hors,mins,segs))\n",
        "\n",
        "df_IDE2_FDE2.to_csv(ruta_output+'Tiempo de digitacion IDE2 FDE2.csv')\n",
        "df_IDE2_FDE2.head()\n"
      ],
      "execution_count": 0,
      "outputs": []
    },
    {
      "cell_type": "code",
      "metadata": {
        "id": "8G2UTKR5av4d",
        "colab_type": "code",
        "colab": {}
      },
      "source": [
        "# para calcular el tiempo promedio por usuarios o duplas de usuarios\n",
        "\n",
        "tabla = df_IDE2_FDE2['Usuario'].value_counts().to_frame()\n",
        "tabla.columns = ['Cantidad']\n",
        "prom = []\n",
        "long_prom = []\n",
        "for user in tabla.index:\n",
        "    tprom=df_IDE2_FDE2[df_IDE2_FDE2['Usuario']==user]['Tiempo'].mean()\n",
        "    prom.append(tiempo_prom(tprom))\n",
        "    long_prom.append('{}d,{}h,{}m,{}s'.format(tprom.components.days,tprom.components.hours,tprom.components.minutes,tprom.components.seconds))\n",
        "tabla['Promedio'] = prom\n",
        "tabla['Prom. extendido'] = long_prom\n",
        "tabla.to_csv(ruta_output+'promedios por usuarios IDE2 FDE2.csv')\n",
        "tabla"
      ],
      "execution_count": 0,
      "outputs": []
    },
    {
      "cell_type": "markdown",
      "metadata": {
        "id": "WCHOejTmav4f",
        "colab_type": "text"
      },
      "source": [
        "Volver al [Indice](#indice)"
      ]
    },
    {
      "cell_type": "markdown",
      "metadata": {
        "id": "lESnBQPXav4f",
        "colab_type": "text"
      },
      "source": [
        "<a id='cobertura'></a>\n",
        "***Cobertura del programa y muestras insatisfactorias***"
      ]
    },
    {
      "cell_type": "code",
      "metadata": {
        "id": "WDgxZQvZav4g",
        "colab_type": "code",
        "colab": {}
      },
      "source": [
        "# Para gráficos de cobertura y muestras insatisfactorias\n",
        "# Antes de proceder, actualizar los archivos 'cobertura.csv' e 'insatisfactorias.csv' \n",
        "# de la carpeta DATA con los últimos valores disponibles, luego ejecutar esta celda\n",
        "\n",
        "cob = pd.read_csv(ruta_data+'cobertura.csv')\n",
        "ins = pd.read_csv(ruta_data+'insatisfactorias.csv' )"
      ],
      "execution_count": 0,
      "outputs": []
    },
    {
      "cell_type": "code",
      "metadata": {
        "id": "ZQZ50hiGav4h",
        "colab_type": "code",
        "colab": {}
      },
      "source": [
        "cob"
      ],
      "execution_count": 0,
      "outputs": []
    },
    {
      "cell_type": "code",
      "metadata": {
        "id": "L-fob-vyav4i",
        "colab_type": "code",
        "colab": {}
      },
      "source": [
        "ins"
      ],
      "execution_count": 0,
      "outputs": []
    },
    {
      "cell_type": "code",
      "metadata": {
        "id": "hL6EjzPwav4k",
        "colab_type": "code",
        "colab": {},
        "outputId": "43a9c144-dc89-46a6-d693-8106026d6e6d"
      },
      "source": [
        "sns.set_style('white')\n",
        "plt.xticks(rotation=0)\n",
        "plt.plot(cob['AÑO'],cob['NACIMIENTOS'],'b-')\n",
        "plt.plot(cob['AÑO'],cob['TAMIZADOS'],'r-')\n",
        "plt.plot(ins['Año'],ins['Insatisfactorias'],'g-')\n",
        "plt.fill_between(cob['AÑO'],cob['NACIMIENTOS'],cob['TAMIZADOS'],color='blue',alpha=0.1)\n",
        "plt.fill_between(cob['AÑO'],cob['TAMIZADOS'],color = 'red',alpha=0.1)\n",
        "plt.fill_between(ins['Año'],ins['Insatisfactorias'],color = 'green',alpha=0.3)\n",
        "plt.title('Gráfico: Nacimientos,Cobertura,Insatisfactorias')\n",
        "plt.xlabel('Año')\n",
        "plt.ylabel('Cantidad')\n",
        "plt.legend(['Nacimientos','Tamizados','Insatisfactorias'],loc='center')\n",
        "plt.grid(True)\n",
        "plt.savefig(ruta_graficos+'nacim cobert insatisf.png')\n",
        "plt.show()"
      ],
      "execution_count": 0,
      "outputs": [
        {
          "output_type": "display_data",
          "data": {
            "image/png": "[encoded data removed]",
            "text/plain": [
              "<Figure size 432x288 with 1 Axes>"
            ]
          },
          "metadata": {
            "tags": []
          }
        }
      ]
    },
    {
      "cell_type": "markdown",
      "metadata": {
        "id": "oXWpgDx-av4l",
        "colab_type": "text"
      },
      "source": [
        "Volver al [Indice](#indice)"
      ]
    },
    {
      "cell_type": "markdown",
      "metadata": {
        "id": "fqHVLt4Dav4n",
        "colab_type": "text"
      },
      "source": [
        "### 5. Otros datos administrativos"
      ]
    },
    {
      "cell_type": "markdown",
      "metadata": {
        "id": "anQXl4OIav4n",
        "colab_type": "text"
      },
      "source": [
        "<a id='centros'></a>\n",
        "***Estadísticas por centros***"
      ]
    },
    {
      "cell_type": "code",
      "metadata": {
        "id": "s8B172gVav4o",
        "colab_type": "code",
        "colab": {}
      },
      "source": [
        "data['CLASSIFICATION'].value_counts()"
      ],
      "execution_count": 0,
      "outputs": []
    },
    {
      "cell_type": "code",
      "metadata": {
        "id": "kEaswPkQav4q",
        "colab_type": "code",
        "colab": {}
      },
      "source": [
        "round(data['CLASSIFICATION'].value_counts(normalize=True)*100,2)"
      ],
      "execution_count": 0,
      "outputs": []
    },
    {
      "cell_type": "code",
      "metadata": {
        "id": "Yy6bfEfzav4r",
        "colab_type": "code",
        "colab": {}
      },
      "source": [
        "data['Centro de Recolección'].value_counts().head()"
      ],
      "execution_count": 0,
      "outputs": []
    },
    {
      "cell_type": "code",
      "metadata": {
        "id": "HVj9zXNwav4s",
        "colab_type": "code",
        "colab": {}
      },
      "source": [
        "for centro in data['Centro de Recolección'].value_counts().index:\n",
        "    print(centro + ' >>> Totalizado\\n',data[(data['Centro de Recolección']==centro)]['CLASSIFICATION'].value_counts())\n",
        "    print(centro + ' >>> Porcentual\\n',round(data[(data['Centro de Recolección']==centro)]['CLASSIFICATION'].value_counts(normalize=True)*100,2))\n",
        "    print()"
      ],
      "execution_count": 0,
      "outputs": []
    },
    {
      "cell_type": "code",
      "metadata": {
        "id": "H8Lbiv1cav4u",
        "colab_type": "code",
        "colab": {}
      },
      "source": [
        "# para cálculo del valor IDI por Centros\n",
        "\n",
        "IDI_ind=data['IDCentro'].value_counts().to_frame()\n",
        "IDI_ind.columns=['# muestras']\n",
        "regiones=[]\n",
        "for centro in IDI_ind.index:\n",
        "    regiones.append((data[(data['IDCentro']==centro)]['REGION'].unique().tolist()[0]))\n",
        "IDI_ind['Region']=regiones\n",
        "tipo=[]\n",
        "for centro in IDI_ind.index:\n",
        "    tipo.append(data[(data['IDCentro']==centro)]['CATEGORIA'].unique().tolist()[0])\n",
        "IDI_ind['Tipo Centro']=tipo\n",
        "\n",
        "cod=[]\n",
        "for centro in IDI_ind.index:\n",
        "    cod.append(data[(data['IDCentro']==centro)]['Centro de Recolección'].unique().tolist()[0])\n",
        "IDI_ind['Centro']=cod\n",
        "\n",
        "inad=[]\n",
        "for centro in IDI_ind.index:\n",
        "    inad.append(data[(data['CLASSIFICATION']=='Inadecuada')&\n",
        "                     (data['IDCentro']==centro)]['CLASSIFICATION'].value_counts().sum())\n",
        "IDI_ind['# inad.']=inad\n",
        "IDI_ind['% inad.']=round(IDI_ind['# inad.']/IDI_ind['# muestras']*100,2)\n",
        "\n",
        "ttran=[]\n",
        "for centro in IDI_ind.index:\n",
        "    ttran.append(round(data[(data['IDCentro']==centro)&\n",
        "                            (data['Tiempo de Transito']>=0)&\n",
        "                            (data['Tiempo de Transito']<=15)]['Tiempo de Transito'].mean(),1))\n",
        "IDI_ind['tiempo trans.']=ttran\n",
        "\n",
        "edprom=[]\n",
        "for centro in IDI_ind.index:\n",
        "    edprom.append(round(data[(data['IDCentro']==centro)&\n",
        "                            (data['Edad de Toma']>=0)&\n",
        "                            (data['Edad de Toma']<=15)]['Edad de Toma'].mean(),1))\n",
        "IDI_ind['edad prom.']=edprom\n",
        "\n",
        "dia_lab = data['Fecha Recibida'].unique().size\n",
        "\n",
        "IDI_ind['IDI']=round((IDI_ind['# muestras']/dia_lab)*IDI_ind['% inad.'],2)\n",
        "IDI_ind=IDI_ind.sort_values('IDI',ascending=False)\n",
        "IDI_ind.to_csv(ruta_output+'IDI individual por centro.csv',encoding='utf-16')\n",
        "\n",
        "IDI_ind"
      ],
      "execution_count": 0,
      "outputs": []
    },
    {
      "cell_type": "code",
      "metadata": {
        "id": "igdaNWXYav4v",
        "colab_type": "code",
        "colab": {},
        "outputId": "3bc9a1a0-9c14-4ef8-f925-2ee26a9ce0a4"
      },
      "source": [
        "# para sacar el listado de los codigos de area de salud\n",
        "\n",
        "AS=data[data['CATEGORIA']=='Area de Salud']\n",
        "cod = AS['IDCentro'].str[:3].value_counts().index.tolist()\n",
        "print(cod)"
      ],
      "execution_count": 0,
      "outputs": [
        {
          "output_type": "stream",
          "text": [
            "['123', '309', '602', '619', '107', '609', '111', '501', '101', '617', '805', '611', '114', '129', '806', '303', '115', '614', '804', '119', '306', '304', '807', '810', '603', '618', '110', '104', '118', '102', '808', '612', '207', '122', '624', '803', '616', '302', '206', '113', '125', '310', '301', '121', '116', '605', '103', '601', '802', '816', '106', '117', '204', '613', '408', '112', '615', '313', '811', '621', '305', '201', '604', '205', '124', '817', '504', '626', '108', '623', '120', '127', '407', '406', '209', '109', '404', '403', '622', '503', '126', '405', '401', '607', '505', '502', '627', '809', '610', '409', '308', '202', '105', '625', '311', '128', '506', '203']\n"
          ],
          "name": "stdout"
        }
      ]
    },
    {
      "cell_type": "code",
      "metadata": {
        "id": "uB2alzUKav4w",
        "colab_type": "code",
        "colab": {}
      },
      "source": [
        "# por si se quiere hacer una búsqueda individual de un código en particular\n",
        "data[((data['CATEGORIA']=='Area de Salud')|(data['CATEGORIA']=='EBAIS'))&\n",
        "      (data['IDCentro'].str[:3]=='619')]['Centro de Recolección'].value_counts()"
      ],
      "execution_count": 0,
      "outputs": []
    },
    {
      "cell_type": "code",
      "metadata": {
        "id": "Dtcap8qhav4z",
        "colab_type": "code",
        "colab": {}
      },
      "source": [
        "# sacar el IDI por la suma de areas de salud y ebais\n",
        "\n",
        "total_AS=[]\n",
        "nom_AS=[]\n",
        "\n",
        "for codigo in set(cod):\n",
        "    total_AS.append(data[((data['CATEGORIA']=='Area de Salud')|(data['CATEGORIA']=='EBAIS'))&\n",
        "      (data['IDCentro'].str[:3]==codigo)]['Centro de Recolección'].count())\n",
        "\n",
        "for codigo in set(cod):\n",
        "    nom_AS.append(codigo)\n",
        "\n",
        "AreaSalud = pd.Series(nom_AS).to_frame()\n",
        "AreaSalud.columns = ['codigo']\n",
        "AreaSalud['muestras']=total_AS\n",
        "\n",
        "\n",
        "region=[]\n",
        "for codigo in set(cod):\n",
        "    region.append(data[((data['CATEGORIA']=='Area de Salud')|(data['CATEGORIA']=='EBAIS'))&\n",
        "                        (data['IDCentro'].str[:3]==codigo)]['REGION'].unique().tolist()[0])\n",
        "AreaSalud['Region']=region\n",
        "\n",
        "centro=[]\n",
        "for codigo in set(cod):\n",
        "    centro.append(data[(data['CATEGORIA']=='Area de Salud')&\n",
        "                       (data['IDCentro'].str[:3]==codigo)]['Centro de Recolección'].unique().tolist()[0])\n",
        "AreaSalud['Area Salud']=centro\n",
        "\n",
        "inadec=[]\n",
        "\n",
        "for codigo in set(cod):\n",
        "    inadec.append(data[((data['CATEGORIA']=='Area de Salud')|(data['CATEGORIA']=='EBAIS'))&\n",
        "                       (data['IDCentro'].str[:3]==codigo)&\n",
        "                       (data['CLASSIFICATION']=='Inadecuada')]['CLASSIFICATION'].value_counts().sum())\n",
        "\n",
        "AreaSalud['# inad.']=inadec\n",
        "AreaSalud['% inad.']=round(AreaSalud['# inad.']/AreaSalud['muestras']*100,2)\n",
        "\n",
        "ttran=[]\n",
        "for codigo in set(cod):\n",
        "    ttran.append(round(data[((data['CATEGORIA']=='Area de Salud')|(data['CATEGORIA']=='EBAIS'))&\n",
        "                             (data['IDCentro'].str[:3]==codigo)&\n",
        "                             (data['Tiempo de Transito']>=0)&\n",
        "                             (data['Tiempo de Transito']<=15)]['Tiempo de Transito'].mean(),1))\n",
        "AreaSalud['trans.']=ttran\n",
        "\n",
        "edprom=[]\n",
        "for codigo in set(cod):\n",
        "    edprom.append(round(data[((data['CATEGORIA']=='Area de Salud')|(data['CATEGORIA']=='EBAIS'))&\n",
        "                              (data['IDCentro'].str[:3]==codigo)&\n",
        "                              (data['Edad de Toma']>=0)&\n",
        "                              (data['Edad de Toma']<=30)]['Edad de Toma'].mean(),1))\n",
        "AreaSalud['edad prom.']=edprom\n",
        "\n",
        "dia_lab = data['Fecha Recibida'].unique().size\n",
        "\n",
        "AreaSalud['IDI'] = round((AreaSalud['muestras']/dia_lab)*AreaSalud['% inad.'],2)\n",
        "AreaSalud=AreaSalud.sort_values('IDI',ascending=False)\n",
        "AreaSalud.to_csv(ruta_output+'IDI por Area de Salud.csv',index=False,encoding='utf-16')\n",
        "AreaSalud\n"
      ],
      "execution_count": 0,
      "outputs": []
    },
    {
      "cell_type": "markdown",
      "metadata": {
        "id": "ctEMNDJJav41",
        "colab_type": "text"
      },
      "source": [
        "Volver al [Indice](#indice)"
      ]
    },
    {
      "cell_type": "markdown",
      "metadata": {
        "id": "9etH4oQGav42",
        "colab_type": "text"
      },
      "source": [
        "<a id='varias'></a>\n",
        "***Estadísticas varias***"
      ]
    },
    {
      "cell_type": "markdown",
      "metadata": {
        "id": "ZwiqIEvqav42",
        "colab_type": "text"
      },
      "source": [
        "<a id='madre'></a>\n",
        "***Edad de la madre al nacer el bebé***"
      ]
    },
    {
      "cell_type": "code",
      "metadata": {
        "id": "-VTn6r3Qav42",
        "colab_type": "code",
        "colab": {},
        "outputId": "f5d456c0-28dc-4e7e-9171-ab4a485a1577"
      },
      "source": [
        "# Para hacer cálculos con la edad de la madre asegurarse \n",
        "# de cargar los archivos de datos en formato EXCEL\n",
        "\n",
        "if tipoArchivo == 'EXCEL':\n",
        "    data['Año Nacimiento Madre'] = data['Fecha Nacimiento Madre'].astype(str).str[:4]\n",
        "elif tipoArchivo == 'CSV':\n",
        "    data['Año Nacimiento Madre'] = (data['Fecha Nacimiento Madre'].str[:-5]).str[-4:]\n",
        "    \n",
        "lista_años = data['Año Nacimiento Madre'].value_counts().index.tolist()\n",
        "\n",
        "lista_años.sort()\n",
        "print(lista_años)"
      ],
      "execution_count": 0,
      "outputs": [
        {
          "output_type": "stream",
          "text": [
            "['1800', '1894', '1899', '1900', '1942', '1944', '1947', '1952', '1962', '1963', '1965', '1966', '1967', '1968', '1969', '1970', '1971', '1972', '1973', '1974', '1975', '1976', '1977', '1978', '1979', '1980', '1981', '1982', '1983', '1984', '1985', '1986', '1987', '1988', '1989', '1990', '1991', '1992', '1993', '1994', '1995', '1996', '1997', '1998', '1999', '2000', '2001', '2002', '2003', '2004', '2005', '2006', '2007', '2008', '2009', '2012', '2013', '2014', '2017', '2018', '2019', '2020', '2982', '9198', '9800']\n"
          ],
          "name": "stdout"
        }
      ]
    },
    {
      "cell_type": "code",
      "metadata": {
        "id": "VBCnkIQZav43",
        "colab_type": "code",
        "colab": {}
      },
      "source": [
        "# se debe actualizar la lista_borrar con los valores incongruentes de la lista_años en la casilla anterior\n",
        "\n",
        "lista_borrar = ['1800', '1894', '1899', '1900', '1942', '1944', '1947', '1952', '1962',\n",
        "                '2004', '2005', '2006', '2007', '2008', '2009', '2012', '2013',\n",
        "                '2014', '2017', '2018', '2019', '2020', '2982', '9198', '9800',\n",
        "                'nan']\n",
        "\n"
      ],
      "execution_count": 0,
      "outputs": []
    },
    {
      "cell_type": "code",
      "metadata": {
        "id": "h0S-L_Itav44",
        "colab_type": "code",
        "colab": {}
      },
      "source": [
        "# para generar una lista de las fechas de nacimiento de madre con valores incorrectos\n",
        "tmp=data[data['Año Nacimiento Madre']=='0000'][['Muestra','Fecha Recibida','Año Nacimiento Madre','USUARIO2DATA']]\n",
        "for anno in lista_borrar:\n",
        "    tmp=pd.concat([tmp,data[data['Año Nacimiento Madre']==anno][['Muestra','Fecha Recibida','Fecha Nacimiento Madre','Año Nacimiento Madre','USUARIO2DATA']]])\n",
        "tmp.to_csv(ruta_output+'lista de f_nac madre incorrecta.csv')\n",
        "tmp"
      ],
      "execution_count": 0,
      "outputs": []
    },
    {
      "cell_type": "code",
      "metadata": {
        "id": "5fsUZvsNav45",
        "colab_type": "code",
        "colab": {}
      },
      "source": [
        "edad_M = data.drop(data.index[data[data['Año Nacimiento Madre'].isin(lista_borrar)].index])\n",
        "\n",
        "edad_M['Fecha Nacimiento Madre'] = edad_M['Fecha Nacimiento Madre'].apply(pd.to_datetime)\n",
        "\n",
        "edad_M['Edad de la madre'] = edad_M['Fecha de Nacimiento'] - edad_M['Fecha Nacimiento Madre'] \n"
      ],
      "execution_count": 0,
      "outputs": []
    },
    {
      "cell_type": "code",
      "metadata": {
        "id": "IyuktxzGav47",
        "colab_type": "code",
        "colab": {},
        "outputId": "fd89f0a0-d8ef-4993-bc50-e1961f67af1c"
      },
      "source": [
        "e_años = (edad_M['Edad de la madre'].astype(np.int64)/1e9/3600/24//365).astype(int).value_counts().to_frame()\n",
        "e_años.size"
      ],
      "execution_count": 0,
      "outputs": [
        {
          "output_type": "execute_result",
          "data": {
            "text/plain": [
              "57"
            ]
          },
          "metadata": {
            "tags": []
          },
          "execution_count": 29
        }
      ]
    },
    {
      "cell_type": "code",
      "metadata": {
        "id": "ZYQVm0pbav48",
        "colab_type": "code",
        "colab": {},
        "outputId": "dc006d84-aaef-41bd-e7e3-62a5417388dd"
      },
      "source": [
        "e_años.drop(e_años.index[e_años.index.values<0], inplace=True)\n",
        "e_años.size"
      ],
      "execution_count": 0,
      "outputs": [
        {
          "output_type": "execute_result",
          "data": {
            "text/plain": [
              "41"
            ]
          },
          "metadata": {
            "tags": []
          },
          "execution_count": 30
        }
      ]
    },
    {
      "cell_type": "code",
      "metadata": {
        "id": "Ud2lE_A0av49",
        "colab_type": "code",
        "colab": {}
      },
      "source": [
        "e_años.sum()"
      ],
      "execution_count": 0,
      "outputs": []
    },
    {
      "cell_type": "code",
      "metadata": {
        "id": "fZvOgg-Nav4-",
        "colab_type": "code",
        "colab": {}
      },
      "source": [
        "rango1 = e_años[e_años.index<=15].sum().values\n",
        "\n",
        "rango2 = e_años[(e_años.index>16) & (e_años.index<=20)].sum().values\n",
        "\n",
        "rango3 = e_años[(e_años.index>20) & (e_años.index<=25)].sum().values\n",
        "\n",
        "rango4 = e_años[(e_años.index>25) & (e_años.index<=30)].sum().values\n",
        "\n",
        "rango5 = e_años[(e_años.index>30) & (e_años.index<=35)].sum().values\n",
        "\n",
        "rango6 = e_años[(e_años.index>35) & (e_años.index<=40)].sum().values\n",
        "\n",
        "rango7 = e_años[e_años.index>40].sum().values\n",
        "\n",
        "total = e_años.sum().values\n",
        "\n",
        "edad = pd.Series(data = rango1,index = ['< a 15'])\n",
        "edad = edad.append(pd.Series(data = rango2,index = ['15 a 20']))\n",
        "edad = edad.append(pd.Series(data = rango3,index = ['21 a 25']))\n",
        "edad = edad.append(pd.Series(data = rango4,index = ['26 a 30']))\n",
        "edad = edad.append(pd.Series(data = rango5,index = ['31 a 35']))\n",
        "edad = edad.append(pd.Series(data = rango6,index = ['36 a 40']))\n",
        "edad = edad.append(pd.Series(data = rango6,index = ['> a 41']))\n",
        "edad = edad.append(pd.Series(data = total,index = ['Total']))\n",
        "\n",
        "edad = edad.to_frame()\n",
        "edad.columns=['conteo']\n",
        "edad['%']= round(edad['conteo']/edad['conteo']['Total']*100,1)\n",
        "edad.to_csv(ruta_output+'segmentación edad de la madre.csv')\n",
        "edad"
      ],
      "execution_count": 0,
      "outputs": []
    },
    {
      "cell_type": "code",
      "metadata": {
        "id": "Wu8wOnGqav4_",
        "colab_type": "code",
        "colab": {},
        "outputId": "a696d2bb-42a2-4f66-e896-c8cba2526056"
      },
      "source": [
        "sns.set_style('dark')#darkgrid, whitegrid, dark, white\n",
        "sns.distplot(e_años.index,kde=False,color='cyan',bins=10)\n",
        "plt.title('Gráfico: Distribución de edad de la madre')\n",
        "plt.xlabel('Edad de la madre [años]')\n",
        "plt.grid(True)\n",
        "plt.savefig(ruta_graficos+'distribución edad de la madre.png')\n",
        "plt.show()\n"
      ],
      "execution_count": 0,
      "outputs": [
        {
          "output_type": "display_data",
          "data": {
            "image/png": "[encoded data removed]",
            "text/plain": [
              "<Figure size 432x288 with 1 Axes>"
            ]
          },
          "metadata": {
            "tags": []
          }
        }
      ]
    },
    {
      "cell_type": "markdown",
      "metadata": {
        "id": "0UX8Ei3wav5B",
        "colab_type": "text"
      },
      "source": [
        "Volver al [Indice](#indice)"
      ]
    },
    {
      "cell_type": "markdown",
      "metadata": {
        "id": "POAjUv-oav5B",
        "colab_type": "text"
      },
      "source": [
        "<a id='semanas'></a>\n",
        "***Semanas de gestación***"
      ]
    },
    {
      "cell_type": "code",
      "metadata": {
        "id": "2ZqykzLFav5C",
        "colab_type": "code",
        "colab": {}
      },
      "source": [
        "data['Semanas de Embarazo'].value_counts()"
      ],
      "execution_count": 0,
      "outputs": []
    },
    {
      "cell_type": "code",
      "metadata": {
        "id": "sbZwYTHVav5D",
        "colab_type": "code",
        "colab": {}
      },
      "source": [
        "SemEmbarazo = data[(data['Semanas de Embarazo']>3)&\n",
        "                   ((data['SUB_CLASSIFICATION']=='Perfil Completo')|\n",
        "                   (data['SUB_CLASSIFICATION']=='Recuperadas'))]['Semanas de Embarazo'].dropna()\n",
        "\n",
        "print('\\nAnálisis Estadístico Descriptivo')\n",
        "print('--------------------------------\\n')\n",
        "print('El total de muestras utilizadas:', SemEmbarazo.count(),'\\n')\n",
        "print('El valor máximo de Semanas de Embarazo es:', SemEmbarazo.max(),'\\n')\n",
        "print('El valor mínimo de Semanas de Embarazo es:', SemEmbarazo.min(),'\\n')\n",
        "print('La media de Semanas de Embarazo es: ',round(SemEmbarazo.mean(),2),'\\n')\n",
        "print('La desviación estándar de Semanas de Embarazo es:',round(SemEmbarazo.std(),2),'\\n')\n",
        "print('La mediana de Semanas de Embarazo es:',SemEmbarazo.median(),'\\n')\n",
        "print('La moda de Semanas de Embarazo es:',SemEmbarazo.mode()[0],'\\n')\n",
        "print('Los percentiles de la variable [Semanas de Embarazo] de las muestras se listan a continuación:')\n",
        "percentil=SemEmbarazo.quantile([.25,.50,.75,.90,.95,.995]).to_frame()\n",
        "percentil.columns = ['']\n",
        "percentil.index = (percentil.index*100).astype(str)+'%'\n",
        "percentil.to_csv(ruta_output+'percentiles semanas gestación.csv')\n",
        "percentil"
      ],
      "execution_count": 0,
      "outputs": []
    },
    {
      "cell_type": "code",
      "metadata": {
        "id": "2CLi4Q2Yav5E",
        "colab_type": "code",
        "colab": {},
        "outputId": "d06f0f4a-39eb-4869-db0d-e67e2e95e5ac"
      },
      "source": [
        "sns.set_style('dark')#darkgrid, whitegrid, dark, white\n",
        "sns.distplot(SemEmbarazo,kde=False,color='blue')\n",
        "plt.title('Gráfico: Distribución de las semanas de gestación')\n",
        "plt.xlabel('Semanas de gestación')\n",
        "plt.grid(True)\n",
        "plt.savefig(ruta_graficos+'distribución semanas gestación.png')\n",
        "plt.show()\n"
      ],
      "execution_count": 0,
      "outputs": [
        {
          "output_type": "display_data",
          "data": {
            "image/png": "[encoded data removed]",
            "text/plain": [
              "<Figure size 432x288 with 1 Axes>"
            ]
          },
          "metadata": {
            "tags": []
          }
        }
      ]
    },
    {
      "cell_type": "code",
      "metadata": {
        "id": "bhlEf9BVav5F",
        "colab_type": "code",
        "colab": {},
        "outputId": "a09e17a9-acda-439b-e680-3fe1c378453c"
      },
      "source": [
        "rango1 = data[(data['Semanas de Embarazo']>3.0)&\n",
        "              (data['Semanas de Embarazo']<36.0)]['Semanas de Embarazo'].count()\n",
        "\n",
        "rango2 = data[(data['Semanas de Embarazo']>=36.0)&\n",
        "              (data['Semanas de Embarazo']<=38.0)]['Semanas de Embarazo'].count()\n",
        "\n",
        "rango3 = data[(data['Semanas de Embarazo']>=39.0)&\n",
        "              (data['Semanas de Embarazo']<=40.0)]['Semanas de Embarazo'].count()\n",
        "\n",
        "rango4 = data[(data['Semanas de Embarazo']>=41.0)&\n",
        "              (data['Semanas de Embarazo']<=42.0)]['Semanas de Embarazo'].count()\n",
        "\n",
        "rango5 = data[(data['Semanas de Embarazo']>42.0)]['Semanas de Embarazo'].count()\n",
        "\n",
        "rango6 = data[(data['Semanas de Embarazo']<=3.0)]['Semanas de Embarazo'].count()\n",
        "\n",
        "total = data['Semanas de Embarazo'].count()\n",
        "\n",
        "semGest = pd.Series(data = rango1,index = ['< a 36'])\n",
        "semGest = semGest.append(pd.Series(data = rango2,index = ['36 a 38']))\n",
        "semGest = semGest.append(pd.Series(data = rango3,index = ['39 a 40']))\n",
        "semGest = semGest.append(pd.Series(data = rango4,index = ['41 a 42']))\n",
        "semGest = semGest.append(pd.Series(data = rango5,index = ['> a 42']))\n",
        "semGest = semGest.append(pd.Series(data = rango6,index = ['sin especificar']))\n",
        "semGest = semGest.append(pd.Series(data = total,index = ['Total']))\n",
        "\n",
        "semGest = semGest.to_frame()\n",
        "semGest.columns=['conteo']\n",
        "semGest['%']= round(semGest['conteo']/semGest['conteo']['Total']*100,1)\n",
        "semGest.to_csv(ruta_output+'segmentación semanas gestación.csv')\n",
        "semGest"
      ],
      "execution_count": 0,
      "outputs": [
        {
          "output_type": "execute_result",
          "data": {
            "text/html": [
              "<div>\n",
              "<style scoped>\n",
              "    .dataframe tbody tr th:only-of-type {\n",
              "        vertical-align: middle;\n",
              "    }\n",
              "\n",
              "    .dataframe tbody tr th {\n",
              "        vertical-align: top;\n",
              "    }\n",
              "\n",
              "    .dataframe thead th {\n",
              "        text-align: right;\n",
              "    }\n",
              "</style>\n",
              "<table border=\"1\" class=\"dataframe\">\n",
              "  <thead>\n",
              "    <tr style=\"text-align: right;\">\n",
              "      <th></th>\n",
              "      <th>conteo</th>\n",
              "      <th>%</th>\n",
              "    </tr>\n",
              "  </thead>\n",
              "  <tbody>\n",
              "    <tr>\n",
              "      <th>&lt; a 36</th>\n",
              "      <td>3925</td>\n",
              "      <td>5.2</td>\n",
              "    </tr>\n",
              "    <tr>\n",
              "      <th>36 a 38</th>\n",
              "      <td>23952</td>\n",
              "      <td>31.8</td>\n",
              "    </tr>\n",
              "    <tr>\n",
              "      <th>39 a 40</th>\n",
              "      <td>38406</td>\n",
              "      <td>51.1</td>\n",
              "    </tr>\n",
              "    <tr>\n",
              "      <th>41 a 42</th>\n",
              "      <td>8034</td>\n",
              "      <td>10.7</td>\n",
              "    </tr>\n",
              "    <tr>\n",
              "      <th>&gt; a 42</th>\n",
              "      <td>7</td>\n",
              "      <td>0.0</td>\n",
              "    </tr>\n",
              "    <tr>\n",
              "      <th>sin especificar</th>\n",
              "      <td>906</td>\n",
              "      <td>1.2</td>\n",
              "    </tr>\n",
              "    <tr>\n",
              "      <th>Total</th>\n",
              "      <td>75230</td>\n",
              "      <td>100.0</td>\n",
              "    </tr>\n",
              "  </tbody>\n",
              "</table>\n",
              "</div>"
            ],
            "text/plain": [
              "                 conteo      %\n",
              "< a 36             3925    5.2\n",
              "36 a 38           23952   31.8\n",
              "39 a 40           38406   51.1\n",
              "41 a 42            8034   10.7\n",
              "> a 42                7    0.0\n",
              "sin especificar     906    1.2\n",
              "Total             75230  100.0"
            ]
          },
          "metadata": {
            "tags": []
          },
          "execution_count": 136
        }
      ]
    },
    {
      "cell_type": "markdown",
      "metadata": {
        "id": "M7SbWRjLav5G",
        "colab_type": "text"
      },
      "source": [
        "Volver al [Indice](#indice)"
      ]
    },
    {
      "cell_type": "markdown",
      "metadata": {
        "id": "9a0r2fIuav5G",
        "colab_type": "text"
      },
      "source": [
        "<a id='peso'></a>\n",
        "***Peso al nacer***"
      ]
    },
    {
      "cell_type": "code",
      "metadata": {
        "id": "eMd66hN_av5H",
        "colab_type": "code",
        "colab": {}
      },
      "source": [
        "PesoAlNacer = data[(data['SUB_CLASSIFICATION']=='Perfil Completo')|\n",
        "                   (data['SUB_CLASSIFICATION']=='Recuperadas')]['Peso al nacer'].dropna()\n",
        "\n",
        "print('\\nAnálisis Estadístico Descriptivo')\n",
        "print('--------------------------------\\n')\n",
        "print('El total de muestras utilizadas:', PesoAlNacer.count(),'\\n')\n",
        "print('El valor máximo de Peso al nacer es:', PesoAlNacer.max(),'\\n')\n",
        "print('El valor mínimo de Peso al nacer es:', PesoAlNacer.min(),'\\n')\n",
        "print('La media de Peso al nacer es: ',round(PesoAlNacer.mean(),2),'\\n')\n",
        "print('La desviación estándar de Peso al nacer es:',round(PesoAlNacer.std(),2),'\\n')\n",
        "print('La mediana de Peso al nacer es:',PesoAlNacer.median(),'\\n')\n",
        "print('La moda de Peso al nacer es:',PesoAlNacer.mode()[0],'\\n')\n",
        "print('Los percentiles de la variable [Peso al nacer] de las muestras se listan a continuación:')\n",
        "percentil=PesoAlNacer.quantile([.25,.50,.75,.90,.95,.995]).to_frame()\n",
        "percentil.columns = ['']\n",
        "percentil.index = (percentil.index*100).astype(str)+'%'\n",
        "percentil.to_csv(ruta_output+'percentiles peso al nacer.csv')\n",
        "percentil"
      ],
      "execution_count": 0,
      "outputs": []
    },
    {
      "cell_type": "code",
      "metadata": {
        "id": "4pnnUxqcav5I",
        "colab_type": "code",
        "colab": {},
        "outputId": "36d44c23-ce02-43a6-c562-7ed4ace5178f"
      },
      "source": [
        "sns.set_style('whitegrid')\n",
        "sns.distplot(PesoAlNacer,kde=False,color='orange')\n",
        "plt.title('Gráfico: Distribución de peso al nacer')\n",
        "plt.xlabel('Peso al nacer [g]')\n",
        "plt.grid(True)\n",
        "plt.savefig(ruta_graficos+'distribución peso al nacer.png')\n",
        "plt.show()"
      ],
      "execution_count": 0,
      "outputs": [
        {
          "output_type": "display_data",
          "data": {
            "image/png": "[encoded data removed]",
            "text/plain": [
              "<Figure size 432x288 with 1 Axes>"
            ]
          },
          "metadata": {
            "tags": []
          }
        }
      ]
    },
    {
      "cell_type": "code",
      "metadata": {
        "id": "Q3htM6NBav5J",
        "colab_type": "code",
        "colab": {},
        "outputId": "f991fa61-130b-4882-c8be-9715a9ea0373"
      },
      "source": [
        "data['Peso al nacer'].count()"
      ],
      "execution_count": 0,
      "outputs": [
        {
          "output_type": "execute_result",
          "data": {
            "text/plain": [
              "75227"
            ]
          },
          "metadata": {
            "tags": []
          },
          "execution_count": 294
        }
      ]
    },
    {
      "cell_type": "code",
      "metadata": {
        "id": "1ulFmHaCav5L",
        "colab_type": "code",
        "colab": {}
      },
      "source": [
        "rango1 = data[(data['Peso al nacer']>3.0)&\n",
        "              (data['Peso al nacer']<1000.0)]['Peso al nacer'].count()\n",
        "\n",
        "rango2 = data[(data['Peso al nacer']>=1000.0)&\n",
        "              (data['Peso al nacer']<=1500.0)]['Peso al nacer'].count()\n",
        "\n",
        "rango3 = data[(data['Peso al nacer']>1500.0)&\n",
        "            (data['Peso al nacer']<=2000.0)]['Peso al nacer'].count()\n",
        "\n",
        "rango4 = data[(data['Peso al nacer']>2000.0)&\n",
        "            (data['Peso al nacer']<=2500.0)]['Peso al nacer'].count()\n",
        "\n",
        "rango5 = data[(data['Peso al nacer']>2500.0)&\n",
        "            (data['Peso al nacer']<=3000.0)]['Peso al nacer'].count()\n",
        "\n",
        "rango6 = data[(data['Peso al nacer']>3000.0)&\n",
        "            (data['Peso al nacer']<=3500.0)]['Peso al nacer'].count()\n",
        "\n",
        "rango7 = data[(data['Peso al nacer']>3500.0)&\n",
        "            (data['Peso al nacer']<=4000.0)]['Peso al nacer'].count()\n",
        "\n",
        "rango8 = data[(data['Peso al nacer']>4000.0)]['Peso al nacer'].count()\n",
        "\n",
        "rango9 = data[(data['Peso al nacer']<=3.0)]['Peso al nacer'].count()\n",
        "\n",
        "total = data['Peso al nacer'].count()\n",
        "\n",
        "peso = pd.Series(data = rango1,index = ['< a 1000'])\n",
        "peso = peso.append(pd.Series(data = rango2,index = ['1001 a 1500']))\n",
        "peso = peso.append(pd.Series(data = rango3,index = ['1501 a 2000']))\n",
        "peso = peso.append(pd.Series(data = rango4,index = ['2001 a 2500']))\n",
        "peso = peso.append(pd.Series(data = rango5,index = ['2501 a 3000']))\n",
        "peso = peso.append(pd.Series(data = rango6,index = ['3001 a 3500']))\n",
        "peso = peso.append(pd.Series(data = rango7,index = ['3501 a 4000']))\n",
        "peso = peso.append(pd.Series(data = rango8,index = ['> a 4000']))\n",
        "peso = peso.append(pd.Series(data = rango9,index = ['sin especificar']))\n",
        "peso = peso.append(pd.Series(data = total,index = ['Total']))\n",
        "\n",
        "peso = peso.to_frame()\n",
        "peso.columns=['conteo']\n",
        "peso['%']= round(peso['conteo']/peso['conteo']['Total']*100,1)\n",
        "peso.to_csv(ruta_output+'segmentación peso al nacer.csv')\n",
        "peso"
      ],
      "execution_count": 0,
      "outputs": []
    },
    {
      "cell_type": "markdown",
      "metadata": {
        "id": "gKlcKrUpav5M",
        "colab_type": "text"
      },
      "source": [
        "Volver al [Indice](#indice)"
      ]
    },
    {
      "cell_type": "markdown",
      "metadata": {
        "id": "FIAEP3QYav5M",
        "colab_type": "text"
      },
      "source": [
        "<a id='clasif'></a>\n",
        "***Clasificación de muestras (Warncode)***"
      ]
    },
    {
      "cell_type": "code",
      "metadata": {
        "id": "dm1dJOhSav5M",
        "colab_type": "code",
        "colab": {}
      },
      "source": [
        "WC=data['WARNCODE'].value_counts().to_frame()\n",
        "WC.columns=['cantidad']\n",
        "WC"
      ],
      "execution_count": 0,
      "outputs": []
    },
    {
      "cell_type": "markdown",
      "metadata": {
        "id": "nOituUoTav5R",
        "colab_type": "text"
      },
      "source": [
        "Volver al [Indice](#indice)"
      ]
    },
    {
      "cell_type": "markdown",
      "metadata": {
        "id": "EX9T62wHav5R",
        "colab_type": "text"
      },
      "source": [
        "<a id='clasif_centro'></a>\n",
        "***Clasificación de muestras (Warncode) por Centro***"
      ]
    },
    {
      "cell_type": "code",
      "metadata": {
        "id": "OL5omN92av5R",
        "colab_type": "code",
        "colab": {}
      },
      "source": [
        "lista=data['CATEGORIA'].unique().tolist()\n",
        "\n",
        "categ = widgets.Dropdown(options=lista,\n",
        "                         value=lista[0],\n",
        "                         disabled=False,\n",
        "                         description='Categoría')\n",
        "\n",
        "incluir = widgets.Checkbox(value=False,\n",
        "                           description='Incluir Ebais en Areas de Salud',\n",
        "                           disabled=False)\n",
        "\n",
        "\n",
        "\n",
        "display(widgets.HBox([categ,incluir]))"
      ],
      "execution_count": 0,
      "outputs": []
    },
    {
      "cell_type": "code",
      "metadata": {
        "id": "5oROmgi_av5T",
        "colab_type": "code",
        "colab": {},
        "outputId": "d6413722-55cf-422c-a7ee-df51a9746944"
      },
      "source": [
        "incluye=False\n",
        "\n",
        "if (categ.value == 'Area de Salud') and (incluir.value==True):\n",
        "    incluye=True\n",
        "else:\n",
        "    incluye=False\n",
        "        \n",
        "lista_centro = data[data['CATEGORIA']== categ.value]['Centro de Recolección'].unique().tolist()\n",
        "centros = widgets.Dropdown(options=lista_centro,\n",
        "                               disabled=False,\n",
        "                               description='Centros')\n",
        "  \n",
        "display(centros)                    "
      ],
      "execution_count": 0,
      "outputs": [
        {
          "output_type": "display_data",
          "data": {
            "application/vnd.jupyter.widget-view+json": {
              "model_id": "6a5e1a8594e84e509c4763feab8f760c",
              "version_major": 2,
              "version_minor": 0
            },
            "text/plain": [
              "Dropdown(description='Centros', options=('MATA REDONDA-HOSPITAL(CLINICA RICARDO MORENO CAÑAS)', 'HEREDIA-CUBUJ…"
            ]
          },
          "metadata": {
            "tags": []
          }
        }
      ]
    },
    {
      "cell_type": "code",
      "metadata": {
        "id": "SJbD2s7pav5X",
        "colab_type": "code",
        "colab": {}
      },
      "source": [
        "if incluye==False:\n",
        "    warncod=data[(data['Centro de Recolección']==centros.value)]['WARNCODE'].value_counts().to_frame()\n",
        "    warncod.columns=['cantidad']\n",
        "else:\n",
        "    cod=data[(data['CATEGORIA']==categ.value)&\n",
        "             (data['Centro de Recolección']==centros.value)]['IDCentro'].value_counts().index.tolist()[0][:3]\n",
        "    warncod=data[((data['CATEGORIA']=='Area de Salud')|\n",
        "                  (data['CATEGORIA']=='EBAIS'))&\n",
        "                  (data['IDCentro'].str[:3]==cod)]['WARNCODE'].value_counts().to_frame()\n",
        "\n",
        "print('Categoría:',categ.value)\n",
        "print('Centro:',centros.value)\n",
        "print('Incluye EBAIS?',incluye)\n",
        "warncod.to_csv(ruta_output+'listado warncode por centro.csv')\n",
        "warncod"
      ],
      "execution_count": 0,
      "outputs": []
    },
    {
      "cell_type": "markdown",
      "metadata": {
        "id": "QUw9HI27av5Y",
        "colab_type": "text"
      },
      "source": [
        "Volver al [Indice](#indice)"
      ]
    },
    {
      "cell_type": "markdown",
      "metadata": {
        "id": "y8ygKPwoav5Z",
        "colab_type": "text"
      },
      "source": [
        "<a id='usuario'></a>\n",
        "***Producción por usuario***"
      ]
    },
    {
      "cell_type": "code",
      "metadata": {
        "id": "Ek6F-A7cav5Z",
        "colab_type": "code",
        "colab": {}
      },
      "source": [
        "# Visualización de la producción por usuario según rango de fecha\n",
        "\n",
        "lista = []\n",
        "produc=data['USUARIO1DATA'].value_counts().to_frame()\n",
        "produc.columns=['1DATA']\n",
        "for usuario in produc.index.values.tolist():\n",
        "    lista.append(data[(data['USUARIO2DATA']==usuario)]['USUARIO2DATA'].count())\n",
        "produc['2DATA']=lista\n",
        "produc.to_csv(ruta_output+'producción por usuario.csv')\n",
        "produc"
      ],
      "execution_count": 0,
      "outputs": []
    },
    {
      "cell_type": "code",
      "metadata": {
        "id": "AQBpebZKav5c",
        "colab_type": "code",
        "colab": {}
      },
      "source": [
        "print('El total de muestras digitadas por 1er data entry es: ',produc['1DATA'].sum())\n",
        "print('El total de muestras digitadas por 2do data entry es: ',produc['2DATA'].sum())"
      ],
      "execution_count": 0,
      "outputs": []
    },
    {
      "cell_type": "markdown",
      "metadata": {
        "id": "3xR3nthkav5d",
        "colab_type": "text"
      },
      "source": [
        "Volver al [Indice](#indice)"
      ]
    },
    {
      "cell_type": "markdown",
      "metadata": {
        "id": "SvP2ytUFav5d",
        "colab_type": "text"
      },
      "source": [
        "<a id='provincia'></a>\n",
        "***Muestras por provincia***"
      ]
    },
    {
      "cell_type": "code",
      "metadata": {
        "id": "rsma65vqav5e",
        "colab_type": "code",
        "colab": {},
        "outputId": "1f8f7ab6-de3c-4997-eb1b-1713d0379178"
      },
      "source": [
        "data['Provincia'].count()"
      ],
      "execution_count": 0,
      "outputs": [
        {
          "output_type": "execute_result",
          "data": {
            "text/plain": [
              "74677"
            ]
          },
          "metadata": {
            "tags": []
          },
          "execution_count": 180
        }
      ]
    },
    {
      "cell_type": "code",
      "metadata": {
        "id": "UKO24S-Nav5f",
        "colab_type": "code",
        "colab": {}
      },
      "source": [
        "data['Provincia'].value_counts().to_frame()"
      ],
      "execution_count": 0,
      "outputs": []
    },
    {
      "cell_type": "code",
      "metadata": {
        "id": "8dosIcFpav5g",
        "colab_type": "code",
        "colab": {},
        "outputId": "fa8ef53b-a51a-4aca-9671-c2447cd1e8ec"
      },
      "source": [
        "provincia = ['SAN JOSE','ALAJUELA','CARTAGO','HEREDIA','GUANACASTE','PUNTARENAS','LIMON']\n",
        "sns.set_style('darkgrid')\n",
        "sns.countplot(data['Provincia'],order = provincia)\n",
        "plt.xticks(rotation=90)\n",
        "plt.plot(df['Provincia'].value_counts().to_frame().reindex(provincia),'ro-')\n",
        "plt.title('Grafico No. 1: Muestras recibidas por provincia')\n",
        "plt.ylabel('Cantidad de muestras')\n",
        "plt.savefig(ruta_graficos+'muestras por provincia.png')\n",
        "plt.show()"
      ],
      "execution_count": 0,
      "outputs": [
        {
          "output_type": "display_data",
          "data": {
            "image/png": "[encoded data removed]",
            "text/plain": [
              "<Figure size 432x288 with 1 Axes>"
            ]
          },
          "metadata": {
            "tags": []
          }
        }
      ]
    },
    {
      "cell_type": "code",
      "metadata": {
        "id": "afghd4ceav5h",
        "colab_type": "code",
        "colab": {}
      },
      "source": [
        "for prov in data['Provincia'].unique():\n",
        "    print('CANTONES DE PROVINCIA: ' + prov + '\\n\\n', df[df['Provincia'] == prov]['Canton'].value_counts())\n",
        "    print()"
      ],
      "execution_count": 0,
      "outputs": []
    },
    {
      "cell_type": "code",
      "metadata": {
        "id": "6GUAFP70av5i",
        "colab_type": "code",
        "colab": {}
      },
      "source": [
        "# para buscar por número de muestra las inconsistencias de valores ingresados\n",
        "\n",
        "data[(data['Provincia']=='SAN JOSE')&(data['Canton']=='ALAJUELA')]['Muestra']"
      ],
      "execution_count": 0,
      "outputs": []
    },
    {
      "cell_type": "code",
      "metadata": {
        "id": "2XFPLlvSav5i",
        "colab_type": "code",
        "colab": {}
      },
      "source": [
        "for canton in data['Canton'].unique():\n",
        "    print('DISTRITOS DE CANTON: ' + canton + '\\n\\n', data[data['Canton'] == canton]['Distrito'].value_counts())\n",
        "    print()"
      ],
      "execution_count": 0,
      "outputs": []
    },
    {
      "cell_type": "code",
      "metadata": {
        "id": "8EJ7mBfyav5j",
        "colab_type": "code",
        "colab": {}
      },
      "source": [
        "data[(data['Canton']=='SAN JOSE')&(data['Distrito']== 'LOS GUIDO')]['Muestra']"
      ],
      "execution_count": 0,
      "outputs": []
    },
    {
      "cell_type": "markdown",
      "metadata": {
        "id": "y3WNa-sLav5k",
        "colab_type": "text"
      },
      "source": [
        "Volver al [Indice](#indice)"
      ]
    },
    {
      "cell_type": "markdown",
      "metadata": {
        "id": "JxnH5Zuuav5l",
        "colab_type": "text"
      },
      "source": [
        "<a id='jupyter'></a>\n",
        "***Instrucciones para el uso de Jupyter Notebook***"
      ]
    },
    {
      "cell_type": "code",
      "metadata": {
        "id": "sjFeEGSFav5l",
        "colab_type": "code",
        "colab": {}
      },
      "source": [
        ""
      ],
      "execution_count": 0,
      "outputs": []
    },
    {
      "cell_type": "markdown",
      "metadata": {
        "id": "7qiuZvPjav5l",
        "colab_type": "text"
      },
      "source": [
        "Volver al [Indice](#indice)"
      ]
    },
    {
      "cell_type": "markdown",
      "metadata": {
        "id": "rDKAt6hRav5m",
        "colab_type": "text"
      },
      "source": [
        "<a id='markdown'></a>\n",
        "***Instrucciones para escritura en Markdown***"
      ]
    },
    {
      "cell_type": "code",
      "metadata": {
        "id": "MU6UriCkav5m",
        "colab_type": "code",
        "colab": {}
      },
      "source": [
        ""
      ],
      "execution_count": 0,
      "outputs": []
    },
    {
      "cell_type": "markdown",
      "metadata": {
        "id": "-PmJGY4Rav5n",
        "colab_type": "text"
      },
      "source": [
        "Volver al [Indice](#indice)"
      ]
    },
    {
      "cell_type": "markdown",
      "metadata": {
        "id": "g16KJeMJav5n",
        "colab_type": "text"
      },
      "source": [
        "<a id='python'></a>\n",
        "***Descripción de algunas funciones de Python***"
      ]
    },
    {
      "cell_type": "code",
      "metadata": {
        "id": "Y6fyv2CNav5n",
        "colab_type": "code",
        "colab": {}
      },
      "source": [
        ""
      ],
      "execution_count": 0,
      "outputs": []
    },
    {
      "cell_type": "markdown",
      "metadata": {
        "id": "PvYRn249av5o",
        "colab_type": "text"
      },
      "source": [
        "Volver al [Indice](#indice)"
      ]
    }
  ]
}