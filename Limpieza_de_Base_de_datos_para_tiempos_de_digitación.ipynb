{
  "nbformat": 4,
  "nbformat_minor": 0,
  "metadata": {
    "kernelspec": {
      "display_name": "Python 3",
      "language": "python",
      "name": "python3"
    },
    "language_info": {
      "codemirror_mode": {
        "name": "ipython",
        "version": 3
      },
      "file_extension": ".py",
      "mimetype": "text/x-python",
      "name": "python",
      "nbconvert_exporter": "python",
      "pygments_lexer": "ipython3",
      "version": "3.7.3"
    },
    "colab": {
      "name": "Limpieza de Base de datos para tiempos de digitación.ipynb",
      "provenance": [],
      "include_colab_link": true
    }
  },
  "cells": [
    {
      "cell_type": "markdown",
      "metadata": {
        "id": "view-in-github",
        "colab_type": "text"
      },
      "source": [
        "<a href=\"https://colab.research.google.com/github/acamposmcr/Python/blob/master/Limpieza_de_Base_de_datos_para_tiempos_de_digitaci%C3%B3n.ipynb\" target=\"_parent\"><img src=\"https://colab.research.google.com/assets/colab-badge.svg\" alt=\"Open In Colab\"/></a>"
      ]
    },
    {
      "cell_type": "markdown",
      "metadata": {
        "id": "zUmXzhWXajYo",
        "colab_type": "text"
      },
      "source": [
        "## Preparación de los datos para el análisis de los Tiempos de Digitación "
      ]
    },
    {
      "cell_type": "code",
      "metadata": {
        "id": "fuTojopDajYq",
        "colab_type": "code",
        "colab": {}
      },
      "source": [
        "# importando librerías\n",
        "\n",
        "import os\n",
        "import ipywidgets as widgets\n",
        "import numpy as np\n",
        "import pandas as pd\n",
        "\n",
        "ruta_nb=os.getcwd()\n",
        "ruta_data=ruta_nb+'/Data/'"
      ],
      "execution_count": 0,
      "outputs": []
    },
    {
      "cell_type": "code",
      "metadata": {
        "id": "xEr5-IdKajYu",
        "colab_type": "code",
        "colab": {},
        "outputId": "1b53e6c6-af3e-41d1-d961-bd91e9e6ab06"
      },
      "source": [
        "radb=widgets.RadioButtons(options=['CSV','EXCEL'],\n",
        "                          description='Selección:',disabled=False)\n",
        "print('Seleccione el tipo de archivo y luego presione [Shift]+[Enter] en la siguiente celda:')\n",
        "display(radb)"
      ],
      "execution_count": 0,
      "outputs": [
        {
          "output_type": "stream",
          "text": [
            "Seleccione el tipo de archivo y luego presione [Shift]+[Enter] en la siguiente celda:\n"
          ],
          "name": "stdout"
        },
        {
          "output_type": "display_data",
          "data": {
            "application/vnd.jupyter.widget-view+json": {
              "model_id": "86f2039cbdb94887b069d0bfc8856ec4",
              "version_major": 2,
              "version_minor": 0
            },
            "text/plain": [
              "RadioButtons(description='Selección:', options=('CSV', 'EXCEL'), value='CSV')"
            ]
          },
          "metadata": {
            "tags": []
          }
        }
      ]
    },
    {
      "cell_type": "code",
      "metadata": {
        "id": "lrsBAcxJajYy",
        "colab_type": "code",
        "colab": {},
        "outputId": "263a26fe-6015-4a6f-9dce-e320aaaa4584"
      },
      "source": [
        "# cargando el archivo de datos a la variable df\n",
        "\n",
        "if radb.value == 'CSV':\n",
        "    archivo=ruta_data+'Tiempos de digitación 2018.csv'\n",
        "    df=pd.read_csv(archivo, delimiter=';',parse_dates=[0],dayfirst=True)\n",
        "elif radb.value == 'EXCEL':\n",
        "    archivo=ruta_data+'Tiempos de digitación 2018.xlsx'\n",
        "    df=pd.read_excel(archivo,sheet_name='Hoja1')\n",
        "print('Archivo de datos cargado en variable <df>')"
      ],
      "execution_count": 0,
      "outputs": [
        {
          "output_type": "stream",
          "text": [
            "Archivo de datos cargado en variable <df>\n"
          ],
          "name": "stdout"
        }
      ]
    },
    {
      "cell_type": "code",
      "metadata": {
        "id": "JGnWEavrajY1",
        "colab_type": "code",
        "colab": {},
        "outputId": "7fdf16ed-7e33-418d-b8d8-08acc35a6acd"
      },
      "source": [
        "# exploración inicial\n",
        "\n",
        "print('\\nColumnas:',df.columns.to_list())\n",
        "print('\\nFilas:',df.shape[0])\n",
        "print(df['Evento'].value_counts().reindex(['Login','InicioDataEntry','FinDataEntry1','FinDataEntry2']).to_frame())\n",
        "print('\\n\\tTotal: ',df['Evento'].count())"
      ],
      "execution_count": 0,
      "outputs": [
        {
          "output_type": "stream",
          "text": [
            "\n",
            "Columnas: ['Fecha', 'Hora', 'Evento', 'Num Muestra', 'Segundo Data', 'Usuario']\n",
            "\n",
            "Filas: 378446\n",
            "                 Evento\n",
            "Login             87768\n",
            "InicioDataEntry  152533\n",
            "FinDataEntry1     67195\n",
            "FinDataEntry2     70950\n",
            "\n",
            "\tTotal:  378446\n"
          ],
          "name": "stdout"
        }
      ]
    },
    {
      "cell_type": "code",
      "metadata": {
        "id": "n9O6MHObajY3",
        "colab_type": "code",
        "colab": {},
        "outputId": "c1c7c7de-e920-4244-f7d3-a705f5c959bc"
      },
      "source": [
        "# separando InicioDataEntry en InicioDataEntry1 e InicioDataEntry2\n",
        "\n",
        "df.loc[(df['Evento']=='InicioDataEntry')&(df['Segundo Data']=='DBDE'),'Evento']='InicioDataEntry2'\n",
        "df.loc[(df['Evento']=='InicioDataEntry'),'Evento']='InicioDataEntry1'\n",
        "orden=['Login','InicioDataEntry1','InicioDataEntry2','FinDataEntry1','FinDataEntry2']\n",
        "print(df['Evento'].value_counts().reindex(orden).to_frame())\n",
        "print('\\n\\tTotal: ',df['Evento'].count())"
      ],
      "execution_count": 0,
      "outputs": [
        {
          "output_type": "stream",
          "text": [
            "                  Evento\n",
            "Login              87768\n",
            "InicioDataEntry1   75534\n",
            "InicioDataEntry2   76999\n",
            "FinDataEntry1      67195\n",
            "FinDataEntry2      70950\n",
            "\n",
            "\tTotal:  378446\n"
          ],
          "name": "stdout"
        }
      ]
    },
    {
      "cell_type": "code",
      "metadata": {
        "id": "qZI5CjTuajY6",
        "colab_type": "code",
        "colab": {},
        "outputId": "0af9f455-dd6d-422e-9b72-06d8c0a63283"
      },
      "source": [
        "# creando columna nueva [Fecha_hora] y convirtiendo a tipo datetime\n",
        "\n",
        "print('\\nCreando nueva columna y convirtiendo a tipo datetime...')\n",
        "df['Fecha_Hora'] = df['Fecha'].astype(str) + ' ' + df['Hora'].astype(str)\n",
        "df['Fecha_Hora'] = df['Fecha_Hora'].apply(pd.to_datetime)\n",
        "print('\\nColumnas:',df.columns.to_list())\n",
        "print('\\nFilas:',df.shape[0])"
      ],
      "execution_count": 0,
      "outputs": [
        {
          "output_type": "stream",
          "text": [
            "\n",
            "Creando nueva columna y convirtiendo a tipo datetime...\n",
            "\n",
            "Columnas: ['Fecha', 'Hora', 'Evento', 'Num Muestra', 'Segundo Data', 'Usuario', 'Fecha_Hora']\n",
            "\n",
            "Filas: 378446\n"
          ],
          "name": "stdout"
        }
      ]
    },
    {
      "cell_type": "code",
      "metadata": {
        "id": "iQF-tImnajY8",
        "colab_type": "code",
        "colab": {},
        "outputId": "c5c33366-4850-4a29-af3b-84e37b4892de"
      },
      "source": [
        "# verificando valores totales y duplicados en los valores de la columna [Evento]\n",
        "\n",
        "orden=['Login','InicioDataEntry1','InicioDataEntry2','FinDataEntry1','FinDataEntry2']\n",
        "tTotales=0\n",
        "tSinDupl=0\n",
        "print()\n",
        "for evento in df['Evento'].value_counts().reindex(orden).index.tolist():\n",
        "    totales=df[(df['Evento']==evento)]['Num Muestra'].value_counts().sum()\n",
        "    tTotales+=totales\n",
        "    sin_duplicados=df[(df['Evento']==evento)]['Num Muestra'].value_counts().count()\n",
        "    tSinDupl+=sin_duplicados\n",
        "    print('De [{}] hay {} filas, sin duplicados hay {} filas'.format(evento,totales,sin_duplicados))\n",
        "print('\\nEl total de filas en la columna[Eventos] es de {}, sin duplicados es de {}'\n",
        "      .format(tTotales,tSinDupl))  "
      ],
      "execution_count": 0,
      "outputs": [
        {
          "output_type": "stream",
          "text": [
            "\n",
            "De [Login] hay 87768 filas, sin duplicados hay 75234 filas\n",
            "De [InicioDataEntry1] hay 75534 filas, sin duplicados hay 75178 filas\n",
            "De [InicioDataEntry2] hay 76999 filas, sin duplicados hay 75143 filas\n",
            "De [FinDataEntry1] hay 67195 filas, sin duplicados hay 64063 filas\n",
            "De [FinDataEntry2] hay 70950 filas, sin duplicados hay 69026 filas\n",
            "\n",
            "El total de filas en la columna[Eventos] es de 378446, sin duplicados es de 358644\n"
          ],
          "name": "stdout"
        }
      ]
    },
    {
      "cell_type": "code",
      "metadata": {
        "scrolled": true,
        "id": "lP0dO3ZcajY_",
        "colab_type": "code",
        "colab": {},
        "outputId": "647d5a39-5d0b-48bd-d77f-b6c319b5df82"
      },
      "source": [
        "# borrando duplicados en la columna [Evento]\n",
        "\n",
        "for evento in orden:\n",
        "    tmp=df[(df['Evento']==evento)]['Num Muestra'].value_counts().to_frame()\n",
        "    tmp.columns=['cuenta']\n",
        "    listado=tmp[(tmp['cuenta']>1)].index.to_list()\n",
        "    listado2=tmp[(tmp['cuenta']==1)].index.to_list()\n",
        "    cont=0\n",
        "    print('Para <{}> se tienen {} con duplicados, {} sin duplicados, para un total de {}'.\n",
        "         format(evento,len(listado),len(listado2),(len(listado)+len(listado2))))\n",
        "    \n",
        "    prog=widgets.IntProgress(\n",
        "    value=0,\n",
        "    min=1,\n",
        "    max=len(listado),\n",
        "    step=1,\n",
        "    description='Borrando:',\n",
        "    bar_style='', # 'success', 'info', 'warning', 'danger' or ''\n",
        "    orientation='horizontal')\n",
        "    display(prog)\n",
        "    \n",
        "    for num in listado:\n",
        "        cont+=1\n",
        "        max_id = df[(df['Evento']==evento)&(df['Num Muestra']==num)].index.max()\n",
        "        df.drop(df[(df['Evento']==evento)&(df['Num Muestra']==num)&(df.index != max_id)].index,inplace=True)\n",
        "        prog.value=cont\n",
        "    "
      ],
      "execution_count": 0,
      "outputs": [
        {
          "output_type": "stream",
          "text": [
            "Para <Login> se tienen 11868 con duplicados, 63366 sin duplicados, para un total de 75234\n"
          ],
          "name": "stdout"
        },
        {
          "output_type": "display_data",
          "data": {
            "application/vnd.jupyter.widget-view+json": {
              "model_id": "b1721e62213646fc9499d5cff9a82a56",
              "version_major": 2,
              "version_minor": 0
            },
            "text/plain": [
              "IntProgress(value=1, description='Borrando:', max=11868, min=1)"
            ]
          },
          "metadata": {
            "tags": []
          }
        },
        {
          "output_type": "stream",
          "text": [
            "Para <InicioDataEntry1> se tienen 308 con duplicados, 74870 sin duplicados, para un total de 75178\n"
          ],
          "name": "stdout"
        },
        {
          "output_type": "display_data",
          "data": {
            "application/vnd.jupyter.widget-view+json": {
              "model_id": "67ce1064ef394eb89c563f570d6eb3af",
              "version_major": 2,
              "version_minor": 0
            },
            "text/plain": [
              "IntProgress(value=1, description='Borrando:', max=308, min=1)"
            ]
          },
          "metadata": {
            "tags": []
          }
        },
        {
          "output_type": "stream",
          "text": [
            "Para <InicioDataEntry2> se tienen 1104 con duplicados, 74039 sin duplicados, para un total de 75143\n"
          ],
          "name": "stdout"
        },
        {
          "output_type": "display_data",
          "data": {
            "application/vnd.jupyter.widget-view+json": {
              "model_id": "e3d235746775466cbf37dea2918770b9",
              "version_major": 2,
              "version_minor": 0
            },
            "text/plain": [
              "IntProgress(value=1, description='Borrando:', max=1104, min=1)"
            ]
          },
          "metadata": {
            "tags": []
          }
        },
        {
          "output_type": "stream",
          "text": [
            "Para <FinDataEntry1> se tienen 2358 con duplicados, 61705 sin duplicados, para un total de 64063\n"
          ],
          "name": "stdout"
        },
        {
          "output_type": "display_data",
          "data": {
            "application/vnd.jupyter.widget-view+json": {
              "model_id": "877d75c816e741fea7a0299c8b244aa4",
              "version_major": 2,
              "version_minor": 0
            },
            "text/plain": [
              "IntProgress(value=1, description='Borrando:', max=2358, min=1)"
            ]
          },
          "metadata": {
            "tags": []
          }
        },
        {
          "output_type": "stream",
          "text": [
            "Para <FinDataEntry2> se tienen 1814 con duplicados, 67212 sin duplicados, para un total de 69026\n"
          ],
          "name": "stdout"
        },
        {
          "output_type": "display_data",
          "data": {
            "application/vnd.jupyter.widget-view+json": {
              "model_id": "950300c0547e4502a9f0189787fae376",
              "version_major": 2,
              "version_minor": 0
            },
            "text/plain": [
              "IntProgress(value=1, description='Borrando:', max=1814, min=1)"
            ]
          },
          "metadata": {
            "tags": []
          }
        }
      ]
    },
    {
      "cell_type": "code",
      "metadata": {
        "id": "a1-4RrpaajZB",
        "colab_type": "code",
        "colab": {},
        "outputId": "3863f4e4-7861-4f53-b101-3440f835b10d"
      },
      "source": [
        "orden=['Login','InicioDataEntry1','InicioDataEntry2','FinDataEntry1','FinDataEntry2']\n",
        "tTotales=0\n",
        "tSinDupl=0\n",
        "print()\n",
        "for evento in df['Evento'].value_counts().reindex(orden).index.tolist():\n",
        "    totales=df[(df['Evento']==evento)]['Num Muestra'].value_counts().sum()\n",
        "    tTotales+=totales\n",
        "    sin_duplicados=df[(df['Evento']==evento)]['Num Muestra'].value_counts().count()\n",
        "    tSinDupl+=sin_duplicados\n",
        "    print('De [{}] hay {} filas, sin duplicados hay {} filas'.format(evento,totales,sin_duplicados))\n",
        "print('\\nEl total de filas en la columna[Eventos] es de {}, sin duplicados es de {}'.format(tTotales,tSinDupl))  "
      ],
      "execution_count": 0,
      "outputs": [
        {
          "output_type": "stream",
          "text": [
            "\n",
            "De [Login] hay 75234 filas, sin duplicados hay 75234 filas\n",
            "De [InicioDataEntry1] hay 75178 filas, sin duplicados hay 75178 filas\n",
            "De [InicioDataEntry2] hay 75143 filas, sin duplicados hay 75143 filas\n",
            "De [FinDataEntry1] hay 64063 filas, sin duplicados hay 64063 filas\n",
            "De [FinDataEntry2] hay 69026 filas, sin duplicados hay 69026 filas\n",
            "\n",
            "El total de filas en la columna[Eventos] es de 358644, sin duplicados es de 358644\n"
          ],
          "name": "stdout"
        }
      ]
    },
    {
      "cell_type": "code",
      "metadata": {
        "id": "9CY-4gV6ajZD",
        "colab_type": "code",
        "colab": {}
      },
      "source": [
        "df.to_csv(ruta_data+'Tiempo_Digitación_Modif.csv',index=False)"
      ],
      "execution_count": 0,
      "outputs": []
    },
    {
      "cell_type": "code",
      "metadata": {
        "id": "YGZxAVJyajZE",
        "colab_type": "code",
        "colab": {}
      },
      "source": [
        ""
      ],
      "execution_count": 0,
      "outputs": []
    }
  ]
}