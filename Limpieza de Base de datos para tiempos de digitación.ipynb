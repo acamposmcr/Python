{
 "cells": [
  {
   "cell_type": "markdown",
   "metadata": {},
   "source": [
    "## Preparación de los datos para el análisis de los Tiempos de Digitación "
   ]
  },
  {
   "cell_type": "code",
   "execution_count": 1,
   "metadata": {},
   "outputs": [],
   "source": [
    "# importando librerías\n",
    "\n",
    "import os\n",
    "import ipywidgets as widgets\n",
    "import numpy as np\n",
    "import pandas as pd\n",
    "\n",
    "ruta_nb=os.getcwd()\n",
    "ruta_data=ruta_nb+'/Data/'"
   ]
  },
  {
   "cell_type": "code",
   "execution_count": 2,
   "metadata": {},
   "outputs": [
    {
     "name": "stdout",
     "output_type": "stream",
     "text": [
      "Seleccione el tipo de archivo y luego presione [Shift]+[Enter] en la siguiente celda:\n"
     ]
    },
    {
     "data": {
      "application/vnd.jupyter.widget-view+json": {
       "model_id": "86f2039cbdb94887b069d0bfc8856ec4",
       "version_major": 2,
       "version_minor": 0
      },
      "text/plain": [
       "RadioButtons(description='Selección:', options=('CSV', 'EXCEL'), value='CSV')"
      ]
     },
     "metadata": {},
     "output_type": "display_data"
    }
   ],
   "source": [
    "radb=widgets.RadioButtons(options=['CSV','EXCEL'],\n",
    "                          description='Selección:',disabled=False)\n",
    "print('Seleccione el tipo de archivo y luego presione [Shift]+[Enter] en la siguiente celda:')\n",
    "display(radb)"
   ]
  },
  {
   "cell_type": "code",
   "execution_count": 3,
   "metadata": {},
   "outputs": [
    {
     "name": "stdout",
     "output_type": "stream",
     "text": [
      "Archivo de datos cargado en variable <df>\n"
     ]
    }
   ],
   "source": [
    "# cargando el archivo de datos a la variable df\n",
    "\n",
    "if radb.value == 'CSV':\n",
    "    archivo=ruta_data+'Tiempos de digitación 2018.csv'\n",
    "    df=pd.read_csv(archivo, delimiter=';',parse_dates=[0],dayfirst=True)\n",
    "elif radb.value == 'EXCEL':\n",
    "    archivo=ruta_data+'Tiempos de digitación 2018.xlsx'\n",
    "    df=pd.read_excel(archivo,sheet_name='Hoja1')\n",
    "print('Archivo de datos cargado en variable <df>')"
   ]
  },
  {
   "cell_type": "code",
   "execution_count": 4,
   "metadata": {},
   "outputs": [
    {
     "name": "stdout",
     "output_type": "stream",
     "text": [
      "\n",
      "Columnas: ['Fecha', 'Hora', 'Evento', 'Num Muestra', 'Segundo Data', 'Usuario']\n",
      "\n",
      "Filas: 378446\n",
      "                 Evento\n",
      "Login             87768\n",
      "InicioDataEntry  152533\n",
      "FinDataEntry1     67195\n",
      "FinDataEntry2     70950\n",
      "\n",
      "\tTotal:  378446\n"
     ]
    }
   ],
   "source": [
    "# exploración inicial\n",
    "\n",
    "print('\\nColumnas:',df.columns.to_list())\n",
    "print('\\nFilas:',df.shape[0])\n",
    "print(df['Evento'].value_counts().reindex(['Login','InicioDataEntry','FinDataEntry1','FinDataEntry2']).to_frame())\n",
    "print('\\n\\tTotal: ',df['Evento'].count())"
   ]
  },
  {
   "cell_type": "code",
   "execution_count": 5,
   "metadata": {},
   "outputs": [
    {
     "name": "stdout",
     "output_type": "stream",
     "text": [
      "                  Evento\n",
      "Login              87768\n",
      "InicioDataEntry1   75534\n",
      "InicioDataEntry2   76999\n",
      "FinDataEntry1      67195\n",
      "FinDataEntry2      70950\n",
      "\n",
      "\tTotal:  378446\n"
     ]
    }
   ],
   "source": [
    "# separando InicioDataEntry en InicioDataEntry1 e InicioDataEntry2\n",
    "\n",
    "df.loc[(df['Evento']=='InicioDataEntry')&(df['Segundo Data']=='DBDE'),'Evento']='InicioDataEntry2'\n",
    "df.loc[(df['Evento']=='InicioDataEntry'),'Evento']='InicioDataEntry1'\n",
    "orden=['Login','InicioDataEntry1','InicioDataEntry2','FinDataEntry1','FinDataEntry2']\n",
    "print(df['Evento'].value_counts().reindex(orden).to_frame())\n",
    "print('\\n\\tTotal: ',df['Evento'].count())"
   ]
  },
  {
   "cell_type": "code",
   "execution_count": 6,
   "metadata": {},
   "outputs": [
    {
     "name": "stdout",
     "output_type": "stream",
     "text": [
      "\n",
      "Creando nueva columna y convirtiendo a tipo datetime...\n",
      "\n",
      "Columnas: ['Fecha', 'Hora', 'Evento', 'Num Muestra', 'Segundo Data', 'Usuario', 'Fecha_Hora']\n",
      "\n",
      "Filas: 378446\n"
     ]
    }
   ],
   "source": [
    "# creando columna nueva [Fecha_hora] y convirtiendo a tipo datetime\n",
    "\n",
    "print('\\nCreando nueva columna y convirtiendo a tipo datetime...')\n",
    "df['Fecha_Hora'] = df['Fecha'].astype(str) + ' ' + df['Hora'].astype(str)\n",
    "df['Fecha_Hora'] = df['Fecha_Hora'].apply(pd.to_datetime)\n",
    "print('\\nColumnas:',df.columns.to_list())\n",
    "print('\\nFilas:',df.shape[0])"
   ]
  },
  {
   "cell_type": "code",
   "execution_count": 7,
   "metadata": {},
   "outputs": [
    {
     "name": "stdout",
     "output_type": "stream",
     "text": [
      "\n",
      "De [Login] hay 87768 filas, sin duplicados hay 75234 filas\n",
      "De [InicioDataEntry1] hay 75534 filas, sin duplicados hay 75178 filas\n",
      "De [InicioDataEntry2] hay 76999 filas, sin duplicados hay 75143 filas\n",
      "De [FinDataEntry1] hay 67195 filas, sin duplicados hay 64063 filas\n",
      "De [FinDataEntry2] hay 70950 filas, sin duplicados hay 69026 filas\n",
      "\n",
      "El total de filas en la columna[Eventos] es de 378446, sin duplicados es de 358644\n"
     ]
    }
   ],
   "source": [
    "# verificando valores totales y duplicados en los valores de la columna [Evento]\n",
    "\n",
    "orden=['Login','InicioDataEntry1','InicioDataEntry2','FinDataEntry1','FinDataEntry2']\n",
    "tTotales=0\n",
    "tSinDupl=0\n",
    "print()\n",
    "for evento in df['Evento'].value_counts().reindex(orden).index.tolist():\n",
    "    totales=df[(df['Evento']==evento)]['Num Muestra'].value_counts().sum()\n",
    "    tTotales+=totales\n",
    "    sin_duplicados=df[(df['Evento']==evento)]['Num Muestra'].value_counts().count()\n",
    "    tSinDupl+=sin_duplicados\n",
    "    print('De [{}] hay {} filas, sin duplicados hay {} filas'.format(evento,totales,sin_duplicados))\n",
    "print('\\nEl total de filas en la columna[Eventos] es de {}, sin duplicados es de {}'\n",
    "      .format(tTotales,tSinDupl))  "
   ]
  },
  {
   "cell_type": "code",
   "execution_count": 8,
   "metadata": {
    "scrolled": true
   },
   "outputs": [
    {
     "name": "stdout",
     "output_type": "stream",
     "text": [
      "Para <Login> se tienen 11868 con duplicados, 63366 sin duplicados, para un total de 75234\n"
     ]
    },
    {
     "data": {
      "application/vnd.jupyter.widget-view+json": {
       "model_id": "b1721e62213646fc9499d5cff9a82a56",
       "version_major": 2,
       "version_minor": 0
      },
      "text/plain": [
       "IntProgress(value=1, description='Borrando:', max=11868, min=1)"
      ]
     },
     "metadata": {},
     "output_type": "display_data"
    },
    {
     "name": "stdout",
     "output_type": "stream",
     "text": [
      "Para <InicioDataEntry1> se tienen 308 con duplicados, 74870 sin duplicados, para un total de 75178\n"
     ]
    },
    {
     "data": {
      "application/vnd.jupyter.widget-view+json": {
       "model_id": "67ce1064ef394eb89c563f570d6eb3af",
       "version_major": 2,
       "version_minor": 0
      },
      "text/plain": [
       "IntProgress(value=1, description='Borrando:', max=308, min=1)"
      ]
     },
     "metadata": {},
     "output_type": "display_data"
    },
    {
     "name": "stdout",
     "output_type": "stream",
     "text": [
      "Para <InicioDataEntry2> se tienen 1104 con duplicados, 74039 sin duplicados, para un total de 75143\n"
     ]
    },
    {
     "data": {
      "application/vnd.jupyter.widget-view+json": {
       "model_id": "e3d235746775466cbf37dea2918770b9",
       "version_major": 2,
       "version_minor": 0
      },
      "text/plain": [
       "IntProgress(value=1, description='Borrando:', max=1104, min=1)"
      ]
     },
     "metadata": {},
     "output_type": "display_data"
    },
    {
     "name": "stdout",
     "output_type": "stream",
     "text": [
      "Para <FinDataEntry1> se tienen 2358 con duplicados, 61705 sin duplicados, para un total de 64063\n"
     ]
    },
    {
     "data": {
      "application/vnd.jupyter.widget-view+json": {
       "model_id": "877d75c816e741fea7a0299c8b244aa4",
       "version_major": 2,
       "version_minor": 0
      },
      "text/plain": [
       "IntProgress(value=1, description='Borrando:', max=2358, min=1)"
      ]
     },
     "metadata": {},
     "output_type": "display_data"
    },
    {
     "name": "stdout",
     "output_type": "stream",
     "text": [
      "Para <FinDataEntry2> se tienen 1814 con duplicados, 67212 sin duplicados, para un total de 69026\n"
     ]
    },
    {
     "data": {
      "application/vnd.jupyter.widget-view+json": {
       "model_id": "950300c0547e4502a9f0189787fae376",
       "version_major": 2,
       "version_minor": 0
      },
      "text/plain": [
       "IntProgress(value=1, description='Borrando:', max=1814, min=1)"
      ]
     },
     "metadata": {},
     "output_type": "display_data"
    }
   ],
   "source": [
    "# borrando duplicados en la columna [Evento]\n",
    "\n",
    "for evento in orden:\n",
    "    tmp=df[(df['Evento']==evento)]['Num Muestra'].value_counts().to_frame()\n",
    "    tmp.columns=['cuenta']\n",
    "    listado=tmp[(tmp['cuenta']>1)].index.to_list()\n",
    "    listado2=tmp[(tmp['cuenta']==1)].index.to_list()\n",
    "    cont=0\n",
    "    print('Para <{}> se tienen {} con duplicados, {} sin duplicados, para un total de {}'.\n",
    "         format(evento,len(listado),len(listado2),(len(listado)+len(listado2))))\n",
    "    \n",
    "    prog=widgets.IntProgress(\n",
    "    value=0,\n",
    "    min=1,\n",
    "    max=len(listado),\n",
    "    step=1,\n",
    "    description='Borrando:',\n",
    "    bar_style='', # 'success', 'info', 'warning', 'danger' or ''\n",
    "    orientation='horizontal')\n",
    "    display(prog)\n",
    "    \n",
    "    for num in listado:\n",
    "        cont+=1\n",
    "        max_id = df[(df['Evento']==evento)&(df['Num Muestra']==num)].index.max()\n",
    "        df.drop(df[(df['Evento']==evento)&(df['Num Muestra']==num)&(df.index != max_id)].index,inplace=True)\n",
    "        prog.value=cont\n",
    "    "
   ]
  },
  {
   "cell_type": "code",
   "execution_count": 9,
   "metadata": {},
   "outputs": [
    {
     "name": "stdout",
     "output_type": "stream",
     "text": [
      "\n",
      "De [Login] hay 75234 filas, sin duplicados hay 75234 filas\n",
      "De [InicioDataEntry1] hay 75178 filas, sin duplicados hay 75178 filas\n",
      "De [InicioDataEntry2] hay 75143 filas, sin duplicados hay 75143 filas\n",
      "De [FinDataEntry1] hay 64063 filas, sin duplicados hay 64063 filas\n",
      "De [FinDataEntry2] hay 69026 filas, sin duplicados hay 69026 filas\n",
      "\n",
      "El total de filas en la columna[Eventos] es de 358644, sin duplicados es de 358644\n"
     ]
    }
   ],
   "source": [
    "orden=['Login','InicioDataEntry1','InicioDataEntry2','FinDataEntry1','FinDataEntry2']\n",
    "tTotales=0\n",
    "tSinDupl=0\n",
    "print()\n",
    "for evento in df['Evento'].value_counts().reindex(orden).index.tolist():\n",
    "    totales=df[(df['Evento']==evento)]['Num Muestra'].value_counts().sum()\n",
    "    tTotales+=totales\n",
    "    sin_duplicados=df[(df['Evento']==evento)]['Num Muestra'].value_counts().count()\n",
    "    tSinDupl+=sin_duplicados\n",
    "    print('De [{}] hay {} filas, sin duplicados hay {} filas'.format(evento,totales,sin_duplicados))\n",
    "print('\\nEl total de filas en la columna[Eventos] es de {}, sin duplicados es de {}'.format(tTotales,tSinDupl))  "
   ]
  },
  {
   "cell_type": "code",
   "execution_count": 10,
   "metadata": {},
   "outputs": [],
   "source": [
    "df.to_csv(ruta_data+'Tiempo_Digitación_Modif.csv',index=False)"
   ]
  },
  {
   "cell_type": "code",
   "execution_count": null,
   "metadata": {},
   "outputs": [],
   "source": []
  }
 ],
 "metadata": {
  "kernelspec": {
   "display_name": "Python 3",
   "language": "python",
   "name": "python3"
  },
  "language_info": {
   "codemirror_mode": {
    "name": "ipython",
    "version": 3
   },
   "file_extension": ".py",
   "mimetype": "text/x-python",
   "name": "python",
   "nbconvert_exporter": "python",
   "pygments_lexer": "ipython3",
   "version": "3.7.3"
  }
 },
 "nbformat": 4,
 "nbformat_minor": 2
}
